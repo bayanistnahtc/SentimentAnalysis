{
 "cells": [
  {
   "cell_type": "markdown",
   "metadata": {},
   "source": [
    "<h2> First Approach: TF/IDF </h2>"
   ]
  },
  {
   "cell_type": "code",
   "execution_count": 1,
   "metadata": {},
   "outputs": [],
   "source": [
    "# --- Preprocessing ---\n",
    "import pandas as pd\n",
    "from sklearn.utils import resample\n",
    "\n",
    "# --- Processing ---\n",
    "import re\n",
    "from sklearn.utils import resample\n",
    "from sklearn.feature_extraction.text import TfidfVectorizer\n",
    "from sklearn.pipeline import Pipeline\n",
    "from sklearn.feature_extraction.text import CountVectorizer\n",
    "from sklearn.feature_extraction.text import TfidfTransformer\n",
    "from sklearn.linear_model import SGDClassifier\n",
    "from sklearn.preprocessing import LabelEncoder\n",
    "\n",
    "# --- Postprocessing ---\n",
    "from sklearn.model_selection import train_test_split\n",
    "from sklearn.metrics import f1_score"
   ]
  },
  {
   "cell_type": "code",
   "execution_count": 2,
   "metadata": {},
   "outputs": [
    {
     "name": "stdout",
     "output_type": "stream",
     "text": [
      "Column names: Index(['sentiment', 'content'], dtype='object')\n",
      "Train length: 30000\n",
      "Test length: 10000 \n"
     ]
    }
   ],
   "source": [
    "# Reading the files\n",
    "train = pd.read_csv('1train_data.csv',usecols=['content','sentiment'])\n",
    "test = pd.read_csv('1test_data.csv')\n",
    "pd.set_option('display.max_colwidth', -1)\n",
    "\n",
    "print('Column names: %s'%(train.columns))\n",
    "print('Train length: %s'%(len(train)))\n",
    "print('Test length: %s '%(len(test)))"
   ]
  },
  {
   "cell_type": "code",
   "execution_count": 16,
   "metadata": {},
   "outputs": [
    {
     "data": {
      "text/html": [
       "<div>\n",
       "<style scoped>\n",
       "    .dataframe tbody tr th:only-of-type {\n",
       "        vertical-align: middle;\n",
       "    }\n",
       "\n",
       "    .dataframe tbody tr th {\n",
       "        vertical-align: top;\n",
       "    }\n",
       "\n",
       "    .dataframe thead th {\n",
       "        text-align: right;\n",
       "    }\n",
       "</style>\n",
       "<table border=\"1\" class=\"dataframe\">\n",
       "  <thead>\n",
       "    <tr style=\"text-align: right;\">\n",
       "      <th></th>\n",
       "      <th>sentiment</th>\n",
       "      <th>content</th>\n",
       "      <th>target</th>\n",
       "    </tr>\n",
       "  </thead>\n",
       "  <tbody>\n",
       "    <tr>\n",
       "      <th>29995</th>\n",
       "      <td>happiness</td>\n",
       "      <td>i had a great date last nighttried to find the cdcaves with daniel  it was hilariously fun</td>\n",
       "      <td>5</td>\n",
       "    </tr>\n",
       "    <tr>\n",
       "      <th>29996</th>\n",
       "      <td>sadness</td>\n",
       "      <td>with alex</td>\n",
       "      <td>10</td>\n",
       "    </tr>\n",
       "    <tr>\n",
       "      <th>29997</th>\n",
       "      <td>happiness</td>\n",
       "      <td>that is comedy  good luck my friend</td>\n",
       "      <td>5</td>\n",
       "    </tr>\n",
       "    <tr>\n",
       "      <th>29998</th>\n",
       "      <td>fun</td>\n",
       "      <td>stephs grad party gr8 shoved cake in her face watchd sis bitch slap a boy ate good food  satisfied</td>\n",
       "      <td>4</td>\n",
       "    </tr>\n",
       "    <tr>\n",
       "      <th>29999</th>\n",
       "      <td>happiness</td>\n",
       "      <td>sweeeeet  san fran is awesome  love it there</td>\n",
       "      <td>5</td>\n",
       "    </tr>\n",
       "  </tbody>\n",
       "</table>\n",
       "</div>"
      ],
      "text/plain": [
       "       sentiment  \\\n",
       "29995  happiness   \n",
       "29996  sadness     \n",
       "29997  happiness   \n",
       "29998  fun         \n",
       "29999  happiness   \n",
       "\n",
       "                                                                                                  content  \\\n",
       "29995  i had a great date last nighttried to find the cdcaves with daniel  it was hilariously fun           \n",
       "29996  with alex                                                                                            \n",
       "29997   that is comedy  good luck my friend                                                                 \n",
       "29998  stephs grad party gr8 shoved cake in her face watchd sis bitch slap a boy ate good food  satisfied   \n",
       "29999   sweeeeet  san fran is awesome  love it there                                                        \n",
       "\n",
       "       target  \n",
       "29995  5       \n",
       "29996  10      \n",
       "29997  5       \n",
       "29998  4       \n",
       "29999  5       "
      ]
     },
     "execution_count": 16,
     "metadata": {},
     "output_type": "execute_result"
    }
   ],
   "source": [
    "train.tail()"
   ]
  },
  {
   "cell_type": "code",
   "execution_count": 4,
   "metadata": {},
   "outputs": [
    {
     "data": {
      "text/html": [
       "<div>\n",
       "<style scoped>\n",
       "    .dataframe tbody tr th:only-of-type {\n",
       "        vertical-align: middle;\n",
       "    }\n",
       "\n",
       "    .dataframe tbody tr th {\n",
       "        vertical-align: top;\n",
       "    }\n",
       "\n",
       "    .dataframe thead th {\n",
       "        text-align: right;\n",
       "    }\n",
       "</style>\n",
       "<table border=\"1\" class=\"dataframe\">\n",
       "  <thead>\n",
       "    <tr style=\"text-align: right;\">\n",
       "      <th></th>\n",
       "      <th>sentiment</th>\n",
       "      <th>content</th>\n",
       "    </tr>\n",
       "  </thead>\n",
       "  <tbody>\n",
       "    <tr>\n",
       "      <th>29995</th>\n",
       "      <td>happiness</td>\n",
       "      <td>i had a great date last nighttried to find the cdcaves with daniel  it was hilariously fun</td>\n",
       "    </tr>\n",
       "    <tr>\n",
       "      <th>29996</th>\n",
       "      <td>sadness</td>\n",
       "      <td>with alex</td>\n",
       "    </tr>\n",
       "    <tr>\n",
       "      <th>29997</th>\n",
       "      <td>happiness</td>\n",
       "      <td>that is comedy  good luck my friend</td>\n",
       "    </tr>\n",
       "    <tr>\n",
       "      <th>29998</th>\n",
       "      <td>fun</td>\n",
       "      <td>stephs grad party gr8 shoved cake in her face watchd sis bitch slap a boy ate good food  satisfied</td>\n",
       "    </tr>\n",
       "    <tr>\n",
       "      <th>29999</th>\n",
       "      <td>happiness</td>\n",
       "      <td>sweeeeet  san fran is awesome  love it there</td>\n",
       "    </tr>\n",
       "  </tbody>\n",
       "</table>\n",
       "</div>"
      ],
      "text/plain": [
       "       sentiment  \\\n",
       "29995  happiness   \n",
       "29996  sadness     \n",
       "29997  happiness   \n",
       "29998  fun         \n",
       "29999  happiness   \n",
       "\n",
       "                                                                                                  content  \n",
       "29995  i had a great date last nighttried to find the cdcaves with daniel  it was hilariously fun          \n",
       "29996  with alex                                                                                           \n",
       "29997   that is comedy  good luck my friend                                                                \n",
       "29998  stephs grad party gr8 shoved cake in her face watchd sis bitch slap a boy ate good food  satisfied  \n",
       "29999   sweeeeet  san fran is awesome  love it there                                                       "
      ]
     },
     "execution_count": 4,
     "metadata": {},
     "output_type": "execute_result"
    }
   ],
   "source": [
    "# Tweets cleaning\n",
    "def clean_text(df,text_field):\n",
    "    df[text_field] = df[text_field].str.lower()\n",
    "    mystring = r\"(@[A-Za-z0-9]+)|([^0-9A-Za-z \\t])|(\\w+:\\/\\/\\S+)|^rt|http.+?\"\n",
    "    # the first filter is capture everything eclosed that starts with an @\n",
    "    # and that has any single character from the range A-Z or a-z or 0-9 with more\n",
    "    # than one element inside of that\n",
    "    # the second filter is capture everything that is not a number, a lower or upper\n",
    "    # case letter after the last line\n",
    "    df[text_field] = df[text_field].apply(lambda element: re.sub(mystring,\"\",element))\n",
    "    return df\n",
    "\n",
    "train_clean = clean_text(train,'content')\n",
    "test_clean = clean_text(test,'content')\n",
    "train_clean.tail()"
   ]
  },
  {
   "cell_type": "code",
   "execution_count": 5,
   "metadata": {},
   "outputs": [
    {
     "name": "stdout",
     "output_type": "stream",
     "text": [
      "Train length: 30000\n",
      "Test length: 10000 \n"
     ]
    }
   ],
   "source": [
    "print('Train length: %s'%(len(train)))\n",
    "print('Test length: %s '%(len(test)))"
   ]
  },
  {
   "cell_type": "code",
   "execution_count": 6,
   "metadata": {},
   "outputs": [
    {
     "name": "stdout",
     "output_type": "stream",
     "text": [
      "Sentiment labels: ['neutral', 'boredom', 'enthusiasm', 'hate', 'worry', 'relief', 'empty', 'love', 'surprise', 'anger', 'sadness', 'fun', 'happiness'] \n",
      "\n",
      "Number of sentiments: 13 \n"
     ]
    }
   ],
   "source": [
    "sentiments = list(set(train_clean['sentiment']))\n",
    "how_many_sentiments = len(sentiments)\n",
    "print('Sentiment labels: %s \\n\\nNumber of sentiments: %s '%(sentiments,how_many_sentiments))"
   ]
  },
  {
   "cell_type": "code",
   "execution_count": 7,
   "metadata": {},
   "outputs": [
    {
     "data": {
      "text/html": [
       "<div>\n",
       "<style scoped>\n",
       "    .dataframe tbody tr th:only-of-type {\n",
       "        vertical-align: middle;\n",
       "    }\n",
       "\n",
       "    .dataframe tbody tr th {\n",
       "        vertical-align: top;\n",
       "    }\n",
       "\n",
       "    .dataframe thead th {\n",
       "        text-align: right;\n",
       "    }\n",
       "</style>\n",
       "<table border=\"1\" class=\"dataframe\">\n",
       "  <thead>\n",
       "    <tr style=\"text-align: right;\">\n",
       "      <th></th>\n",
       "      <th>sentiment</th>\n",
       "      <th>content</th>\n",
       "      <th>target</th>\n",
       "    </tr>\n",
       "  </thead>\n",
       "  <tbody>\n",
       "    <tr>\n",
       "      <th>29995</th>\n",
       "      <td>happiness</td>\n",
       "      <td>i had a great date last nighttried to find the cdcaves with daniel  it was hilariously fun</td>\n",
       "      <td>5</td>\n",
       "    </tr>\n",
       "    <tr>\n",
       "      <th>29996</th>\n",
       "      <td>sadness</td>\n",
       "      <td>with alex</td>\n",
       "      <td>10</td>\n",
       "    </tr>\n",
       "    <tr>\n",
       "      <th>29997</th>\n",
       "      <td>happiness</td>\n",
       "      <td>that is comedy  good luck my friend</td>\n",
       "      <td>5</td>\n",
       "    </tr>\n",
       "    <tr>\n",
       "      <th>29998</th>\n",
       "      <td>fun</td>\n",
       "      <td>stephs grad party gr8 shoved cake in her face watchd sis bitch slap a boy ate good food  satisfied</td>\n",
       "      <td>4</td>\n",
       "    </tr>\n",
       "    <tr>\n",
       "      <th>29999</th>\n",
       "      <td>happiness</td>\n",
       "      <td>sweeeeet  san fran is awesome  love it there</td>\n",
       "      <td>5</td>\n",
       "    </tr>\n",
       "  </tbody>\n",
       "</table>\n",
       "</div>"
      ],
      "text/plain": [
       "       sentiment  \\\n",
       "29995  happiness   \n",
       "29996  sadness     \n",
       "29997  happiness   \n",
       "29998  fun         \n",
       "29999  happiness   \n",
       "\n",
       "                                                                                                  content  \\\n",
       "29995  i had a great date last nighttried to find the cdcaves with daniel  it was hilariously fun           \n",
       "29996  with alex                                                                                            \n",
       "29997   that is comedy  good luck my friend                                                                 \n",
       "29998  stephs grad party gr8 shoved cake in her face watchd sis bitch slap a boy ate good food  satisfied   \n",
       "29999   sweeeeet  san fran is awesome  love it there                                                        \n",
       "\n",
       "       target  \n",
       "29995  5       \n",
       "29996  10      \n",
       "29997  5       \n",
       "29998  4       \n",
       "29999  5       "
      ]
     },
     "execution_count": 7,
     "metadata": {},
     "output_type": "execute_result"
    }
   ],
   "source": [
    "le = LabelEncoder()\n",
    "train_clean['target'] = le.fit_transform(train_clean['sentiment'])\n",
    "train_clean.tail()"
   ]
  },
  {
   "cell_type": "code",
   "execution_count": 10,
   "metadata": {},
   "outputs": [
    {
     "data": {
      "text/html": [
       "<div>\n",
       "<style scoped>\n",
       "    .dataframe tbody tr th:only-of-type {\n",
       "        vertical-align: middle;\n",
       "    }\n",
       "\n",
       "    .dataframe tbody tr th {\n",
       "        vertical-align: top;\n",
       "    }\n",
       "\n",
       "    .dataframe thead th {\n",
       "        text-align: right;\n",
       "    }\n",
       "</style>\n",
       "<table border=\"1\" class=\"dataframe\">\n",
       "  <thead>\n",
       "    <tr style=\"text-align: right;\">\n",
       "      <th></th>\n",
       "      <th>content</th>\n",
       "      <th>target</th>\n",
       "    </tr>\n",
       "    <tr>\n",
       "      <th>sentiment</th>\n",
       "      <th></th>\n",
       "      <th></th>\n",
       "    </tr>\n",
       "  </thead>\n",
       "  <tbody>\n",
       "    <tr>\n",
       "      <th>anger</th>\n",
       "      <td>98</td>\n",
       "      <td>98</td>\n",
       "    </tr>\n",
       "    <tr>\n",
       "      <th>boredom</th>\n",
       "      <td>157</td>\n",
       "      <td>157</td>\n",
       "    </tr>\n",
       "    <tr>\n",
       "      <th>empty</th>\n",
       "      <td>659</td>\n",
       "      <td>659</td>\n",
       "    </tr>\n",
       "    <tr>\n",
       "      <th>enthusiasm</th>\n",
       "      <td>522</td>\n",
       "      <td>522</td>\n",
       "    </tr>\n",
       "    <tr>\n",
       "      <th>fun</th>\n",
       "      <td>1088</td>\n",
       "      <td>1088</td>\n",
       "    </tr>\n",
       "    <tr>\n",
       "      <th>happiness</th>\n",
       "      <td>2986</td>\n",
       "      <td>2986</td>\n",
       "    </tr>\n",
       "    <tr>\n",
       "      <th>hate</th>\n",
       "      <td>1187</td>\n",
       "      <td>1187</td>\n",
       "    </tr>\n",
       "    <tr>\n",
       "      <th>love</th>\n",
       "      <td>2068</td>\n",
       "      <td>2068</td>\n",
       "    </tr>\n",
       "    <tr>\n",
       "      <th>neutral</th>\n",
       "      <td>6340</td>\n",
       "      <td>6340</td>\n",
       "    </tr>\n",
       "    <tr>\n",
       "      <th>relief</th>\n",
       "      <td>1021</td>\n",
       "      <td>1021</td>\n",
       "    </tr>\n",
       "    <tr>\n",
       "      <th>sadness</th>\n",
       "      <td>4828</td>\n",
       "      <td>4828</td>\n",
       "    </tr>\n",
       "    <tr>\n",
       "      <th>surprise</th>\n",
       "      <td>1613</td>\n",
       "      <td>1613</td>\n",
       "    </tr>\n",
       "    <tr>\n",
       "      <th>worry</th>\n",
       "      <td>7433</td>\n",
       "      <td>7433</td>\n",
       "    </tr>\n",
       "  </tbody>\n",
       "</table>\n",
       "</div>"
      ],
      "text/plain": [
       "            content  target\n",
       "sentiment                  \n",
       "anger       98       98    \n",
       "boredom     157      157   \n",
       "empty       659      659   \n",
       "enthusiasm  522      522   \n",
       "fun         1088     1088  \n",
       "happiness   2986     2986  \n",
       "hate        1187     1187  \n",
       "love        2068     2068  \n",
       "neutral     6340     6340  \n",
       "relief      1021     1021  \n",
       "sadness     4828     4828  \n",
       "surprise    1613     1613  \n",
       "worry       7433     7433  "
      ]
     },
     "execution_count": 10,
     "metadata": {},
     "output_type": "execute_result"
    }
   ],
   "source": [
    "percentage = train_clean.groupby(['sentiment']).count()\n",
    "percentage"
   ]
  },
  {
   "cell_type": "code",
   "execution_count": 12,
   "metadata": {},
   "outputs": [
    {
     "data": {
      "image/png": "[encoded data removed]",
      "text/plain": [
       "<Figure size 576x432 with 1 Axes>"
      ]
     },
     "metadata": {
      "needs_background": "light"
     },
     "output_type": "display_data"
    }
   ],
   "source": [
    "import matplotlib.pyplot as plt\n",
    "percentage['target'].plot(kind='bar', figsize=(8, 6), legend=False, title='Number of tweets by class')\n",
    "plt.show()"
   ]
  },
  {
   "cell_type": "markdown",
   "metadata": {},
   "source": [
    "<h2> No Up- or Downsampling </h2>"
   ]
  },
  {
   "cell_type": "code",
   "execution_count": 22,
   "metadata": {},
   "outputs": [
    {
     "data": {
      "text/plain": [
       "array([0.        , 0.03571429, 0.02040816, 0.02515723, 0.04324324,\n",
       "       0.26961484, 0.23595506, 0.35067437, 0.35130971, 0.10160428,\n",
       "       0.27988879, 0.07801418, 0.4294806 ])"
      ]
     },
     "execution_count": 22,
     "metadata": {},
     "output_type": "execute_result"
    }
   ],
   "source": [
    "# Training and test sets\n",
    "X_train, X_test, y_train, y_test = train_test_split(train_clean['content'],\n",
    "                                                    train_clean['target'],\n",
    "                                                    random_state=0)\n",
    "\n",
    "# Format: Training\n",
    "#\n",
    "# 1. Vectorizer \n",
    "# Here we get the list of words of the whole \n",
    "# training set, the whole tokenized version \n",
    "# of the dataset.\n",
    "vectorizer = CountVectorizer()\n",
    "X = vectorizer.fit_transform(X_train)\n",
    "\n",
    "# 2. TF/IDF\n",
    "# It indicates how many times a word appears\n",
    "# inside each tweet.\n",
    "tfidf_transformer = TfidfTransformer()#use_idf=False).fit(X)\n",
    "X_train_tfidf = tfidf_transformer.fit_transform(X)\n",
    "\n",
    "# The Model\n",
    "clf = SGDClassifier()\n",
    "model = SGDClassifier().fit(X_train_tfidf,y_train)\n",
    "\n",
    "# Format: Testing\n",
    "# \n",
    "# 1. Vectorizer \n",
    "X_prime = vectorizer.transform(X_test)\n",
    "# 2. TF/IDF\n",
    "X_test_tfidf = tfidf_transformer.transform(X_prime)\n",
    "\n",
    "# Prediction\n",
    "y_predict = model.predict(X_test_tfidf)\n",
    "f1_score(y_test, y_predict,average=None)"
   ]
  },
  {
   "cell_type": "markdown",
   "metadata": {},
   "source": [
    "<h3>Upsampling</h3>"
   ]
  },
  {
   "cell_type": "code",
   "execution_count": 14,
   "metadata": {},
   "outputs": [
    {
     "name": "stdout",
     "output_type": "stream",
     "text": [
      "Number of Tweets with respect to its category: \n",
      "{'anger': 98, 'boredom': 157, 'empty': 659, 'enthusiasm': 522, 'fun': 1088, 'happiness': 2986, 'hate': 1187, 'love': 2068, 'neutral': 6340, 'relief': 1021, 'sadness': 4828, 'surprise': 1613, 'worry': 7433} \n"
     ]
    }
   ],
   "source": [
    "# Number of non-racist/non-sexist (0's) tweets\n",
    "# in the training\n",
    "lista = [train_clean[train_clean.target==index] for index in list(set(train_clean['target']))]\n",
    "lista_dos = [len(k) for k in lista]\n",
    "mymap = dict(zip(le.classes_,lista_dos))\n",
    "print('Number of Tweets with respect to its category: \\n%s '%(mymap))"
   ]
  },
  {
   "cell_type": "code",
   "execution_count": 7,
   "metadata": {},
   "outputs": [
    {
     "name": "stdout",
     "output_type": "stream",
     "text": [
      "Number of racist/sexist tweets: 2242 \n"
     ]
    }
   ],
   "source": [
    "# Number of racist/sexist (1's) tweets in the training\n",
    "train_minority = train_clean[train_clean.label==1]\n",
    "print('Number of racist/sexist tweets: %s '%(len(train_minority)))"
   ]
  },
  {
   "cell_type": "code",
   "execution_count": 8,
   "metadata": {},
   "outputs": [
    {
     "name": "stdout",
     "output_type": "stream",
     "text": [
      "Upsampling\n",
      "Number of total tweets in training: 59440,2 \n",
      "1    29720\n",
      "0    29720\n",
      "Name: label, dtype: int64\n"
     ]
    }
   ],
   "source": [
    "# Upsampling:\n",
    "# We use the tags with less frequency, in this case 1's, inside\n",
    "# the training in order to create an upsampled training set with\n",
    "# the same dimension the tags with the highest frequency have (in\n",
    "# this case 0's), allowing tweet repetition.\n",
    "train_minority_upsampled = resample(train_minority, # data  set to use\n",
    "                                    replace=True, # repetitions are allowed\n",
    "                                    n_samples=len(train_majority), # I want 29720 samples\n",
    "                                    random_state=123) # using this random state\n",
    "\n",
    "# Now that the minority of tweets is no longer outmatched by \n",
    "# the majority, we can put them together, obtaining a training\n",
    "# set of twice the size of the majority, i,.e. 2*(2970) = 59440\n",
    "train_upsampled = pd.concat([train_minority_upsampled, train_majority])\n",
    "print('Upsampling')\n",
    "print('Number of total tweets in training: %s,%s '%((train_upsampled.shape)))\n",
    "print(train_upsampled['label'].value_counts())"
   ]
  },
  {
   "cell_type": "markdown",
   "metadata": {},
   "source": [
    "<h3>Downsampling</h3>"
   ]
  },
  {
   "cell_type": "code",
   "execution_count": 9,
   "metadata": {},
   "outputs": [
    {
     "name": "stdout",
     "output_type": "stream",
     "text": [
      "Number of non-racist/non-sexist tweets: 29720 \n"
     ]
    }
   ],
   "source": [
    "# Number of non-racist/non-sexist (0's) tweets\n",
    "# in the training\n",
    "train_majority = train_clean[train_clean.label==0]\n",
    "print('Number of non-racist/non-sexist tweets: %s '%(len(train_majority)))"
   ]
  },
  {
   "cell_type": "code",
   "execution_count": 10,
   "metadata": {},
   "outputs": [
    {
     "name": "stdout",
     "output_type": "stream",
     "text": [
      "Number of non-racist/non-sexist tweets: 2242 \n"
     ]
    }
   ],
   "source": [
    "# Number of racist/sexist (1's) tweets in the training\n",
    "train_minority = train_clean[train_clean.label==1]\n",
    "print('Number of non-racist/non-sexist tweets: %s '%(len(train_minority)))"
   ]
  },
  {
   "cell_type": "code",
   "execution_count": 11,
   "metadata": {},
   "outputs": [
    {
     "name": "stdout",
     "output_type": "stream",
     "text": [
      "Downsampling\n",
      "Number of total tweets in training: 4484,2 \n",
      "1    2242\n",
      "0    2242\n",
      "Name: label, dtype: int64\n"
     ]
    }
   ],
   "source": [
    "# Downsampling:\n",
    "# We use the tags with the largest frequency, in this case the \n",
    "# 0's inside the training in order to create an downsampled training \n",
    "# set with the same dimension the tags with the lowest frequency have (in\n",
    "# this case 1's), allowing tweet repetition.\n",
    "train_majority_downsampled = resample(train_majority, # use the train majority\n",
    "                                 replace=True,  # repetitions are allowed\n",
    "                                 n_samples=len(train_minority), # I want 2242 samples\n",
    "                                 random_state=123) #using this random state\n",
    "\n",
    "# Now that the majority of tweets has been reduced to a set\n",
    "# with the same size as the minority, we can put them together,\n",
    "# obtaining a training set of twice the size of the minority, i,.e. 2*(2242) = 4484\n",
    "train_downsampled = pd.concat([train_majority_downsampled, train_minority])\n",
    "print('Downsampling')\n",
    "print('Number of total tweets in training: %s,%s '%((train_downsampled.shape)))\n",
    "print(train_downsampled['label'].value_counts())"
   ]
  },
  {
   "cell_type": "markdown",
   "metadata": {},
   "source": [
    "<h3> Model Training </h3>"
   ]
  },
  {
   "cell_type": "code",
   "execution_count": 12,
   "metadata": {},
   "outputs": [
    {
     "name": "stderr",
     "output_type": "stream",
     "text": [
      "/anaconda3/lib/python3.7/site-packages/sklearn/linear_model/stochastic_gradient.py:166: FutureWarning: max_iter and tol parameters have been added in SGDClassifier in 0.19. If both are left unset, they default to max_iter=5 and tol=None. If tol is not None, max_iter defaults to max_iter=1000. From 0.21, default max_iter will be 1000, and default tol will be 1e-3.\n",
      "  FutureWarning)\n"
     ]
    },
    {
     "data": {
      "text/plain": [
       "0.9692123150739703"
      ]
     },
     "execution_count": 12,
     "metadata": {},
     "output_type": "execute_result"
    }
   ],
   "source": [
    "# Training and test sets\n",
    "X_train, X_test, y_train, y_test = train_test_split(train_upsampled['tweet'],\n",
    "                                                    train_upsampled['label'],\n",
    "                                                    random_state=0)\n",
    "\n",
    "# Format: Training\n",
    "#\n",
    "# 1. Vectorizer \n",
    "# Here we get the list of words of the whole \n",
    "# training set, the whole tokenized version \n",
    "# of the dataset.\n",
    "vectorizer = CountVectorizer()\n",
    "X = vectorizer.fit_transform(X_train)\n",
    "\n",
    "# 2. TF/IDF\n",
    "# It indicates how many times a word appears\n",
    "# inside each tweet.\n",
    "tfidf_transformer = TfidfTransformer()#use_idf=False).fit(X)\n",
    "X_train_tfidf = tfidf_transformer.fit_transform(X)\n",
    "\n",
    "# The Model\n",
    "clf = SGDClassifier()\n",
    "model = SGDClassifier().fit(X_train_tfidf,y_train)\n",
    "\n",
    "# Format: Testing\n",
    "# \n",
    "# 1. Vectorizer \n",
    "X_prime = vectorizer.transform(X_test)\n",
    "# 2. TF/IDF\n",
    "X_test_tfidf = tfidf_transformer.transform(X_prime)\n",
    "\n",
    "# Prediction\n",
    "y_predict = model.predict(X_test_tfidf)\n",
    "f1_score(y_test, y_predict)"
   ]
  },
  {
   "cell_type": "code",
   "execution_count": 13,
   "metadata": {},
   "outputs": [
    {
     "name": "stdout",
     "output_type": "stream",
     "text": [
      "              precision    recall  f1-score   support\n",
      "\n",
      "           0       0.99      0.95      0.97      7490\n",
      "           1       0.95      0.99      0.97      7370\n",
      "\n",
      "   micro avg       0.97      0.97      0.97     14860\n",
      "   macro avg       0.97      0.97      0.97     14860\n",
      "weighted avg       0.97      0.97      0.97     14860\n",
      "\n"
     ]
    }
   ],
   "source": [
    "from sklearn import metrics\n",
    "print(metrics.classification_report(y_test, y_predict))#,target_names=twenty_test.target_names))"
   ]
  },
  {
   "cell_type": "markdown",
   "metadata": {},
   "source": [
    "<h2> Pipeline </h2>"
   ]
  },
  {
   "cell_type": "code",
   "execution_count": 14,
   "metadata": {},
   "outputs": [],
   "source": [
    "# Pipelines:\n",
    "pipeline_sgd = Pipeline([\n",
    "    ('vect', CountVectorizer()),\n",
    "    ('tfidf', TfidfTransformer()),\n",
    "    ('nb', SGDClassifier()),\n",
    "])"
   ]
  },
  {
   "cell_type": "markdown",
   "metadata": {},
   "source": [
    "<h2> Prediction (Upsampling) </h2>"
   ]
  },
  {
   "cell_type": "code",
   "execution_count": 15,
   "metadata": {},
   "outputs": [
    {
     "name": "stdout",
     "output_type": "stream",
     "text": [
      "Accuracy with upsampling: 0.9702309437992256 \n"
     ]
    }
   ],
   "source": [
    "# Test and Training Splitting\n",
    "X_train_up, X_test_up, y_train_up, y_test_up = train_test_split(train_upsampled['tweet'],\n",
    "                                                    train_upsampled['label'],\n",
    "                                                    random_state=0)\n",
    "# Model\n",
    "model_up = pipeline_sgd.fit(X_train_up, y_train_up)\n",
    "model_up\n",
    "\n",
    "y_predict_up = model_up.predict(X_test_up)\n",
    "y_predict_up\n",
    "print('Accuracy with upsampling: %s '%(f1_score(y_test_up, y_predict_up)))"
   ]
  },
  {
   "cell_type": "markdown",
   "metadata": {},
   "source": [
    "<h2> Prediction (Downsampling) </h2>"
   ]
  },
  {
   "cell_type": "code",
   "execution_count": 16,
   "metadata": {},
   "outputs": [
    {
     "name": "stdout",
     "output_type": "stream",
     "text": [
      "Accuracy with downsampling: 0.855072463768116 \n"
     ]
    }
   ],
   "source": [
    "# Test and Training Splitting\n",
    "X_train_down, X_test_down, y_train_down, y_test_down = train_test_split(train_downsampled['tweet'],\n",
    "                                                    train_downsampled['label'],\n",
    "                                                    random_state=0)\n",
    "# Model\n",
    "model_down = pipeline_sgd.fit(X_train_down, y_train_down)\n",
    "model_down\n",
    "\n",
    "y_predict_down = model_up.predict(X_test_down)\n",
    "y_predict_down\n",
    "print('Accuracy with downsampling: %s '%(f1_score(y_test_down, y_predict_down)))"
   ]
  },
  {
   "cell_type": "code",
   "execution_count": 17,
   "metadata": {},
   "outputs": [],
   "source": [
    "# # scikit-learn bootstrap\n",
    "# from sklearn.utils import resample\n",
    "# # data sample\n",
    "# data = [0.1, 0.2, 0.3, 0.4, 0.5, 0.6]\n",
    "# print('data: %s'%(data))\n",
    "# # prepare bootstrap sample\n",
    "# boot = resample(data, replace=True, n_samples=2*len(data), random_state=1)\n",
    "# print('Bootstrap Sample: %s' % boot)\n",
    "# # out of bag observations\n",
    "# oob = [x for x in data if x not in boot]\n",
    "# # print('OOB Sample: %s' % oob)\n",
    "\n",
    "# # data: [0.1, 0.2, 0.3, 0.4, 0.5, 0.6]\n",
    "# # Bootstrap Sample: [0.6, 0.4, 0.5, 0.1, 0.2, 0.4, 0.6, 0.1, 0.1, 0.2, 0.5, 0.6]\n",
    "# # OOB Sample: [0.3]"
   ]
  },
  {
   "cell_type": "code",
   "execution_count": 18,
   "metadata": {},
   "outputs": [
    {
     "name": "stdout",
     "output_type": "stream",
     "text": [
      "['This is the first document.', 'This document is the second document.', 'And this is the third one.', 'Is this the first document?']\n"
     ]
    }
   ],
   "source": [
    "corpus = [\n",
    "    'This is the first document.',\n",
    "    'This document is the second document.',\n",
    "    'And this is the third one.',\n",
    "    'Is this the first document?',\n",
    "]\n",
    "print(corpus)"
   ]
  },
  {
   "cell_type": "code",
   "execution_count": 19,
   "metadata": {},
   "outputs": [
    {
     "name": "stdout",
     "output_type": "stream",
     "text": [
      "['and', 'document', 'first', 'is', 'one', 'second', 'the', 'third', 'this']\n"
     ]
    }
   ],
   "source": [
    "myvectorizer = CountVectorizer()\n",
    "myX = myvectorizer.fit_transform(corpus)\n",
    "print(myvectorizer.get_feature_names())"
   ]
  },
  {
   "cell_type": "code",
   "execution_count": 20,
   "metadata": {},
   "outputs": [
    {
     "name": "stdout",
     "output_type": "stream",
     "text": [
      "  (0, 1)\t1\n",
      "  (0, 2)\t1\n",
      "  (0, 6)\t1\n",
      "  (0, 3)\t1\n",
      "  (0, 8)\t1\n",
      "  (1, 5)\t1\n",
      "  (1, 1)\t2\n",
      "  (1, 6)\t1\n",
      "  (1, 3)\t1\n",
      "  (1, 8)\t1\n",
      "  (2, 4)\t1\n",
      "  (2, 7)\t1\n",
      "  (2, 0)\t1\n",
      "  (2, 6)\t1\n",
      "  (2, 3)\t1\n",
      "  (2, 8)\t1\n",
      "  (3, 1)\t1\n",
      "  (3, 2)\t1\n",
      "  (3, 6)\t1\n",
      "  (3, 3)\t1\n",
      "  (3, 8)\t1\n"
     ]
    }
   ],
   "source": [
    "print(myX)"
   ]
  },
  {
   "cell_type": "code",
   "execution_count": 21,
   "metadata": {},
   "outputs": [
    {
     "name": "stdout",
     "output_type": "stream",
     "text": [
      "TfidfTransformer(norm='l2', smooth_idf=True, sublinear_tf=False,\n",
      "         use_idf=False)\n"
     ]
    }
   ],
   "source": [
    "# ['This is the first document.', 'This document is the second document.', 'And this is the third one.', 'Is this the first document?']\n",
    "# ['and', 'document', 'first', 'is', 'one', 'second', 'the', 'third', 'this']\n",
    "# [[0 1 1 1 0 0 1 0 1]\n",
    "#  [0 2 0 1 0 1 1 0 1]\n",
    "#  [1 0 0 1 1 0 1 1 1]\n",
    "#  [0 1 1 1 0 0 1 0 1]]\n",
    "\n",
    "mytf_transformer = TfidfTransformer(use_idf=False).fit(myX)\n",
    "print(mytf_transformer)"
   ]
  },
  {
   "cell_type": "code",
   "execution_count": 22,
   "metadata": {},
   "outputs": [
    {
     "name": "stdout",
     "output_type": "stream",
     "text": [
      "  (0, 1)\t0.4472135954999579\n",
      "  (0, 2)\t0.4472135954999579\n",
      "  (0, 3)\t0.4472135954999579\n",
      "  (0, 6)\t0.4472135954999579\n",
      "  (0, 8)\t0.4472135954999579\n",
      "  (1, 1)\t0.7071067811865475\n",
      "  (1, 3)\t0.35355339059327373\n",
      "  (1, 5)\t0.35355339059327373\n",
      "  (1, 6)\t0.35355339059327373\n",
      "  (1, 8)\t0.35355339059327373\n",
      "  (2, 0)\t0.4082482904638631\n",
      "  (2, 3)\t0.4082482904638631\n",
      "  (2, 4)\t0.4082482904638631\n",
      "  (2, 6)\t0.4082482904638631\n",
      "  (2, 7)\t0.4082482904638631\n",
      "  (2, 8)\t0.4082482904638631\n",
      "  (3, 1)\t0.4472135954999579\n",
      "  (3, 2)\t0.4472135954999579\n",
      "  (3, 3)\t0.4472135954999579\n",
      "  (3, 6)\t0.4472135954999579\n",
      "  (3, 8)\t0.4472135954999579\n"
     ]
    }
   ],
   "source": [
    "myX_train_tf = mytf_transformer.transform(myX)\n",
    "print(myX_train_tf)"
   ]
  },
  {
   "cell_type": "code",
   "execution_count": 23,
   "metadata": {},
   "outputs": [
    {
     "data": {
      "text/plain": [
       "array([[0.        , 0.4472136 , 0.4472136 , 0.4472136 , 0.        ,\n",
       "        0.        , 0.4472136 , 0.        , 0.4472136 ],\n",
       "       [0.        , 0.70710678, 0.        , 0.35355339, 0.        ,\n",
       "        0.35355339, 0.35355339, 0.        , 0.35355339],\n",
       "       [0.40824829, 0.        , 0.        , 0.40824829, 0.40824829,\n",
       "        0.        , 0.40824829, 0.40824829, 0.40824829],\n",
       "       [0.        , 0.4472136 , 0.4472136 , 0.4472136 , 0.        ,\n",
       "        0.        , 0.4472136 , 0.        , 0.4472136 ]])"
      ]
     },
     "execution_count": 23,
     "metadata": {},
     "output_type": "execute_result"
    }
   ],
   "source": [
    "myX_train_tf.toarray()\n",
    "# TfidfTransformer(norm='l2', smooth_idf=True, sublinear_tf=False,\n",
    "#          use_idf=False)\n",
    "#   (0, 1)\t0.4472135954999579\n",
    "#   (0, 2)\t0.4472135954999579\n",
    "#   (0, 3)\t0.4472135954999579\n",
    "#   (0, 6)\t0.4472135954999579\n",
    "#   (0, 8)\t0.4472135954999579\n",
    "#   (1, 1)\t0.7071067811865475\n",
    "#   (1, 3)\t0.35355339059327373\n",
    "#   (1, 5)\t0.35355339059327373\n",
    "#   (1, 6)\t0.35355339059327373\n",
    "#   (1, 8)\t0.35355339059327373\n",
    "#   (2, 0)\t0.4082482904638631\n",
    "#   (2, 3)\t0.4082482904638631\n",
    "#   (2, 4)\t0.4082482904638631\n",
    "#   (2, 6)\t0.4082482904638631\n",
    "#   (2, 7)\t0.4082482904638631\n",
    "#   (2, 8)\t0.4082482904638631\n",
    "#   (3, 1)\t0.4472135954999579\n",
    "#   (3, 2)\t0.4472135954999579\n",
    "#   (3, 3)\t0.4472135954999579\n",
    "#   (3, 6)\t0.4472135954999579\n",
    "#   (3, 8)\t0.4472135954999579\n",
    "# (4, 9)\n",
    "\n",
    "# myclf = SGDClassifier()#loss='hinge', penalty='l2',alpha=1e-3, random_state=42,max_iter=5, tol=None)"
   ]
  },
  {
   "cell_type": "code",
   "execution_count": null,
   "metadata": {},
   "outputs": [],
   "source": []
  },
  {
   "cell_type": "code",
   "execution_count": null,
   "metadata": {},
   "outputs": [],
   "source": []
  }
 ],
 "metadata": {
  "kernelspec": {
   "display_name": "Python 3",
   "language": "python",
   "name": "python3"
  },
  "language_info": {
   "codemirror_mode": {
    "name": "ipython",
    "version": 3
   },
   "file_extension": ".py",
   "mimetype": "text/x-python",
   "name": "python",
   "nbconvert_exporter": "python",
   "pygments_lexer": "ipython3",
   "version": "3.7.1"
  }
 },
 "nbformat": 4,
 "nbformat_minor": 2
}
