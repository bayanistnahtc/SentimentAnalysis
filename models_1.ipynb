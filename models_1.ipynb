{
 "cells": [
  {
   "cell_type": "code",
   "execution_count": 70,
   "metadata": {},
   "outputs": [],
   "source": [
    "# --- Preprocessing ---\n",
    "import pandas as pd\n",
    "from sklearn.utils import resample\n",
    "import numpy as np\n",
    "from afinn import Afinn\n",
    "import pickle\n",
    "\n",
    "# --- Processing ---\n",
    "import re\n",
    "from sklearn.utils import resample\n",
    "from sklearn.feature_extraction.text import TfidfVectorizer\n",
    "from sklearn.pipeline import Pipeline\n",
    "from sklearn.feature_extraction.text import CountVectorizer\n",
    "from sklearn.feature_extraction.text import TfidfTransformer\n",
    "\n",
    "from sklearn.linear_model import SGDClassifier\n",
    "from sklearn.preprocessing import LabelEncoder\n",
    "import matplotlib.pyplot as plt\n",
    "import string\n",
    "import re, nltk\n",
    "from nltk.stem import WordNetLemmatizer\n",
    "from nltk.corpus import stopwords\n",
    "import collections\n",
    "\n",
    "# --- Postprocessing ---\n",
    "from sklearn.model_selection import train_test_split\n",
    "from sklearn.metrics import f1_score\n",
    "\n",
    "%reload_ext autoreload\n",
    "%autoreload 2\n",
    "%matplotlib inline\n",
    "\n",
    "import os, string, collections\n",
    "import numpy as np\n",
    "import pandas as pd\n",
    "pd.set_option('display.max_colwidth', -1)\n",
    "import matplotlib.pyplot as plt\n",
    "import seaborn as sns\n",
    "# import utils\n",
    "# from utils import *\n",
    "\n",
    "import snowballstemmer\n",
    "from nltk.corpus import stopwords\n",
    "\n",
    "from sklearn.preprocessing import LabelEncoder\n",
    "from sklearn.base import BaseEstimator, TransformerMixin\n",
    "from sklearn.model_selection import train_test_split, StratifiedKFold, cross_val_score\n",
    "from sklearn import metrics\n",
    "from tensorflow.keras.wrappers.scikit_learn import KerasClassifier\n",
    "from tensorflow.keras.preprocessing.text import Tokenizer\n",
    "from tensorflow.keras.utils import to_categorical\n",
    "from tensorflow.keras.models import Sequential, Model\n",
    "from tensorflow.keras.layers import Input, Dense, Embedding, Flatten, Conv1D, MaxPooling1D\n",
    "from tensorflow.keras.activations import relu\n",
    "from tensorflow.keras.layers import Dropout, concatenate\n",
    "from tensorflow.keras import regularizers\n",
    "\n",
    "\n",
    "from keras.preprocessing.sequence import pad_sequences\n",
    "from keras.models import Sequential, Model, load_model\n",
    "from keras.layers.embeddings import Embedding\n",
    "from keras.layers import Flatten, Dense, Dropout, Convolution1D, MaxPooling1D, SpatialDropout1D, Input \n",
    "from keras.layers import GlobalMaxPooling1D, concatenate, LSTM, Bidirectional\n",
    "from keras.optimizers import Adam\n",
    "from keras.utils import np_utils\n",
    "from keras.callbacks import ModelCheckpoint\n",
    "\n",
    "class Verarbeitung():\n",
    "    \n",
    "    def __init__(self,data_here):\n",
    "        \"\"\"\n",
    "            The data is given as a pandas file.\n",
    "        \"\"\"\n",
    "        self.data_here = data_here\n",
    "        self.my_info_dict = {}\n",
    "        \n",
    "        \"\"\"\n",
    "            Depending which dataset is used, this\n",
    "            will load the bert-encoded dataset in \n",
    "            order to use it in the bert model. \n",
    "        \"\"\"\n",
    "        # \n",
    "        #with open('bert_emb2_0traintweets.pk', mode='rb') as f:\n",
    "        with open('Datasets/bert_emb_airline_sentiment.pk', mode='rb') as f:\n",
    "            self.bert_here = pickle.load(f)\n",
    "\n",
    "    def auskunft(self):\n",
    "        \"\"\"\n",
    "            --------------\n",
    "            --- STATUS ---\n",
    "            --------------\n",
    "            This function prints relevant information\n",
    "            related to the data frame which is being\n",
    "            updated after each preprocessing step. It\n",
    "            has a dictionary to where the information \n",
    "            is added. \n",
    "        \"\"\"\n",
    "        self.data_length = len(self.data_here)\n",
    "        self.my_info_dict['Dataset_Length'] = self.data_length\n",
    "        self.data_column_names = [name for name in (self.data_here).columns]\n",
    "        self.my_info_dict['Columns'] = self.data_column_names\n",
    "        return self.my_info_dict\n",
    "    \n",
    "    def labels_to_numbers(self,text_field):\n",
    "        \"\"\"\n",
    "            ---------------------\n",
    "            --- PREPROCESSING ---\n",
    "            ---------------------\n",
    "\n",
    "        \"\"\"\n",
    "        if text_field in ['sentiment','label','airline_sentiment']:\n",
    "            label_encoder = LabelEncoder()\n",
    "            (self.data_here)['target'] = label_encoder.fit_transform((self.data_here)[text_field])\n",
    "            self.classes = [k for k in label_encoder.classes_]\n",
    "            self.my_info_dict['Classes'] = self.classes\n",
    "            self.my_info_dict['Number_of_Classes'] = len(self.classes)\n",
    "            self.transformed_classes = label_encoder.fit_transform(self.classes)\n",
    "            self.my_info_dict['Transformed_Classes'] = list(self.transformed_classes)\n",
    "            #self.classes_and_transformed_classes = dict(zip(self.classes,self.transformed_classes))\n",
    "        \n",
    "    def clean_the_tweets(self,text_field):\n",
    "        \"\"\"\n",
    "            ----------------------\n",
    "            ---- PREPROCESSING ---\n",
    "            ----------------------\n",
    "            It cleans the tweets, removing mentions, \n",
    "            url's, leaving only characters, deleting\n",
    "            extra spaces, making every character \n",
    "            lower case and adds a column with the \n",
    "            name clean_tweet.\n",
    "        \"\"\"\n",
    "        if text_field in ['text','tweet','sentiment','content']:\n",
    "            (self.data_here)[text_field] = (self.data_here[text_field]).str.lower()\n",
    "            mystring = r\"(@[A-Za-z0-9]+)|([^0-9A-Za-z \\t])|(\\w+:\\/\\/\\S+)|^rt|http.+?\"\n",
    "            self.data_here['clean_tweet'] = (self.data_here)[text_field].apply(lambda element: re.sub(mystring,\"\",element))\n",
    "            self.data_column_names = [name for name in (self.data_here).columns]\n",
    "            \n",
    "    def tokens_and_more(self,text_field):\n",
    "        \"\"\"\n",
    "            ------------------------------\n",
    "            --- INFORMATION EXTRACTION ---\n",
    "            ------------------------------\n",
    "            It creates tokens, then chooses the frquency of \n",
    "            the top fifty of them and displays them in a graph. \n",
    "        \"\"\"\n",
    "        if text_field in ['sentiment','label','airline_sentiment']:\n",
    "            cvec = CountVectorizer()\n",
    "            cvec.fit(self.data_here['clean_tweet'])\n",
    "            doc_matrices = [cvec.transform(self.data_here[self.data_here[text_field] == k].clean_tweet) for k in self.my_info_dict['Classes']]\n",
    "            doc_matrices_sums = [np.sum(my_sum,axis=0) for my_sum in doc_matrices]\n",
    "            all_squeezed = [np.squeeze(np.asarray(k)) for k in doc_matrices_sums]\n",
    "            term_freq_df = pd.DataFrame(all_squeezed,columns=cvec.get_feature_names()).transpose()\n",
    "            term_freq_df.columns = self.my_info_dict['Classes']\n",
    "            term_freq_df['total'] = sum([term_freq_df[k] for k in self.my_info_dict['Classes']])#term_freq_df['positive'] + term_freq_df['neutral'] + term_freq_df['negative']\n",
    "            term_freq_df.sort_values(by='total', ascending=False)\n",
    "            print(term_freq_df.sort_values(by='total', ascending=False).head())\n",
    "            y_neg = np.arange(50)\n",
    "            for kindex, class_is_here in enumerate(self.my_info_dict['Classes']):\n",
    "                fig, ax = plt.subplots(figsize=(13,7))\n",
    "                ax.set_axis_off()\n",
    "                ax = fig.add_subplot(1,1,1)\n",
    "                ax.bar(y_neg, term_freq_df.sort_values(by=class_is_here,ascending=False)[class_is_here][:50], align='center',alpha=0.5)\n",
    "                ax.set_xticks(y_neg)\n",
    "                ax.set_xticklabels(term_freq_df.sort_values(by=class_is_here,ascending=False)[class_is_here][:50].index,rotation='vertical')\n",
    "                ax.set_ylabel('Frequency')\n",
    "                ax.set_xlabel('Top 50 %s tokens'%(self.my_info_dict['Classes'][kindex]))\n",
    "                ax.set_title('Top 50 tokens in %s tweets'%(self.my_info_dict['Classes'][kindex]))\n",
    "            plt.show()\n",
    "\n",
    "    def normalizer(self,text_field):\n",
    "        \"\"\"\n",
    "            ---------------------\n",
    "            --- PREPROCESSING ---\n",
    "            ---------------------\n",
    "            This function removes the stopwords\n",
    "            and adds the tokens per tweet in a \n",
    "            new column. This is part of the \n",
    "            preprocessing because this column\n",
    "            plays an important role as the\n",
    "            input in the models. \n",
    "        \"\"\"\n",
    "        re_tok = re.compile(f'([{string.punctuation}“”¨«»®´·º½¾¿¡§£₤‘’])')\n",
    "        \n",
    "        def tokenize(s): \n",
    "            return re_tok.sub(r' \\1 ', s).split()\n",
    "        \n",
    "        self.data_here['tokenized'] = self.data_here[text_field].apply(lambda row: tokenize(row))\n",
    "        stop = set(stopwords.words('english'))\n",
    "        stop.update(['amp', 'rt', 'cc'])\n",
    "        stop = stop - set(['no', 'not'])\n",
    "        \n",
    "        def remove_stopwords(row):\n",
    "            return [t for t in row if t not in stop]\n",
    "        \n",
    "        self.data_here['tokenized'] = self.data_here['tokenized'].apply(lambda row: remove_stopwords(row))\n",
    "        \n",
    "        def update_vocab_counter(row):\n",
    "            for word in row:\n",
    "                vocab_counter[word] += 1\n",
    "                \n",
    "        vocab_counter = collections.Counter()\n",
    "        self.data_here['tokenized'].apply(update_vocab_counter)\n",
    "        vocab = sorted(vocab_counter, key=vocab_counter.get, reverse=True)\n",
    "        \n",
    "        self.my_info_dict['Vocabulary'] = len(vocab)\n",
    "        max_words = 5000\n",
    "        self.my_info_dict['Vocabulary_Size_to_Use'] = max_words\n",
    "        w2id = {w:i+1 for i, w in enumerate(vocab[:max_words-1])}\n",
    "        w2id['unk'] = 0\n",
    "        \n",
    "        self.my_info_dict['Embedding_Dimension_to_Use'] = 50\n",
    "        \n",
    "        def transform_to_ids(row):\n",
    "            return [w2id[w] if w in w2id else w2id['unk'] for w in row]\n",
    "        \n",
    "        self.data_here['tokenized_int'] = self.data_here['tokenized'].apply(lambda x: transform_to_ids(x))\n",
    "        lens = self.data_here['tokenized_int'].apply(lambda x: len(x))\n",
    "        maxlen = int(np.floor(max(lens)))\n",
    "        self.my_info_dict['Words_Per_Document'] = maxlen\n",
    "        \n",
    "    def prozent_wrt(self,text_field):\n",
    "        \"\"\"\n",
    "            ------------------------------\n",
    "            --- INFORMATION EXTRACTION ---\n",
    "            ------------------------------\n",
    "            This function computes the number of sentiments\n",
    "            in the target column and returns a plot.\n",
    "        \"\"\"\n",
    "        if text_field in ['sentiment','label','airline_sentiment']:\n",
    "            percentage = (self.data_here).groupby([text_field]).count()\n",
    "            percentage['clean_tweet'].plot(kind='bar', \n",
    "                                           figsize=(8, 6), \n",
    "                                           legend=False, \n",
    "                                           title='Number of tweets by class')\n",
    "            plt.show()\n",
    "       \n",
    "    def afinn_stuff(self,text_field):\n",
    "        \"\"\"\n",
    "            ------------------------------\n",
    "            --- INFORMATION EXTRACTION ---\n",
    "            ------------------------------\n",
    "        \"\"\"\n",
    "        af = Afinn()\n",
    "\n",
    "        # compute sentiment scores (polarity) and labels\n",
    "        sentiment_scores = [af.score(article) for article in self.data_here['clean_tweet']]\n",
    "        sentiment_category = ['positive' if score > 0 \n",
    "                                  else 'negative' if score < 0 \n",
    "                                      else 'neutral' \n",
    "                                          for score in sentiment_scores]\n",
    "\n",
    "        # sentiment statistics per news category\n",
    "        if text_field in ['sentiment','label','airline_sentiment']:\n",
    "            df = pd.DataFrame([list(self.data_here[text_field]), sentiment_scores, sentiment_category]).T\n",
    "            df.columns = ['sentiment', 'sentiment_score', 'sentiment_category']\n",
    "            df['sentiment_score'] = df.sentiment_score.astype('float')\n",
    "            df.groupby(by=['sentiment']).describe()\n",
    "\n",
    "            f, (ax1, ax2) = plt.subplots(1, 2,figsize=(15,8))\n",
    "            sp = sns.stripplot(x='sentiment', y=\"sentiment_score\",hue='sentiment', data=df, ax=ax1)\n",
    "            bp = sns.boxplot(x='sentiment', y=\"sentiment_score\", hue='sentiment', data=df, palette=\"Set2\", ax=ax2)\n",
    "            t = f.suptitle('Visualizing Sentiment', fontsize=14)\n",
    "            plt.show()\n",
    "          \n",
    "    def patterns_of(self,sentiment_field,sentiment):\n",
    "        \"\"\"\n",
    "            ------------------------------\n",
    "            --- INFORMATION EXTRACTION ---\n",
    "            ------------------------------\n",
    "        \"\"\"\n",
    "        def ngrams(input_list):\n",
    "            #onegrams = input_list\n",
    "            bigrams = [' '.join(t) for t in list(zip(input_list, input_list[1:]))]\n",
    "            trigrams = [' '.join(t) for t in list(zip(input_list, input_list[1:], input_list[2:]))]\n",
    "            return bigrams+trigrams\n",
    "        self.data_here['grams'] = self.data_here['tokenized'].apply(ngrams)\n",
    "\n",
    "        def count_words(input):\n",
    "            cnt = collections.Counter()\n",
    "            for row in input:\n",
    "                for word in row:\n",
    "                    cnt[word] += 1\n",
    "            return cnt\n",
    "        \n",
    "        self.data_here[(self.data_here[sentiment_field] == sentiment)][['grams']].apply(count_words)['grams'].most_common(20)\n",
    "        return self.data_here[(self.data_here[sentiment_field] == sentiment)][['grams']].apply(count_words)['grams'].most_common(20)\n",
    "    \n",
    "    def first_model(self):\n",
    "        \"\"\"\n",
    "            ------------------\n",
    "            --- PREDICTION ---\n",
    "            ------------------\n",
    "            The first model resembles a linear model,\n",
    "            where just a softmax function is used at \n",
    "            the end of the process once we have set\n",
    "            the variables for the embedding. \n",
    "        \"\"\"\n",
    "        \n",
    "        X_train, X_test, y_train, y_test = train_test_split(self.data_here['tokenized_int'].values, \n",
    "                                                            self.data_here['target'].values, \n",
    "                                                            test_size=0.25, \n",
    "                                                            random_state=0)\n",
    "        x_train = pad_sequences(X_train, maxlen=self.my_info_dict['Words_Per_Document'], value=0)\n",
    "        x_test = pad_sequences(X_test, maxlen=self.my_info_dict['Words_Per_Document'], value=0)\n",
    "        dummy_y = np_utils.to_categorical(y_train)\n",
    "        dummy_y_test = np_utils.to_categorical(y_test)\n",
    "        \n",
    "        def baseline_model():\n",
    "            model = Sequential([Embedding(input_dim=self.my_info_dict['Vocabulary_Size_to_Use'], \n",
    "                                          output_dim=self.my_info_dict['Embedding_Dimension_to_Use'], \n",
    "                                          input_length=self.my_info_dict['Words_Per_Document']),\n",
    "                                Flatten(),\n",
    "                                Dense(self.my_info_dict['Number_of_Classes'], activation='softmax')])\n",
    "            model.compile(loss='categorical_crossentropy', optimizer=Adam(), metrics=['accuracy'])\n",
    "            return model\n",
    "        \n",
    "        estimator = KerasClassifier(build_fn=baseline_model, epochs=5, batch_size=100, verbose=0)\n",
    "        kfold = StratifiedKFold(n_splits=5, shuffle=True, random_state=0)\n",
    "        results = cross_val_score(estimator, x_train, y_train, cv=kfold)\n",
    "        print(len(results),' experiments were run: ',[k for k in results])\n",
    "        PATH = os.getcwd()\n",
    "        filepath = f'{PATH}/results/linear.hdf5'\n",
    "        checkpoint = ModelCheckpoint(filepath, monitor='val_acc', verbose=1, save_best_only=True, mode='max')\n",
    "        callbacks_list = [checkpoint]\n",
    "        model = baseline_model()\n",
    "        model.fit(x_train, dummy_y, validation_data=(x_test, dummy_y_test), epochs=5, batch_size=100, callbacks=callbacks_list)\n",
    "        preds = model.predict(x_test)\n",
    "        print(metrics.classification_report(y_test, np.argmax(preds, axis=1)))\n",
    "        \n",
    "    def bert_model(self):\n",
    "        \"\"\"\n",
    "            ------------------\n",
    "            --- PREDICTION ---\n",
    "            ------------------\n",
    "        \"\"\"\n",
    "        \n",
    "        X_train, X_test, y_train, y_test = train_test_split(self.bert_here, \n",
    "                                                            self.data_here['target'].values, \n",
    "                                                            test_size=0.25, \n",
    "                                                            random_state=0)\n",
    "        dummy_y = np_utils.to_categorical(y_train)\n",
    "        dummy_y_test = np_utils.to_categorical(y_test)\n",
    "        \n",
    "        def baseline_model():\n",
    "            model = Sequential([\n",
    "                Dense(100, activation='relu'),\n",
    "                Dropout(0.5),\n",
    "                Dense(self.my_info_dict['Number_of_Classes'], activation='softmax'),\n",
    "            ])\n",
    "            model.compile(loss='categorical_crossentropy', optimizer=Adam(), metrics=['accuracy'])\n",
    "            return model\n",
    "        \n",
    "        estimator = KerasClassifier(build_fn=baseline_model, epochs=5, batch_size=100, verbose=0)\n",
    "        kfold = StratifiedKFold(n_splits=5, shuffle=True, random_state=0)\n",
    "        results = cross_val_score(estimator, X_train, y_train, cv=kfold)\n",
    "        print(len(results),' experiments were run: ',[k for k in results])\n",
    "        PATH = os.getcwd()\n",
    "        filepath = f'{PATH}/results/bert.hdf5'\n",
    "        checkpoint = ModelCheckpoint(filepath, monitor='val_acc', verbose=1, save_best_only=True, mode='max')\n",
    "        callbacks_list = [checkpoint]\n",
    "        model = baseline_model()\n",
    "        model.fit(X_train, dummy_y, validation_data=(X_test, dummy_y_test), epochs=5, batch_size=100, callbacks=callbacks_list)\n",
    "        preds = model.predict(X_test)\n",
    "        print(metrics.classification_report(y_test, np.argmax(preds, axis=1)))\n",
    "        \n",
    "    def lstm_model(self):\n",
    "        \"\"\"\n",
    "            ------------------\n",
    "            --- PREDICTION ---\n",
    "            ------------------\n",
    "        \"\"\"\n",
    "        \n",
    "        X_train, X_test, y_train, y_test = train_test_split(self.data_here['tokenized_int'].values, \n",
    "                                                            self.data_here['target'].values, \n",
    "                                                            test_size=0.25, \n",
    "                                                            random_state=0)\n",
    "        x_train = pad_sequences(X_train, maxlen=self.my_info_dict['Words_Per_Document'], value=0)\n",
    "        x_test = pad_sequences(X_test, maxlen=self.my_info_dict['Words_Per_Document'], value=0)\n",
    "        dummy_y = np_utils.to_categorical(y_train)\n",
    "        dummy_y_test = np_utils.to_categorical(y_test)\n",
    "        \n",
    "        def simple_lstm():\n",
    "            model = Sequential([Embedding(input_dim=self.my_info_dict['Vocabulary_Size_to_Use'], \n",
    "                                      output_dim=self.my_info_dict['Embedding_Dimension_to_Use'], \n",
    "                                      input_length=self.my_info_dict['Words_Per_Document']),\n",
    "                            LSTM(25),\n",
    "                            Dense(self.my_info_dict['Number_of_Classes'], activation='softmax')])\n",
    "\n",
    "            model.compile(loss='categorical_crossentropy', optimizer=Adam(), metrics=['accuracy'])\n",
    "\n",
    "            return model\n",
    "        \n",
    "        estimator = KerasClassifier(build_fn=simple_lstm, epochs=5, batch_size=100, verbose=0)\n",
    "        kfold = StratifiedKFold(n_splits=5, shuffle=True, random_state=0)\n",
    "        results = cross_val_score(estimator, x_train, y_train, cv=kfold)\n",
    "        print(len(results),' experiments were run: ',[k for k in results])\n",
    "        PATH = os.getcwd()\n",
    "        filepath = f'{PATH}/results/lstm.hdf5'\n",
    "        checkpoint = ModelCheckpoint(filepath, monitor='val_acc', verbose=1, save_best_only=True, mode='max')\n",
    "        callbacks_list = [checkpoint]\n",
    "        model = simple_lstm()\n",
    "        model.fit(x_train, dummy_y, validation_data=(x_test, dummy_y_test), epochs=5, batch_size=100, callbacks=callbacks_list)\n",
    "        \n",
    "        # serialize model to JSON\n",
    "        model_json = model.to_json()\n",
    "        with open(\"lstm_model.json\", \"w\") as json_file:\n",
    "            json_file.write(model_json)\n",
    "        # serialize weights to HDF5\n",
    "        model.save_weights(\"lstm_model_weights.h5\")\n",
    "        \n",
    "        preds = model.predict(x_test)\n",
    "        print(metrics.classification_report(y_test, np.argmax(preds, axis=1)))\n"
   ]
  },
  {
   "cell_type": "code",
   "execution_count": 36,
   "metadata": {},
   "outputs": [],
   "source": [
    "def plot_history(history):\n",
    "    acc = history.history['acc']\n",
    "    val_acc = history.history['val_acc']\n",
    "    loss = history.history['loss']\n",
    "    val_loss = history.history['val_loss']\n",
    "    x = range(1, len(acc) + 1)\n",
    "\n",
    "    plt.figure(figsize=(12, 5))\n",
    "    plt.subplot(1, 2, 1)\n",
    "    plt.plot(x, acc, 'b', label='Training acc')\n",
    "    plt.plot(x, val_acc, 'r', label='Validation acc')\n",
    "    plt.title('Training and validation accuracy')\n",
    "    plt.legend()\n",
    "    plt.subplot(1, 2, 2)\n",
    "    plt.plot(x, loss, 'b', label='Training loss')\n",
    "    plt.plot(x, val_loss, 'r', label='Validation loss')\n",
    "    plt.title('Training and validation loss')\n",
    "    plt.legend()"
   ]
  },
  {
   "cell_type": "code",
   "execution_count": 37,
   "metadata": {},
   "outputs": [],
   "source": [
    "header = [\"value\", \"text\"]\n",
    "train = pd.read_csv(\"parsed_data/sst_train_sentences.csv\", \n",
    "                    names=header)\n",
    "test = pd.read_csv(\"parsed_data/sst_test.csv\", \n",
    "                   names=header)\n",
    "dev = pd.read_csv(\"parsed_data/sst_dev.csv\", \n",
    "                  names=header)\n",
    "\n",
    "\n",
    "classes = [((0, 0.2),0), ((0.2, 0.4),1), \n",
    "           ((0.4, 0.6),2), ((0.6, 0.8),3), ((0.8, 1.0),4)]\n",
    "\n",
    "def get_label(x):\n",
    "    for key, value in classes:            \n",
    "        if key[0] <= x <= key[1]:\n",
    "            return value\n",
    "\n",
    "# [0, 0.2], (0.2, 0.4], (0.4, 0.6], (0.6, 0.8], (0.8, 1.0]\n",
    "train[\"label\"] = train[\"value\"].apply(get_label)\n",
    "test[\"label\"] = test[\"value\"].apply(get_label)\n",
    "dev[\"label\"] = dev[\"value\"].apply(get_label)\n",
    "\n",
    "y_train = train[\"label\"]\n",
    "y_test = test[\"label\"]\n",
    "y_dev = dev[\"label\"]\n",
    "\n",
    "\n",
    "# vectorizer = TfidfVectorizer(min_df=0, lowercase=False)\n",
    "# vectorizer.fit(train[\"text\"])\n",
    "\n",
    "# train_vects = vectorizer.transform(train[\"text\"]).toarray()\n",
    "# test_vects =  vectorizer.transform(test[\"text\"]).toarray()\n",
    "# dev_vects =  vectorizer.transform(dev[\"text\"]).toarray()\n",
    "\n",
    "\n",
    "# convert list of tokens/words to indexes\n",
    "tokenizer = Tokenizer()\n",
    "tokenizer.fit_on_texts(train[\"text\"])\n",
    "sequences_train = tokenizer.texts_to_sequences(train[\"text\"])\n",
    "max_input_lenght = max([len(x) for x in sequences_train])\n",
    "word_index = tokenizer.word_index\n",
    "\n",
    "# # pad all the sequences of indexes to the 'max_input_lenght'\n",
    "# x_train_data_padded = pad_sequences(\n",
    "#     sequences_train, \n",
    "#     maxlen=max_input_lenght, \n",
    "#     padding='post', \n",
    "#     truncating='post')\n",
    "\n",
    "# x_dev_data_padded = pad_sequences(\n",
    "#     tokenizer.texts_to_sequences(dev[\"text\"]), \n",
    "#     maxlen=max_input_lenght, \n",
    "#     padding='post', \n",
    "#     truncating='post')\n",
    "\n",
    "# x_test_data_padded = pad_sequences(\n",
    "#     tokenizer.texts_to_sequences(test[\"text\"]), \n",
    "#     maxlen=max_input_lenght, \n",
    "#     padding='post', \n",
    "#     truncating='post')\n",
    "\n",
    "# Encode the labels, each must be a vector with \n",
    "# dim = num. of possible labels\n",
    "le = LabelEncoder()\n",
    "le.fit(y_train)\n",
    "\n",
    "labels_encoded_train = le.transform(y_train)\n",
    "labels_encoded_dev = le.transform(y_dev)\n",
    "labels_encoded_test = le.transform(y_test)\n",
    "\n",
    "categorical_labels_train = to_categorical(labels_encoded_train, \n",
    "                                          num_classes=None)\n",
    "categorical_labels_dev = to_categorical(labels_encoded_dev, \n",
    "                                        num_classes=None)\n",
    "categorical_labels_test = to_categorical(labels_encoded_test, \n",
    "                                         num_classes=None)\n"
   ]
  },
  {
   "cell_type": "code",
   "execution_count": 38,
   "metadata": {},
   "outputs": [
    {
     "data": {
      "text/plain": [
       "(8534, 3)"
      ]
     },
     "execution_count": 38,
     "metadata": {},
     "output_type": "execute_result"
    }
   ],
   "source": [
    "train.shape"
   ]
  },
  {
   "cell_type": "code",
   "execution_count": 39,
   "metadata": {},
   "outputs": [
    {
     "data": {
      "text/plain": [
       "(1100, 3)"
      ]
     },
     "execution_count": 39,
     "metadata": {},
     "output_type": "execute_result"
    }
   ],
   "source": [
    "dev.shape"
   ]
  },
  {
   "cell_type": "code",
   "execution_count": 40,
   "metadata": {},
   "outputs": [
    {
     "data": {
      "text/plain": [
       "(2210, 3)"
      ]
     },
     "execution_count": 40,
     "metadata": {},
     "output_type": "execute_result"
    }
   ],
   "source": [
    "test.shape"
   ]
  },
  {
   "cell_type": "code",
   "execution_count": 41,
   "metadata": {},
   "outputs": [
    {
     "data": {
      "text/plain": [
       "{'Dataset_Length': 8534, 'Columns': ['value', 'text', 'label']}"
      ]
     },
     "execution_count": 41,
     "metadata": {},
     "output_type": "execute_result"
    }
   ],
   "source": [
    "vab = Verarbeitung(train)\n",
    "vab.auskunft()"
   ]
  },
  {
   "cell_type": "code",
   "execution_count": 42,
   "metadata": {},
   "outputs": [
    {
     "data": {
      "text/html": [
       "<div>\n",
       "<style scoped>\n",
       "    .dataframe tbody tr th:only-of-type {\n",
       "        vertical-align: middle;\n",
       "    }\n",
       "\n",
       "    .dataframe tbody tr th {\n",
       "        vertical-align: top;\n",
       "    }\n",
       "\n",
       "    .dataframe thead th {\n",
       "        text-align: right;\n",
       "    }\n",
       "</style>\n",
       "<table border=\"1\" class=\"dataframe\">\n",
       "  <thead>\n",
       "    <tr style=\"text-align: right;\">\n",
       "      <th></th>\n",
       "      <th>value</th>\n",
       "      <th>text</th>\n",
       "      <th>label</th>\n",
       "    </tr>\n",
       "  </thead>\n",
       "  <tbody>\n",
       "    <tr>\n",
       "      <th>0</th>\n",
       "      <td>0.69444</td>\n",
       "      <td>Reno himself can take credit for most of the movie 's success .</td>\n",
       "      <td>3</td>\n",
       "    </tr>\n",
       "  </tbody>\n",
       "</table>\n",
       "</div>"
      ],
      "text/plain": [
       "     value                                                             text  \\\n",
       "0  0.69444  Reno himself can take credit for most of the movie 's success .   \n",
       "\n",
       "   label  \n",
       "0  3      "
      ]
     },
     "execution_count": 42,
     "metadata": {},
     "output_type": "execute_result"
    }
   ],
   "source": [
    "train.head(1)"
   ]
  },
  {
   "cell_type": "code",
   "execution_count": 43,
   "metadata": {},
   "outputs": [
    {
     "data": {
      "text/plain": [
       "{'Dataset_Length': 8534,\n",
       " 'Columns': ['value', 'text', 'label', 'target'],\n",
       " 'Classes': [0, 1, 2, 3, 4],\n",
       " 'Number_of_Classes': 5,\n",
       " 'Transformed_Classes': [0, 1, 2, 3, 4]}"
      ]
     },
     "execution_count": 43,
     "metadata": {},
     "output_type": "execute_result"
    }
   ],
   "source": [
    "vab.labels_to_numbers('label')\n",
    "vab.auskunft()"
   ]
  },
  {
   "cell_type": "code",
   "execution_count": 44,
   "metadata": {},
   "outputs": [
    {
     "data": {
      "text/plain": [
       "{'Dataset_Length': 8534,\n",
       " 'Columns': ['value', 'text', 'label', 'target', 'clean_tweet'],\n",
       " 'Classes': [0, 1, 2, 3, 4],\n",
       " 'Number_of_Classes': 5,\n",
       " 'Transformed_Classes': [0, 1, 2, 3, 4]}"
      ]
     },
     "execution_count": 44,
     "metadata": {},
     "output_type": "execute_result"
    }
   ],
   "source": [
    "vab.clean_the_tweets('text')\n",
    "vab.auskunft()"
   ]
  },
  {
   "cell_type": "code",
   "execution_count": 45,
   "metadata": {},
   "outputs": [
    {
     "name": "stdout",
     "output_type": "stream",
     "text": [
      "       0     1     2     3     4  total\n",
      "the  941  1863  1349  2100  1048  7301 \n",
      "and  549  989   642   1382  911   4473 \n",
      "of   557  1042  765   1293  736   4393 \n",
      "to   421  845   583   783   389   3021 \n",
      "is   355  678   465   677   384   2559 \n"
     ]
    },
    {
     "data": {
      "image/png": "[encoded data removed]",
      "text/plain": [
       "<Figure size 936x504 with 2 Axes>"
      ]
     },
     "metadata": {
      "needs_background": "light"
     },
     "output_type": "display_data"
    },
    {
     "data": {
      "image/png": "[encoded data removed]",
      "text/plain": [
       "<Figure size 936x504 with 2 Axes>"
      ]
     },
     "metadata": {
      "needs_background": "light"
     },
     "output_type": "display_data"
    },
    {
     "data": {
      "image/png": "[encoded data removed]",
      "text/plain": [
       "<Figure size 936x504 with 2 Axes>"
      ]
     },
     "metadata": {
      "needs_background": "light"
     },
     "output_type": "display_data"
    },
    {
     "data": {
      "image/png": "[encoded data removed]",
      "text/plain": [
       "<Figure size 936x504 with 2 Axes>"
      ]
     },
     "metadata": {
      "needs_background": "light"
     },
     "output_type": "display_data"
    },
    {
     "data": {
      "image/png": "[encoded data removed]",
      "text/plain": [
       "<Figure size 936x504 with 2 Axes>"
      ]
     },
     "metadata": {
      "needs_background": "light"
     },
     "output_type": "display_data"
    }
   ],
   "source": [
    "vab.tokens_and_more('label')"
   ]
  },
  {
   "cell_type": "code",
   "execution_count": 46,
   "metadata": {},
   "outputs": [
    {
     "data": {
      "text/html": [
       "<div>\n",
       "<style scoped>\n",
       "    .dataframe tbody tr th:only-of-type {\n",
       "        vertical-align: middle;\n",
       "    }\n",
       "\n",
       "    .dataframe tbody tr th {\n",
       "        vertical-align: top;\n",
       "    }\n",
       "\n",
       "    .dataframe thead th {\n",
       "        text-align: right;\n",
       "    }\n",
       "</style>\n",
       "<table border=\"1\" class=\"dataframe\">\n",
       "  <thead>\n",
       "    <tr style=\"text-align: right;\">\n",
       "      <th></th>\n",
       "      <th>value</th>\n",
       "      <th>text</th>\n",
       "      <th>label</th>\n",
       "      <th>target</th>\n",
       "      <th>clean_tweet</th>\n",
       "    </tr>\n",
       "  </thead>\n",
       "  <tbody>\n",
       "    <tr>\n",
       "      <th>0</th>\n",
       "      <td>0.69444</td>\n",
       "      <td>reno himself can take credit for most of the movie 's success .</td>\n",
       "      <td>3</td>\n",
       "      <td>3</td>\n",
       "      <td>reno himself can take credit for most of the movie s success</td>\n",
       "    </tr>\n",
       "    <tr>\n",
       "      <th>1</th>\n",
       "      <td>0.70833</td>\n",
       "      <td>despite the film 's shortcomings , the stories are quietly moving .</td>\n",
       "      <td>3</td>\n",
       "      <td>3</td>\n",
       "      <td>despite the film s shortcomings  the stories are quietly moving</td>\n",
       "    </tr>\n",
       "    <tr>\n",
       "      <th>2</th>\n",
       "      <td>0.26389</td>\n",
       "      <td>despite its dry wit and compassion , the film suffers from a philosophical emptiness and maddeningly sedate pacing .</td>\n",
       "      <td>1</td>\n",
       "      <td>1</td>\n",
       "      <td>despite its dry wit and compassion  the film suffers from a philosophical emptiness and maddeningly sedate pacing</td>\n",
       "    </tr>\n",
       "    <tr>\n",
       "      <th>3</th>\n",
       "      <td>0.47222</td>\n",
       "      <td>the central character is n't complex enough to hold our interest .</td>\n",
       "      <td>2</td>\n",
       "      <td>2</td>\n",
       "      <td>the central character is nt complex enough to hold our interest</td>\n",
       "    </tr>\n",
       "    <tr>\n",
       "      <th>4</th>\n",
       "      <td>0.13889</td>\n",
       "      <td>rifkin no doubt fancies himself something of a hubert selby jr. , but there is n't an ounce of honest poetry in his entire script ; it 's simply crude and unrelentingly exploitative .</td>\n",
       "      <td>0</td>\n",
       "      <td>0</td>\n",
       "      <td>rifkin no doubt fancies himself something of a hubert selby jr  but there is nt an ounce of honest poetry in his entire script  it s simply crude and unrelentingly exploitative</td>\n",
       "    </tr>\n",
       "  </tbody>\n",
       "</table>\n",
       "</div>"
      ],
      "text/plain": [
       "     value  \\\n",
       "0  0.69444   \n",
       "1  0.70833   \n",
       "2  0.26389   \n",
       "3  0.47222   \n",
       "4  0.13889   \n",
       "\n",
       "                                                                                                                                                                                      text  \\\n",
       "0  reno himself can take credit for most of the movie 's success .                                                                                                                           \n",
       "1  despite the film 's shortcomings , the stories are quietly moving .                                                                                                                       \n",
       "2  despite its dry wit and compassion , the film suffers from a philosophical emptiness and maddeningly sedate pacing .                                                                      \n",
       "3  the central character is n't complex enough to hold our interest .                                                                                                                        \n",
       "4  rifkin no doubt fancies himself something of a hubert selby jr. , but there is n't an ounce of honest poetry in his entire script ; it 's simply crude and unrelentingly exploitative .   \n",
       "\n",
       "   label  target  \\\n",
       "0  3      3        \n",
       "1  3      3        \n",
       "2  1      1        \n",
       "3  2      2        \n",
       "4  0      0        \n",
       "\n",
       "                                                                                                                                                                         clean_tweet  \n",
       "0  reno himself can take credit for most of the movie s success                                                                                                                       \n",
       "1  despite the film s shortcomings  the stories are quietly moving                                                                                                                    \n",
       "2  despite its dry wit and compassion  the film suffers from a philosophical emptiness and maddeningly sedate pacing                                                                  \n",
       "3  the central character is nt complex enough to hold our interest                                                                                                                    \n",
       "4  rifkin no doubt fancies himself something of a hubert selby jr  but there is nt an ounce of honest poetry in his entire script  it s simply crude and unrelentingly exploitative   "
      ]
     },
     "execution_count": 46,
     "metadata": {},
     "output_type": "execute_result"
    }
   ],
   "source": [
    "vab.data_here.head()"
   ]
  },
  {
   "cell_type": "code",
   "execution_count": 47,
   "metadata": {},
   "outputs": [
    {
     "data": {
      "image/png": "[encoded data removed]",
      "text/plain": [
       "<Figure size 576x432 with 1 Axes>"
      ]
     },
     "metadata": {
      "needs_background": "light"
     },
     "output_type": "display_data"
    }
   ],
   "source": [
    "vab.prozent_wrt('label')"
   ]
  },
  {
   "cell_type": "code",
   "execution_count": 48,
   "metadata": {},
   "outputs": [
    {
     "data": {
      "text/plain": [
       "{'Dataset_Length': 8534,\n",
       " 'Columns': ['value', 'text', 'label', 'target', 'clean_tweet'],\n",
       " 'Classes': [0, 1, 2, 3, 4],\n",
       " 'Number_of_Classes': 5,\n",
       " 'Transformed_Classes': [0, 1, 2, 3, 4]}"
      ]
     },
     "execution_count": 48,
     "metadata": {},
     "output_type": "execute_result"
    }
   ],
   "source": [
    "vab.auskunft()"
   ]
  },
  {
   "cell_type": "code",
   "execution_count": 49,
   "metadata": {},
   "outputs": [
    {
     "data": {
      "image/png": "[encoded data removed]",
      "text/plain": [
       "<Figure size 1080x576 with 2 Axes>"
      ]
     },
     "metadata": {
      "needs_background": "light"
     },
     "output_type": "display_data"
    }
   ],
   "source": [
    "vab.afinn_stuff('label')"
   ]
  },
  {
   "cell_type": "code",
   "execution_count": 50,
   "metadata": {},
   "outputs": [
    {
     "data": {
      "text/plain": [
       "{'Dataset_Length': 8534,\n",
       " 'Columns': ['value',\n",
       "  'text',\n",
       "  'label',\n",
       "  'target',\n",
       "  'clean_tweet',\n",
       "  'tokenized',\n",
       "  'tokenized_int'],\n",
       " 'Classes': [0, 1, 2, 3, 4],\n",
       " 'Number_of_Classes': 5,\n",
       " 'Transformed_Classes': [0, 1, 2, 3, 4],\n",
       " 'Vocabulary': 16296,\n",
       " 'Vocabulary_Size_to_Use': 5000,\n",
       " 'Embedding_Dimension_to_Use': 50,\n",
       " 'Words_Per_Document': 29}"
      ]
     },
     "execution_count": 50,
     "metadata": {},
     "output_type": "execute_result"
    }
   ],
   "source": [
    "vab.normalizer('clean_tweet')\n",
    "vab.auskunft()"
   ]
  },
  {
   "cell_type": "code",
   "execution_count": null,
   "metadata": {},
   "outputs": [],
   "source": []
  },
  {
   "cell_type": "code",
   "execution_count": 51,
   "metadata": {},
   "outputs": [
    {
     "data": {
      "text/html": [
       "<div>\n",
       "<style scoped>\n",
       "    .dataframe tbody tr th:only-of-type {\n",
       "        vertical-align: middle;\n",
       "    }\n",
       "\n",
       "    .dataframe tbody tr th {\n",
       "        vertical-align: top;\n",
       "    }\n",
       "\n",
       "    .dataframe thead th {\n",
       "        text-align: right;\n",
       "    }\n",
       "</style>\n",
       "<table border=\"1\" class=\"dataframe\">\n",
       "  <thead>\n",
       "    <tr style=\"text-align: right;\">\n",
       "      <th></th>\n",
       "      <th>value</th>\n",
       "      <th>text</th>\n",
       "      <th>label</th>\n",
       "      <th>target</th>\n",
       "      <th>clean_tweet</th>\n",
       "      <th>tokenized</th>\n",
       "      <th>tokenized_int</th>\n",
       "    </tr>\n",
       "  </thead>\n",
       "  <tbody>\n",
       "    <tr>\n",
       "      <th>0</th>\n",
       "      <td>0.69444</td>\n",
       "      <td>reno himself can take credit for most of the movie 's success .</td>\n",
       "      <td>3</td>\n",
       "      <td>3</td>\n",
       "      <td>reno himself can take credit for most of the movie s success</td>\n",
       "      <td>[reno, take, credit, movie, success]</td>\n",
       "      <td>[1043, 101, 974, 2, 588]</td>\n",
       "    </tr>\n",
       "    <tr>\n",
       "      <th>1</th>\n",
       "      <td>0.70833</td>\n",
       "      <td>despite the film 's shortcomings , the stories are quietly moving .</td>\n",
       "      <td>3</td>\n",
       "      <td>3</td>\n",
       "      <td>despite the film s shortcomings  the stories are quietly moving</td>\n",
       "      <td>[despite, film, shortcomings, stories, quietly, moving]</td>\n",
       "      <td>[124, 1, 4123, 331, 835, 161]</td>\n",
       "    </tr>\n",
       "    <tr>\n",
       "      <th>2</th>\n",
       "      <td>0.26389</td>\n",
       "      <td>despite its dry wit and compassion , the film suffers from a philosophical emptiness and maddeningly sedate pacing .</td>\n",
       "      <td>1</td>\n",
       "      <td>1</td>\n",
       "      <td>despite its dry wit and compassion  the film suffers from a philosophical emptiness and maddeningly sedate pacing</td>\n",
       "      <td>[despite, dry, wit, compassion, film, suffers, philosophical, emptiness, maddeningly, sedate, pacing]</td>\n",
       "      <td>[124, 669, 279, 1550, 1, 490, 1044, 3288, 0, 0, 636]</td>\n",
       "    </tr>\n",
       "    <tr>\n",
       "      <th>3</th>\n",
       "      <td>0.47222</td>\n",
       "      <td>the central character is n't complex enough to hold our interest .</td>\n",
       "      <td>2</td>\n",
       "      <td>2</td>\n",
       "      <td>the central character is nt complex enough to hold our interest</td>\n",
       "      <td>[central, character, nt, complex, enough, hold, interest]</td>\n",
       "      <td>[899, 59, 3, 373, 22, 713, 287]</td>\n",
       "    </tr>\n",
       "    <tr>\n",
       "      <th>4</th>\n",
       "      <td>0.13889</td>\n",
       "      <td>rifkin no doubt fancies himself something of a hubert selby jr. , but there is n't an ounce of honest poetry in his entire script ; it 's simply crude and unrelentingly exploitative .</td>\n",
       "      <td>0</td>\n",
       "      <td>0</td>\n",
       "      <td>rifkin no doubt fancies himself something of a hubert selby jr  but there is nt an ounce of honest poetry in his entire script  it s simply crude and unrelentingly exploitative</td>\n",
       "      <td>[rifkin, no, doubt, fancies, something, hubert, selby, jr, nt, ounce, honest, poetry, entire, script, simply, crude, unrelentingly, exploitative]</td>\n",
       "      <td>[3289, 8, 670, 0, 35, 0, 0, 4124, 3, 0, 404, 771, 546, 66, 175, 1739, 0, 1740]</td>\n",
       "    </tr>\n",
       "  </tbody>\n",
       "</table>\n",
       "</div>"
      ],
      "text/plain": [
       "     value  \\\n",
       "0  0.69444   \n",
       "1  0.70833   \n",
       "2  0.26389   \n",
       "3  0.47222   \n",
       "4  0.13889   \n",
       "\n",
       "                                                                                                                                                                                      text  \\\n",
       "0  reno himself can take credit for most of the movie 's success .                                                                                                                           \n",
       "1  despite the film 's shortcomings , the stories are quietly moving .                                                                                                                       \n",
       "2  despite its dry wit and compassion , the film suffers from a philosophical emptiness and maddeningly sedate pacing .                                                                      \n",
       "3  the central character is n't complex enough to hold our interest .                                                                                                                        \n",
       "4  rifkin no doubt fancies himself something of a hubert selby jr. , but there is n't an ounce of honest poetry in his entire script ; it 's simply crude and unrelentingly exploitative .   \n",
       "\n",
       "   label  target  \\\n",
       "0  3      3        \n",
       "1  3      3        \n",
       "2  1      1        \n",
       "3  2      2        \n",
       "4  0      0        \n",
       "\n",
       "                                                                                                                                                                         clean_tweet  \\\n",
       "0  reno himself can take credit for most of the movie s success                                                                                                                        \n",
       "1  despite the film s shortcomings  the stories are quietly moving                                                                                                                     \n",
       "2  despite its dry wit and compassion  the film suffers from a philosophical emptiness and maddeningly sedate pacing                                                                   \n",
       "3  the central character is nt complex enough to hold our interest                                                                                                                     \n",
       "4  rifkin no doubt fancies himself something of a hubert selby jr  but there is nt an ounce of honest poetry in his entire script  it s simply crude and unrelentingly exploitative    \n",
       "\n",
       "                                                                                                                                           tokenized  \\\n",
       "0  [reno, take, credit, movie, success]                                                                                                                \n",
       "1  [despite, film, shortcomings, stories, quietly, moving]                                                                                             \n",
       "2  [despite, dry, wit, compassion, film, suffers, philosophical, emptiness, maddeningly, sedate, pacing]                                               \n",
       "3  [central, character, nt, complex, enough, hold, interest]                                                                                           \n",
       "4  [rifkin, no, doubt, fancies, something, hubert, selby, jr, nt, ounce, honest, poetry, entire, script, simply, crude, unrelentingly, exploitative]   \n",
       "\n",
       "                                                                    tokenized_int  \n",
       "0  [1043, 101, 974, 2, 588]                                                        \n",
       "1  [124, 1, 4123, 331, 835, 161]                                                   \n",
       "2  [124, 669, 279, 1550, 1, 490, 1044, 3288, 0, 0, 636]                            \n",
       "3  [899, 59, 3, 373, 22, 713, 287]                                                 \n",
       "4  [3289, 8, 670, 0, 35, 0, 0, 4124, 3, 0, 404, 771, 546, 66, 175, 1739, 0, 1740]  "
      ]
     },
     "execution_count": 51,
     "metadata": {},
     "output_type": "execute_result"
    }
   ],
   "source": [
    "vab.data_here.head()"
   ]
  },
  {
   "cell_type": "code",
   "execution_count": null,
   "metadata": {},
   "outputs": [],
   "source": []
  },
  {
   "cell_type": "code",
   "execution_count": 52,
   "metadata": {},
   "outputs": [
    {
     "name": "stdout",
     "output_type": "stream",
     "text": [
      "5  experiments were run:  [0.3671083425695043, 0.38437499897554517, 0.368256449885812, 0.3870211090773134, 0.37685691869939275]\n",
      "Train on 6400 samples, validate on 2134 samples\n",
      "Epoch 1/5\n",
      "6400/6400 [==============================] - 2s 310us/step - loss: 1.5800 - acc: 0.2755 - val_loss: 1.5713 - val_acc: 0.2690\n",
      "\n",
      "Epoch 00001: val_acc improved from -inf to 0.26898, saving model to /home/user/Documents/aml/project_sentiment/results/lstm.hdf5\n",
      "Epoch 2/5\n",
      "6400/6400 [==============================] - 1s 147us/step - loss: 1.5226 - acc: 0.3697 - val_loss: 1.5255 - val_acc: 0.3327\n",
      "\n",
      "Epoch 00002: val_acc improved from 0.26898 to 0.33271, saving model to /home/user/Documents/aml/project_sentiment/results/lstm.hdf5\n",
      "Epoch 3/5\n",
      "6400/6400 [==============================] - 1s 141us/step - loss: 1.3154 - acc: 0.4455 - val_loss: 1.4473 - val_acc: 0.3693\n",
      "\n",
      "Epoch 00003: val_acc improved from 0.33271 to 0.36926, saving model to /home/user/Documents/aml/project_sentiment/results/lstm.hdf5\n",
      "Epoch 4/5\n",
      "6400/6400 [==============================] - 1s 142us/step - loss: 1.0205 - acc: 0.5747 - val_loss: 1.5718 - val_acc: 0.3693\n",
      "\n",
      "Epoch 00004: val_acc did not improve from 0.36926\n",
      "Epoch 5/5\n",
      "6400/6400 [==============================] - 1s 142us/step - loss: 0.7674 - acc: 0.7120 - val_loss: 1.7776 - val_acc: 0.3618\n",
      "\n",
      "Epoch 00005: val_acc did not improve from 0.36926\n",
      "              precision    recall  f1-score   support\n",
      "\n",
      "           0       0.33      0.14      0.20       269\n",
      "           1       0.38      0.41      0.40       534\n",
      "           2       0.26      0.22      0.24       422\n",
      "           3       0.38      0.55      0.45       567\n",
      "           4       0.43      0.31      0.36       342\n",
      "\n",
      "   micro avg       0.36      0.36      0.36      2134\n",
      "   macro avg       0.36      0.33      0.33      2134\n",
      "weighted avg       0.36      0.36      0.35      2134\n",
      "\n"
     ]
    }
   ],
   "source": [
    "vab.lstm_model()"
   ]
  },
  {
   "cell_type": "code",
   "execution_count": 53,
   "metadata": {},
   "outputs": [],
   "source": [
    "from keras.models import model_from_json\n",
    "# load json and create model\n",
    "json_file = open('lstm_model.json', 'r')\n",
    "lstm_model_json = json_file.read()\n",
    "json_file.close()\n",
    "lstm_model = model_from_json(lstm_model_json)\n",
    "# load weights into new model\n",
    "# lstm_model.load_weights(\"lstm_model_weights.h5\")"
   ]
  },
  {
   "cell_type": "code",
   "execution_count": 54,
   "metadata": {},
   "outputs": [
    {
     "data": {
      "text/html": [
       "<div>\n",
       "<style scoped>\n",
       "    .dataframe tbody tr th:only-of-type {\n",
       "        vertical-align: middle;\n",
       "    }\n",
       "\n",
       "    .dataframe tbody tr th {\n",
       "        vertical-align: top;\n",
       "    }\n",
       "\n",
       "    .dataframe thead th {\n",
       "        text-align: right;\n",
       "    }\n",
       "</style>\n",
       "<table border=\"1\" class=\"dataframe\">\n",
       "  <thead>\n",
       "    <tr style=\"text-align: right;\">\n",
       "      <th></th>\n",
       "      <th>value</th>\n",
       "      <th>text</th>\n",
       "      <th>label</th>\n",
       "      <th>target</th>\n",
       "      <th>clean_tweet</th>\n",
       "      <th>tokenized</th>\n",
       "      <th>tokenized_int</th>\n",
       "    </tr>\n",
       "  </thead>\n",
       "  <tbody>\n",
       "    <tr>\n",
       "      <th>0</th>\n",
       "      <td>0.69444</td>\n",
       "      <td>reno himself can take credit for most of the movie 's success .</td>\n",
       "      <td>3</td>\n",
       "      <td>3</td>\n",
       "      <td>reno himself can take credit for most of the movie s success</td>\n",
       "      <td>[reno, take, credit, movie, success]</td>\n",
       "      <td>[1043, 101, 974, 2, 588]</td>\n",
       "    </tr>\n",
       "  </tbody>\n",
       "</table>\n",
       "</div>"
      ],
      "text/plain": [
       "     value                                                             text  \\\n",
       "0  0.69444  reno himself can take credit for most of the movie 's success .   \n",
       "\n",
       "   label  target  \\\n",
       "0  3      3        \n",
       "\n",
       "                                                     clean_tweet  \\\n",
       "0  reno himself can take credit for most of the movie s success    \n",
       "\n",
       "                              tokenized             tokenized_int  \n",
       "0  [reno, take, credit, movie, success]  [1043, 101, 974, 2, 588]  "
      ]
     },
     "execution_count": 54,
     "metadata": {},
     "output_type": "execute_result"
    }
   ],
   "source": [
    "vab.data_here.head(1)"
   ]
  },
  {
   "cell_type": "code",
   "execution_count": 55,
   "metadata": {},
   "outputs": [],
   "source": [
    "vab_dev = Verarbeitung(dev)\n",
    "vab_dev.clean_the_tweets('text')\n",
    "vab_dev.normalizer('clean_tweet')\n",
    "\n",
    "vab_test = Verarbeitung(test)\n",
    "vab_test.clean_the_tweets('text')\n",
    "vab_test.normalizer('clean_tweet')\n"
   ]
  },
  {
   "cell_type": "code",
   "execution_count": null,
   "metadata": {},
   "outputs": [],
   "source": []
  },
  {
   "cell_type": "code",
   "execution_count": 56,
   "metadata": {},
   "outputs": [],
   "source": [
    "x_train = pad_sequences(vab.data_here['tokenized_int'], \n",
    "                        maxlen=vab.my_info_dict['Words_Per_Document'], \n",
    "                        value=0, padding='pre')\n",
    "\n",
    "x_dev = pad_sequences(vab_dev.data_here['tokenized_int'], \n",
    "                        maxlen=vab.my_info_dict['Words_Per_Document'], \n",
    "                        value=0, padding='pre')\n",
    "\n",
    "x_test = pad_sequences(vab_test.data_here['tokenized_int'], \n",
    "                        maxlen=vab.my_info_dict['Words_Per_Document'], \n",
    "                        value=0, padding='pre')\n"
   ]
  },
  {
   "cell_type": "code",
   "execution_count": null,
   "metadata": {},
   "outputs": [],
   "source": []
  },
  {
   "cell_type": "markdown",
   "metadata": {},
   "source": [
    "# LSTM"
   ]
  },
  {
   "cell_type": "code",
   "execution_count": 57,
   "metadata": {},
   "outputs": [
    {
     "name": "stdout",
     "output_type": "stream",
     "text": [
      "Train on 8534 samples, validate on 1100 samples\n",
      "Epoch 1/5\n",
      "8534/8534 [==============================] - 2s 268us/step - loss: 1.5744 - acc: 0.2799 - val_loss: 1.5712 - val_acc: 0.2709\n",
      "Epoch 2/5\n",
      "8534/8534 [==============================] - 1s 141us/step - loss: 1.4313 - acc: 0.3936 - val_loss: 1.6945 - val_acc: 0.2673\n",
      "Epoch 3/5\n",
      "8534/8534 [==============================] - 1s 138us/step - loss: 1.2056 - acc: 0.4722 - val_loss: 1.9015 - val_acc: 0.2545\n",
      "Epoch 4/5\n",
      "8534/8534 [==============================] - 1s 135us/step - loss: 1.0681 - acc: 0.5410 - val_loss: 2.0633 - val_acc: 0.2355\n",
      "Epoch 5/5\n",
      "8534/8534 [==============================] - 1s 134us/step - loss: 0.9308 - acc: 0.6138 - val_loss: 2.5363 - val_acc: 0.2336\n"
     ]
    }
   ],
   "source": [
    "lstm_model.compile(loss='categorical_crossentropy', optimizer=Adam(), metrics=['accuracy'])\n",
    "\n",
    "\n",
    "history = lstm_model.fit(x_train, categorical_labels_train, \n",
    "               validation_data=(x_dev, categorical_labels_dev), \n",
    "               epochs=5, \n",
    "               batch_size=100)\n"
   ]
  },
  {
   "cell_type": "code",
   "execution_count": 58,
   "metadata": {},
   "outputs": [
    {
     "name": "stdout",
     "output_type": "stream",
     "text": [
      "Training Accuracy: 0.7226\n",
      "Testing Accuracy:  0.2493\n"
     ]
    },
    {
     "data": {
      "image/png": "[encoded data removed]",
      "text/plain": [
       "<Figure size 864x360 with 2 Axes>"
      ]
     },
     "metadata": {
      "needs_background": "light"
     },
     "output_type": "display_data"
    }
   ],
   "source": [
    "loss, accuracy = lstm_model.evaluate(x_train, categorical_labels_train, verbose=False)\n",
    "print(\"Training Accuracy: {:.4f}\".format(accuracy))\n",
    "loss, accuracy = lstm_model.evaluate(x_test, categorical_labels_test, verbose=False)\n",
    "print(\"Testing Accuracy:  {:.4f}\".format(accuracy))\n",
    "plot_history(history)"
   ]
  },
  {
   "cell_type": "code",
   "execution_count": 60,
   "metadata": {},
   "outputs": [
    {
     "name": "stdout",
     "output_type": "stream",
     "text": [
      "              precision    recall  f1-score   support\n",
      "\n",
      "           0       0.05      0.01      0.01       279\n",
      "           1       0.30      0.35      0.33       633\n",
      "           2       0.22      0.26      0.24       389\n",
      "           3       0.25      0.38      0.31       510\n",
      "           4       0.14      0.07      0.09       399\n",
      "\n",
      "   micro avg       0.25      0.25      0.25      2210\n",
      "   macro avg       0.19      0.22      0.20      2210\n",
      "weighted avg       0.22      0.25      0.22      2210\n",
      "\n"
     ]
    }
   ],
   "source": [
    "preds = lstm_model.predict(x_test)\n",
    "print(metrics.classification_report(y_test, np.argmax(preds, axis=1)))"
   ]
  },
  {
   "cell_type": "code",
   "execution_count": 146,
   "metadata": {},
   "outputs": [
    {
     "name": "stdout",
     "output_type": "stream",
     "text": [
      "_________________________________________________________________\n",
      "Layer (type)                 Output Shape              Param #   \n",
      "=================================================================\n",
      "embedding_6 (Embedding)      (None, 29, 50)            250000    \n",
      "_________________________________________________________________\n",
      "lstm_6 (LSTM)                (None, 25)                7600      \n",
      "_________________________________________________________________\n",
      "dense_6 (Dense)              (None, 5)                 130       \n",
      "=================================================================\n",
      "Total params: 257,730\n",
      "Trainable params: 257,730\n",
      "Non-trainable params: 0\n",
      "_________________________________________________________________\n"
     ]
    }
   ],
   "source": [
    "lstm_model.summary()"
   ]
  },
  {
   "cell_type": "code",
   "execution_count": null,
   "metadata": {},
   "outputs": [],
   "source": []
  },
  {
   "cell_type": "markdown",
   "metadata": {},
   "source": [
    "# CNN"
   ]
  },
  {
   "cell_type": "markdown",
   "metadata": {},
   "source": [
    "## random_emb"
   ]
  },
  {
   "cell_type": "code",
   "execution_count": 49,
   "metadata": {},
   "outputs": [],
   "source": [
    "\n",
    "def get_embeddings_layer(embeddings_matrix, name, max_len, trainable=False):\n",
    "    embedding_layer = Embedding(\n",
    "        input_dim=embeddings_matrix.shape[0],\n",
    "        output_dim=embeddings_matrix.shape[1],\n",
    "        input_length=max_len,\n",
    "        weights=[embeddings_matrix],\n",
    "        trainable=trainable,\n",
    "        name=name)\n",
    "    return embedding_layer\n",
    "\n",
    "\n",
    "def get_conv_pool(x_input, suffix, n_grams=[3,4,5], feature_maps=100):\n",
    "    branches = []\n",
    "    for n in n_grams:\n",
    "        branch = Conv1D(filters=feature_maps, kernel_size=n, activation=relu, name='Conv_'+suffix+'_'+str(n))(x_input)\n",
    "        branch = MaxPooling1D(pool_size=2, strides=None, padding='valid', name='MaxPooling_'+suffix+'_'+str(n))(branch)\n",
    "        branch = Flatten(name='Flatten_'+suffix+'_'+str(n))(branch)\n",
    "        branches.append(branch)\n",
    "    return branches\n",
    "\n",
    "def get_cnn_rand(embedding_dim, vocab_size, max_len, num_classes):\n",
    "    # create the embedding layer\n",
    "    embedding_matrix = np.random.rand(vocab_size, embedding_dim)\n",
    "    embedding_layer = get_embeddings_layer(embedding_matrix, 'embedding_layer_dynamic', max_len, trainable=True)\n",
    "\n",
    "    # connect the input with the embedding layer\n",
    "    i = Input(shape=(max_len,), dtype='int32', name='main_input')\n",
    "    x = embedding_layer(i)\n",
    "\n",
    "    # generate several branches in the network, each for a different convolution+pooling operation,\n",
    "    # and concatenate the result of each branch into a single vector\n",
    "    branches = get_conv_pool(x, 'dynamic')\n",
    "    z = concatenate(branches, axis=-1)\n",
    "    z = Dropout(0.5)(z)\n",
    "\n",
    "    # pass the concatenated vector to the predition layer\n",
    "    o = Dense(5, activation='softmax', name='output',kernel_regularizer=regularizers.l2(0.01),\n",
    "                activity_regularizer=regularizers.l1(0.01))(z)\n",
    "\n",
    "    model = Model(inputs=i, outputs=o)\n",
    "    model.compile(loss={'output': 'categorical_crossentropy'}, optimizer='sgd', metrics=['accuracy'])\n",
    "\n",
    "    return model"
   ]
  },
  {
   "cell_type": "code",
   "execution_count": null,
   "metadata": {},
   "outputs": [],
   "source": []
  },
  {
   "cell_type": "code",
   "execution_count": 81,
   "metadata": {},
   "outputs": [
    {
     "name": "stdout",
     "output_type": "stream",
     "text": [
      "Train on 8534 samples, validate on 1100 samples\n",
      "Epoch 1/20\n",
      "8534/8534 [==============================] - 8s 956us/sample - loss: 1.7351 - acc: 0.2581 - val_loss: 1.6856 - val_acc: 0.2482\n",
      "Epoch 2/20\n",
      "8534/8534 [==============================] - 8s 905us/sample - loss: 1.6682 - acc: 0.2738 - val_loss: 1.6736 - val_acc: 0.2591\n",
      "Epoch 3/20\n",
      "8534/8534 [==============================] - 8s 972us/sample - loss: 1.6549 - acc: 0.2792 - val_loss: 1.6713 - val_acc: 0.2545\n",
      "Epoch 4/20\n",
      "8534/8534 [==============================] - 8s 936us/sample - loss: 1.6437 - acc: 0.2891 - val_loss: 1.6620 - val_acc: 0.2700\n",
      "Epoch 5/20\n",
      "8534/8534 [==============================] - 9s 1ms/sample - loss: 1.6330 - acc: 0.2933 - val_loss: 1.6588 - val_acc: 0.2609\n",
      "Epoch 6/20\n",
      "8534/8534 [==============================] - 8s 963us/sample - loss: 1.6271 - acc: 0.2920 - val_loss: 1.6590 - val_acc: 0.2464\n",
      "Epoch 7/20\n",
      "8534/8534 [==============================] - 8s 987us/sample - loss: 1.6162 - acc: 0.3082 - val_loss: 1.6518 - val_acc: 0.2636\n",
      "Epoch 8/20\n",
      "8534/8534 [==============================] - 8s 947us/sample - loss: 1.6102 - acc: 0.3034 - val_loss: 1.6487 - val_acc: 0.2691\n",
      "Epoch 9/20\n",
      "8534/8534 [==============================] - 8s 975us/sample - loss: 1.6035 - acc: 0.3111 - val_loss: 1.6446 - val_acc: 0.2655\n",
      "Epoch 10/20\n",
      "8534/8534 [==============================] - 8s 971us/sample - loss: 1.5958 - acc: 0.3118 - val_loss: 1.6428 - val_acc: 0.2627\n",
      "Epoch 11/20\n",
      "8534/8534 [==============================] - 8s 946us/sample - loss: 1.5876 - acc: 0.3170 - val_loss: 1.6369 - val_acc: 0.2491\n",
      "Epoch 12/20\n",
      "8534/8534 [==============================] - 8s 940us/sample - loss: 1.5814 - acc: 0.3253 - val_loss: 1.6454 - val_acc: 0.2482\n",
      "Epoch 13/20\n",
      "8534/8534 [==============================] - 8s 972us/sample - loss: 1.5750 - acc: 0.3330 - val_loss: 1.6418 - val_acc: 0.2618\n",
      "Epoch 14/20\n",
      "8534/8534 [==============================] - 8s 948us/sample - loss: 1.5694 - acc: 0.3276 - val_loss: 1.6405 - val_acc: 0.2609\n",
      "Epoch 15/20\n",
      "8534/8534 [==============================] - 8s 964us/sample - loss: 1.5626 - acc: 0.3303 - val_loss: 1.6366 - val_acc: 0.2527\n",
      "Epoch 16/20\n",
      "8534/8534 [==============================] - 8s 939us/sample - loss: 1.5570 - acc: 0.3365 - val_loss: 1.6314 - val_acc: 0.2509\n",
      "Epoch 17/20\n",
      "8534/8534 [==============================] - 8s 938us/sample - loss: 1.5514 - acc: 0.3427 - val_loss: 1.6462 - val_acc: 0.2609\n",
      "Epoch 18/20\n",
      "8534/8534 [==============================] - 8s 943us/sample - loss: 1.5452 - acc: 0.3505 - val_loss: 1.6334 - val_acc: 0.2555\n",
      "Epoch 19/20\n",
      "8534/8534 [==============================] - 8s 963us/sample - loss: 1.5424 - acc: 0.3465 - val_loss: 1.6267 - val_acc: 0.2536\n",
      "Epoch 20/20\n",
      "8534/8534 [==============================] - 8s 932us/sample - loss: 1.5354 - acc: 0.3513 - val_loss: 1.6321 - val_acc: 0.2482\n",
      "Training Accuracy: 0.4050\n",
      "Testing Accuracy:  0.2783\n"
     ]
    },
    {
     "name": "stderr",
     "output_type": "stream",
     "text": [
      "/home/user/anaconda3/lib/python3.7/site-packages/sklearn/metrics/classification.py:1143: UndefinedMetricWarning: Precision and F-score are ill-defined and being set to 0.0 in labels with no predicted samples.\n",
      "  'precision', 'predicted', average, warn_for)\n",
      "/home/user/anaconda3/lib/python3.7/site-packages/sklearn/metrics/classification.py:1143: UndefinedMetricWarning: Precision and F-score are ill-defined and being set to 0.0 in labels with no predicted samples.\n",
      "  'precision', 'predicted', average, warn_for)\n",
      "/home/user/anaconda3/lib/python3.7/site-packages/sklearn/metrics/classification.py:1143: UndefinedMetricWarning: Precision and F-score are ill-defined and being set to 0.0 in labels with no predicted samples.\n",
      "  'precision', 'predicted', average, warn_for)\n"
     ]
    },
    {
     "name": "stdout",
     "output_type": "stream",
     "text": [
      "              precision    recall  f1-score   support\n",
      "\n",
      "           0       0.00      0.00      0.00       279\n",
      "           1       0.30      0.53      0.39       633\n",
      "           2       0.26      0.10      0.14       389\n",
      "           3       0.25      0.47      0.33       510\n",
      "           4       0.00      0.00      0.00       399\n",
      "\n",
      "   micro avg       0.28      0.28      0.28      2210\n",
      "   macro avg       0.16      0.22      0.17      2210\n",
      "weighted avg       0.19      0.28      0.21      2210\n",
      "\n"
     ]
    },
    {
     "data": {
      "image/png": "[encoded data removed]",
      "text/plain": [
       "<Figure size 864x360 with 2 Axes>"
      ]
     },
     "metadata": {
      "needs_background": "light"
     },
     "output_type": "display_data"
    }
   ],
   "source": [
    "cnn_model = get_cnn_rand(300, len(word_index)+1, vab.my_info_dict['Words_Per_Document'], 5)\n",
    "history = cnn_model.fit(x=x_train, y=categorical_labels_train, \n",
    "                      batch_size=50, epochs=20,\n",
    "                    validation_data=(x_dev, categorical_labels_dev))\n",
    "\n",
    "loss, accuracy = cnn_model.evaluate(x_train, categorical_labels_train, verbose=False)\n",
    "print(\"Training Accuracy: {:.4f}\".format(accuracy))\n",
    "loss, accuracy = cnn_model.evaluate(x_test, categorical_labels_test, verbose=False)\n",
    "print(\"Testing Accuracy:  {:.4f}\".format(accuracy))\n",
    "plot_history(history)\n",
    "\n",
    "\n",
    "preds = cnn_model.predict(x_test)\n",
    "print(metrics.classification_report(y_test, np.argmax(preds, axis=1)))"
   ]
  },
  {
   "cell_type": "code",
   "execution_count": null,
   "metadata": {},
   "outputs": [],
   "source": []
  },
  {
   "cell_type": "markdown",
   "metadata": {},
   "source": [
    "## word2vec embedding"
   ]
  },
  {
   "cell_type": "code",
   "execution_count": 116,
   "metadata": {},
   "outputs": [],
   "source": [
    "def get_cnn_pre_trained_embeddings(embedding_layer, max_len, num_classes):\n",
    "    # connect the input with the embedding layer\n",
    "    i = Input(shape=(max_len,), dtype='int32', name='main_input')\n",
    "    x = embedding_layer(i)\n",
    "\n",
    "    # generate several branches in the network, each for a different convolution+pooling operation,\n",
    "    # and concatenate the result of each branch into a single vector\n",
    "    branches = get_conv_pool(x, 'static')\n",
    "    z = concatenate(branches, axis=-1)\n",
    "\n",
    "    # pass the concatenated vector to the predition layer\n",
    "    o = Dense(num_classes, activation='softmax', name='output',\n",
    "#              kernel_regularizer=regularizers.l2(0.15),\n",
    "#                 activity_regularizer=regularizers.l2(0.15)\n",
    "             )(z)\n",
    "\n",
    "    model = Model(inputs=i, outputs=o)\n",
    "    model.compile(loss={'output': 'categorical_crossentropy'}, optimizer='sgd', metrics=['accuracy'])\n",
    "\n",
    "    return model\n",
    "\n",
    "import gensim\n",
    "\n",
    "# Load Google's pre-trained Word2Vec model.\n",
    "word2vec_model = gensim.models.KeyedVectors\\\n",
    "        .load_word2vec_format('word2vec/GoogleNews-vectors-negative300-SLIM.bin', binary=True)  \n",
    "NUM_WORDS = 20000\n",
    "EMBEDDING_DIM=300\n",
    "vocabulary_size=min(len(word_index)+1,NUM_WORDS)\n",
    "embedding_matrix = np.zeros((vocabulary_size, EMBEDDING_DIM))\n",
    "for word, i in word_index.items():\n",
    "    if i>=NUM_WORDS:\n",
    "        continue\n",
    "    try:\n",
    "        embedding_vector = word2vec_model[word]\n",
    "        embedding_matrix[i] = embedding_vector\n",
    "    except KeyError:\n",
    "        embedding_matrix[i]=np.random.normal(0,np.sqrt(0.25),EMBEDDING_DIM)\n",
    "\n",
    "# del(word2vec_model)\n",
    "\n",
    "from tensorflow.keras.layers import Embedding\n",
    "embedding_layer = Embedding(vocabulary_size,\n",
    "                            EMBEDDING_DIM,\n",
    "                            weights=[embedding_matrix], #np.random.rand(vocabulary_size, EMBEDDING_DIM)\n",
    "                            trainable=False)\n",
    "\n"
   ]
  },
  {
   "cell_type": "code",
   "execution_count": null,
   "metadata": {},
   "outputs": [],
   "source": []
  },
  {
   "cell_type": "code",
   "execution_count": 118,
   "metadata": {},
   "outputs": [
    {
     "name": "stdout",
     "output_type": "stream",
     "text": [
      "Train on 8534 samples, validate on 1100 samples\n",
      "Epoch 1/20\n",
      "8534/8534 [==============================] - 11s 1ms/sample - loss: 1.5795 - acc: 0.2687 - val_loss: 1.5724 - val_acc: 0.2845\n",
      "Epoch 2/20\n",
      "8534/8534 [==============================] - 10s 1ms/sample - loss: 1.5652 - acc: 0.2844 - val_loss: 1.5718 - val_acc: 0.2782\n",
      "Epoch 3/20\n",
      "8534/8534 [==============================] - 10s 1ms/sample - loss: 1.5587 - acc: 0.2901 - val_loss: 1.5716 - val_acc: 0.2809\n",
      "Epoch 4/20\n",
      "8534/8534 [==============================] - 10s 1ms/sample - loss: 1.5541 - acc: 0.2906 - val_loss: 1.5694 - val_acc: 0.2891\n",
      "Epoch 5/20\n",
      "8534/8534 [==============================] - 10s 1ms/sample - loss: 1.5500 - acc: 0.2966 - val_loss: 1.5699 - val_acc: 0.2727\n",
      "Epoch 6/20\n",
      "8534/8534 [==============================] - 10s 1ms/sample - loss: 1.5465 - acc: 0.2996 - val_loss: 1.5705 - val_acc: 0.2682\n",
      "Epoch 7/20\n",
      "8534/8534 [==============================] - 10s 1ms/sample - loss: 1.5431 - acc: 0.3028 - val_loss: 1.5698 - val_acc: 0.2736\n",
      "Epoch 8/20\n",
      "8534/8534 [==============================] - 10s 1ms/sample - loss: 1.5401 - acc: 0.3035 - val_loss: 1.5714 - val_acc: 0.2709\n",
      "Epoch 9/20\n",
      "8534/8534 [==============================] - 10s 1ms/sample - loss: 1.5375 - acc: 0.3054 - val_loss: 1.5710 - val_acc: 0.2727\n",
      "Epoch 10/20\n",
      "8534/8534 [==============================] - 10s 1ms/sample - loss: 1.5345 - acc: 0.3095 - val_loss: 1.5726 - val_acc: 0.2718\n",
      "Epoch 11/20\n",
      "8534/8534 [==============================] - 10s 1ms/sample - loss: 1.5319 - acc: 0.3127 - val_loss: 1.5743 - val_acc: 0.2727\n",
      "Epoch 12/20\n",
      "8534/8534 [==============================] - 10s 1ms/sample - loss: 1.5292 - acc: 0.3124 - val_loss: 1.5716 - val_acc: 0.2791\n",
      "Epoch 13/20\n",
      "8534/8534 [==============================] - 10s 1ms/sample - loss: 1.5269 - acc: 0.3178 - val_loss: 1.5735 - val_acc: 0.2727\n",
      "Epoch 14/20\n",
      "8534/8534 [==============================] - 10s 1ms/sample - loss: 1.5242 - acc: 0.3166 - val_loss: 1.5754 - val_acc: 0.2700\n",
      "Epoch 15/20\n",
      "8534/8534 [==============================] - 10s 1ms/sample - loss: 1.5215 - acc: 0.3183 - val_loss: 1.5738 - val_acc: 0.2755\n",
      "Epoch 16/20\n",
      "8534/8534 [==============================] - 11s 1ms/sample - loss: 1.5194 - acc: 0.3225 - val_loss: 1.5751 - val_acc: 0.2736\n",
      "Epoch 17/20\n",
      "8534/8534 [==============================] - 10s 1ms/sample - loss: 1.5168 - acc: 0.3210 - val_loss: 1.5761 - val_acc: 0.2773\n",
      "Epoch 18/20\n",
      "8534/8534 [==============================] - 10s 1ms/sample - loss: 1.5143 - acc: 0.3251 - val_loss: 1.5761 - val_acc: 0.2736\n",
      "Epoch 19/20\n",
      "8534/8534 [==============================] - 10s 1ms/sample - loss: 1.5118 - acc: 0.3267 - val_loss: 1.5774 - val_acc: 0.2745\n",
      "Epoch 20/20\n",
      "8534/8534 [==============================] - 10s 1ms/sample - loss: 1.5089 - acc: 0.3276 - val_loss: 1.5801 - val_acc: 0.2764\n",
      "Training Accuracy: 0.3277\n",
      "Testing Accuracy:  0.2710\n",
      "              precision    recall  f1-score   support\n",
      "\n",
      "           0       0.40      0.03      0.05       279\n",
      "           1       0.34      0.28      0.31       633\n",
      "           2       0.13      0.02      0.03       389\n",
      "           3       0.26      0.78      0.39       510\n",
      "           4       0.14      0.02      0.03       399\n",
      "\n",
      "   micro avg       0.27      0.27      0.27      2210\n",
      "   macro avg       0.25      0.23      0.16      2210\n",
      "weighted avg       0.25      0.27      0.19      2210\n",
      "\n"
     ]
    },
    {
     "data": {
      "image/png": "[encoded data removed]",
      "text/plain": [
       "<Figure size 864x360 with 2 Axes>"
      ]
     },
     "metadata": {
      "needs_background": "light"
     },
     "output_type": "display_data"
    }
   ],
   "source": [
    "cnn_w2v_model = get_cnn_pre_trained_embeddings(embedding_layer, \n",
    "                                               vab.my_info_dict['Words_Per_Document']+10, 5)\n",
    "history = cnn_w2v_model.fit(x=x_train, y=categorical_labels_train, \n",
    "                      batch_size=50, epochs=20,\n",
    "                    validation_data=(x_dev, categorical_labels_dev))\n",
    "\n",
    "loss, accuracy = cnn_w2v_model.evaluate(x_train, categorical_labels_train, verbose=False)\n",
    "print(\"Training Accuracy: {:.4f}\".format(accuracy))\n",
    "loss, accuracy = cnn_w2v_model.evaluate(x_test, categorical_labels_test, verbose=False)\n",
    "print(\"Testing Accuracy:  {:.4f}\".format(accuracy))\n",
    "plot_history(history)\n",
    "\n",
    "preds = cnn_w2v_model.predict(x_test)\n",
    "print(metrics.classification_report(y_test, np.argmax(preds, axis=1)))"
   ]
  },
  {
   "cell_type": "code",
   "execution_count": null,
   "metadata": {},
   "outputs": [],
   "source": []
  },
  {
   "cell_type": "markdown",
   "metadata": {},
   "source": []
  },
  {
   "cell_type": "markdown",
   "metadata": {},
   "source": [
    "# Linear Model"
   ]
  },
  {
   "cell_type": "code",
   "execution_count": 140,
   "metadata": {},
   "outputs": [],
   "source": [
    "from sklearn.linear_model import SGDClassifier\n",
    "tfidf_transf = TfidfVectorizer()\n",
    "tfidf_transf.fit(vab.data_here['clean_tweet'])\n",
    "tfidf_train = tfidf_transf.transform(vab.data_here['clean_tweet'])\n",
    "tfidf_test = tfidf_transf.transform(vab_test.data_here['clean_tweet'])\n",
    "# tfidf_dev= tfidf_transf.transform(vab_dev.data_here['clean_tweet'])"
   ]
  },
  {
   "cell_type": "code",
   "execution_count": 141,
   "metadata": {},
   "outputs": [
    {
     "name": "stderr",
     "output_type": "stream",
     "text": [
      "/home/user/anaconda3/lib/python3.7/site-packages/sklearn/linear_model/stochastic_gradient.py:183: FutureWarning: max_iter and tol parameters have been added in SGDClassifier in 0.19. If max_iter is set but tol is left unset, the default value for tol in 0.19 and 0.20 will be None (which is equivalent to -infinity, so it has no effect) but will change in 0.21 to 1e-3. Specify tol to silence this warning.\n",
      "  FutureWarning)\n"
     ]
    },
    {
     "name": "stdout",
     "output_type": "stream",
     "text": [
      "              precision    recall  f1-score   support\n",
      "\n",
      "           0       0.38      0.28      0.32       279\n",
      "           1       0.46      0.51      0.48       633\n",
      "           2       0.21      0.13      0.16       389\n",
      "           3       0.37      0.51      0.43       510\n",
      "           4       0.49      0.45      0.47       399\n",
      "\n",
      "   micro avg       0.40      0.40      0.40      2210\n",
      "   macro avg       0.38      0.38      0.37      2210\n",
      "weighted avg       0.39      0.40      0.39      2210\n",
      "\n"
     ]
    }
   ],
   "source": [
    "sg =  SGDClassifier(max_iter=100, random_state=42)\n",
    "sg.fit(tfidf_train, y_train)\n",
    "y_pred = sg.predict(tfidf_test)\n",
    "print(metrics.classification_report(y_test, y_pred))"
   ]
  },
  {
   "cell_type": "markdown",
   "metadata": {},
   "source": [
    "# BERT"
   ]
  },
  {
   "cell_type": "code",
   "execution_count": null,
   "metadata": {},
   "outputs": [],
   "source": [
    "from bert_serving.client import BertClient\n",
    "bc = BertClient()\n",
    "\n",
    "cleaned_train_bert_embeded = bc.encode(vab.data_here['clean_tweet'].values.tolist())\n",
    "with open('cleaned_train_bert_embeded.pickle', 'wb') as f:\n",
    "    pickle.dump(cleaned_train_bert_embeded, f)\n",
    "\n",
    "cleaned_test_bert_embeded = bc.encode(vab_test.data_here['clean_tweet'].values.tolist())\n",
    "with open('cleaned_test_bert_embeded.pickle', 'wb') as f:\n",
    "    pickle.dump(cleaned_test_bert_embeded, f)\n",
    "\n",
    "cleaned_dev_bert_embeded = bc.encode(vab_dev.data_here['clean_tweet'].values.tolist())\n",
    "with open('cleaned_dev_bert_embeded.pickle', 'wb') as f:\n",
    "    pickle.dump(cleaned_dev_bert_embeded, f)"
   ]
  },
  {
   "cell_type": "code",
   "execution_count": 80,
   "metadata": {},
   "outputs": [],
   "source": [
    "\n",
    "cleaned_train_bert_embeded = pickle.load(open('cleaned_train_bert_embeded.pickle','rb'))\n",
    "cleaned_test_bert_embeded = pickle.load(open('cleaned_test_bert_embeded.pickle','rb'))\n",
    "cleaned_dev_bert_embeded = pickle.load(open('cleaned_dev_bert_embeded.pickle','rb'))\n"
   ]
  },
  {
   "cell_type": "markdown",
   "metadata": {},
   "source": [
    "## bert neural net"
   ]
  },
  {
   "cell_type": "code",
   "execution_count": 81,
   "metadata": {},
   "outputs": [],
   "source": [
    "inputs = Input(shape=(cleaned_train_bert_embeded.shape[1],))\n",
    "first_layer = Dense(400, activation=relu)(inputs)\n",
    "dr1 = Dropout(0.5)(first_layer)\n",
    "second_layer = Dense(128, activation=relu)(dr1)\n",
    "dr2 = Dropout(0.5)(second_layer)\n",
    "third_layer = Dense(64)(dr2)\n",
    "dr3 = Dropout(0.5)(third_layer)\n",
    "\n",
    "# pass the concatenated vector to the predition layer\n",
    "outputs = Dense(5, activation='softmax', name='output', kernel_regularizer=regularizers.l2(0.01),\n",
    "            activity_regularizer=regularizers.l1(0.01))(dr3)\n",
    "\n",
    "model_bert = Model(inputs=inputs, outputs=outputs)\n",
    "model_bert.compile(loss={'output': 'categorical_crossentropy'}, optimizer='sgd', metrics=['accuracy'])\n"
   ]
  },
  {
   "cell_type": "code",
   "execution_count": null,
   "metadata": {},
   "outputs": [],
   "source": []
  },
  {
   "cell_type": "code",
   "execution_count": 82,
   "metadata": {},
   "outputs": [
    {
     "name": "stdout",
     "output_type": "stream",
     "text": [
      "Train on 8534 samples, validate on 1100 samples\n",
      "Epoch 1/20\n",
      "8534/8534 [==============================] - 2s 209us/step - loss: 2.2604 - acc: 0.2435 - val_loss: 2.1248 - val_acc: 0.3609\n",
      "Epoch 2/20\n",
      "8534/8534 [==============================] - 1s 65us/step - loss: 2.1511 - acc: 0.2782 - val_loss: 2.0789 - val_acc: 0.3836\n",
      "Epoch 3/20\n",
      "8534/8534 [==============================] - 1s 69us/step - loss: 2.0999 - acc: 0.3154 - val_loss: 2.0213 - val_acc: 0.3800\n",
      "Epoch 4/20\n",
      "8534/8534 [==============================] - 1s 66us/step - loss: 2.0584 - acc: 0.3340 - val_loss: 1.9682 - val_acc: 0.3955\n",
      "Epoch 5/20\n",
      "8534/8534 [==============================] - 1s 65us/step - loss: 2.0189 - acc: 0.3502 - val_loss: 1.9251 - val_acc: 0.4027\n",
      "Epoch 6/20\n",
      "8534/8534 [==============================] - 1s 64us/step - loss: 1.9768 - acc: 0.3706 - val_loss: 1.8985 - val_acc: 0.4182\n",
      "Epoch 7/20\n",
      "8534/8534 [==============================] - 1s 65us/step - loss: 1.9456 - acc: 0.3833 - val_loss: 1.8699 - val_acc: 0.4236\n",
      "Epoch 8/20\n",
      "8534/8534 [==============================] - 1s 69us/step - loss: 1.9308 - acc: 0.3882 - val_loss: 1.8736 - val_acc: 0.4136\n",
      "Epoch 9/20\n",
      "8534/8534 [==============================] - 1s 65us/step - loss: 1.9059 - acc: 0.4023 - val_loss: 1.8442 - val_acc: 0.4282\n",
      "Epoch 10/20\n",
      "8534/8534 [==============================] - 1s 66us/step - loss: 1.8925 - acc: 0.4015 - val_loss: 1.8389 - val_acc: 0.4245\n",
      "Epoch 11/20\n",
      "8534/8534 [==============================] - 1s 65us/step - loss: 1.8838 - acc: 0.4047 - val_loss: 1.8288 - val_acc: 0.4309\n",
      "Epoch 12/20\n",
      "8534/8534 [==============================] - 1s 65us/step - loss: 1.8686 - acc: 0.4115 - val_loss: 1.8216 - val_acc: 0.4273\n",
      "Epoch 13/20\n",
      "8534/8534 [==============================] - 1s 70us/step - loss: 1.8588 - acc: 0.4145 - val_loss: 1.8106 - val_acc: 0.4355\n",
      "Epoch 14/20\n",
      "8534/8534 [==============================] - 1s 71us/step - loss: 1.8465 - acc: 0.4208 - val_loss: 1.8063 - val_acc: 0.4364\n",
      "Epoch 15/20\n",
      "8534/8534 [==============================] - 1s 70us/step - loss: 1.8388 - acc: 0.4277 - val_loss: 1.8073 - val_acc: 0.4382\n",
      "Epoch 16/20\n",
      "8534/8534 [==============================] - 1s 72us/step - loss: 1.8316 - acc: 0.4250 - val_loss: 1.7992 - val_acc: 0.4373\n",
      "Epoch 17/20\n",
      "8534/8534 [==============================] - 1s 67us/step - loss: 1.8287 - acc: 0.4215 - val_loss: 1.7932 - val_acc: 0.4391\n",
      "Epoch 18/20\n",
      "8534/8534 [==============================] - 1s 71us/step - loss: 1.8138 - acc: 0.4327 - val_loss: 1.7883 - val_acc: 0.4436\n",
      "Epoch 19/20\n",
      "8534/8534 [==============================] - 1s 69us/step - loss: 1.8036 - acc: 0.4400 - val_loss: 1.7854 - val_acc: 0.4382\n",
      "Epoch 20/20\n",
      "8534/8534 [==============================] - 1s 69us/step - loss: 1.7999 - acc: 0.4394 - val_loss: 1.7861 - val_acc: 0.4427\n",
      "Training Accuracy: 0.4593\n",
      "Testing Accuracy:  0.4462\n",
      "              precision    recall  f1-score   support\n",
      "\n",
      "           0       0.42      0.02      0.03       279\n",
      "           1       0.47      0.79      0.59       633\n",
      "           2       1.00      0.00      0.01       389\n",
      "           3       0.38      0.75      0.50       510\n",
      "           4       0.73      0.25      0.37       399\n",
      "\n",
      "   micro avg       0.45      0.45      0.45      2210\n",
      "   macro avg       0.60      0.36      0.30      2210\n",
      "weighted avg       0.58      0.45      0.36      2210\n",
      "\n"
     ]
    },
    {
     "data": {
      "image/png": "[encoded data removed]",
      "text/plain": [
       "<Figure size 864x360 with 2 Axes>"
      ]
     },
     "metadata": {
      "needs_background": "light"
     },
     "output_type": "display_data"
    }
   ],
   "source": [
    "\n",
    "history = model_bert.fit(x=cleaned_train_bert_embeded, y=categorical_labels_train, \n",
    "                      batch_size=50, epochs=20,\n",
    "                    validation_data=(cleaned_dev_bert_embeded, categorical_labels_dev))\n",
    "\n",
    "loss, accuracy = model_bert.evaluate(cleaned_train_bert_embeded, categorical_labels_train, verbose=False)\n",
    "print(\"Training Accuracy: {:.4f}\".format(accuracy))\n",
    "loss, accuracy = model_bert.evaluate(cleaned_test_bert_embeded, categorical_labels_test, verbose=False)\n",
    "print(\"Testing Accuracy:  {:.4f}\".format(accuracy))\n",
    "plot_history(history)\n",
    "\n",
    "preds = model_bert.predict(cleaned_test_bert_embeded)\n",
    "print(metrics.classification_report(y_test, np.argmax(preds, axis=1)))"
   ]
  },
  {
   "cell_type": "code",
   "execution_count": 79,
   "metadata": {},
   "outputs": [
    {
     "name": "stdout",
     "output_type": "stream",
     "text": [
      "_________________________________________________________________\n",
      "Layer (type)                 Output Shape              Param #   \n",
      "=================================================================\n",
      "input_4 (InputLayer)         (None, 768)               0         \n",
      "_________________________________________________________________\n",
      "dense_13 (Dense)             (None, 400)               307600    \n",
      "_________________________________________________________________\n",
      "dropout_7 (Dropout)          (None, 400)               0         \n",
      "_________________________________________________________________\n",
      "dense_14 (Dense)             (None, 128)               51328     \n",
      "_________________________________________________________________\n",
      "dropout_8 (Dropout)          (None, 128)               0         \n",
      "_________________________________________________________________\n",
      "dense_15 (Dense)             (None, 64)                8256      \n",
      "_________________________________________________________________\n",
      "dropout_9 (Dropout)          (None, 64)                0         \n",
      "_________________________________________________________________\n",
      "output (Dense)               (None, 5)                 325       \n",
      "=================================================================\n",
      "Total params: 367,509\n",
      "Trainable params: 367,509\n",
      "Non-trainable params: 0\n",
      "_________________________________________________________________\n"
     ]
    }
   ],
   "source": [
    "model_bert.summary()"
   ]
  },
  {
   "cell_type": "code",
   "execution_count": null,
   "metadata": {},
   "outputs": [],
   "source": []
  }
 ],
 "metadata": {
  "kernelspec": {
   "display_name": "Python 3",
   "language": "python",
   "name": "python3"
  },
  "language_info": {
   "codemirror_mode": {
    "name": "ipython",
    "version": 3
   },
   "file_extension": ".py",
   "mimetype": "text/x-python",
   "name": "python",
   "nbconvert_exporter": "python",
   "pygments_lexer": "ipython3",
   "version": "3.7.2"
  }
 },
 "nbformat": 4,
 "nbformat_minor": 2
}
