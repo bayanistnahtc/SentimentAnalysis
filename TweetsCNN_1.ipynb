{
 "cells": [
  {
   "cell_type": "code",
   "execution_count": 1,
   "metadata": {},
   "outputs": [
    {
     "name": "stderr",
     "output_type": "stream",
     "text": [
      "Using TensorFlow backend.\n"
     ]
    }
   ],
   "source": [
    "# --- Preprocessing ---\n",
    "import pandas as pd\n",
    "from sklearn.preprocessing import LabelEncoder\n",
    "import re\n",
    "import string\n",
    "from nltk.corpus import stopwords\n",
    "import collections\n",
    "import numpy as np\n",
    "\n",
    "# --- Processing ---\n",
    "from sklearn.model_selection import train_test_split, StratifiedKFold, cross_val_score\n",
    "from keras.preprocessing.sequence import pad_sequences\n",
    "from keras.utils import np_utils\n",
    "from keras.wrappers.scikit_learn import KerasClassifier\n",
    "from keras.models import Sequential#, Model, load_model\n",
    "from keras.layers.embeddings import Embedding\n",
    "from keras.layers import Flatten, Dense, Dropout, Convolution1D, MaxPooling1D, SpatialDropout1D, Input \n",
    "from keras.layers import GlobalMaxPooling1D, concatenate, LSTM, Bidirectional\n",
    "from keras.optimizers import Adam\n",
    "\n",
    "# --- Postprocessing ---"
   ]
  },
  {
   "cell_type": "code",
   "execution_count": 3,
   "metadata": {},
   "outputs": [
    {
     "data": {
      "text/html": [
       "<div>\n",
       "<style scoped>\n",
       "    .dataframe tbody tr th:only-of-type {\n",
       "        vertical-align: middle;\n",
       "    }\n",
       "\n",
       "    .dataframe tbody tr th {\n",
       "        vertical-align: top;\n",
       "    }\n",
       "\n",
       "    .dataframe thead th {\n",
       "        text-align: right;\n",
       "    }\n",
       "</style>\n",
       "<table border=\"1\" class=\"dataframe\">\n",
       "  <thead>\n",
       "    <tr style=\"text-align: right;\">\n",
       "      <th></th>\n",
       "      <th>sentiment</th>\n",
       "      <th>content</th>\n",
       "    </tr>\n",
       "  </thead>\n",
       "  <tbody>\n",
       "    <tr>\n",
       "      <th>29995</th>\n",
       "      <td>happiness</td>\n",
       "      <td>I had a great date last night...tried to find the CDCaves with Daniel  it was HILARIOUSLY FUN!!!</td>\n",
       "    </tr>\n",
       "    <tr>\n",
       "      <th>29996</th>\n",
       "      <td>sadness</td>\n",
       "      <td>With alex</td>\n",
       "    </tr>\n",
       "    <tr>\n",
       "      <th>29997</th>\n",
       "      <td>happiness</td>\n",
       "      <td>@fureousangel that is comedy  good luck my friend!</td>\n",
       "    </tr>\n",
       "    <tr>\n",
       "      <th>29998</th>\n",
       "      <td>fun</td>\n",
       "      <td>stephs grad party gr8! shoved cake in her face, watchd sis bitch slap a boy, ate good food  satisfied</td>\n",
       "    </tr>\n",
       "    <tr>\n",
       "      <th>29999</th>\n",
       "      <td>happiness</td>\n",
       "      <td>@jesfive SWEEEEET - San Fran is awesome!!!!  Love it there</td>\n",
       "    </tr>\n",
       "  </tbody>\n",
       "</table>\n",
       "</div>"
      ],
      "text/plain": [
       "       sentiment  \\\n",
       "29995  happiness   \n",
       "29996  sadness     \n",
       "29997  happiness   \n",
       "29998  fun         \n",
       "29999  happiness   \n",
       "\n",
       "                                                                                                     content  \n",
       "29995  I had a great date last night...tried to find the CDCaves with Daniel  it was HILARIOUSLY FUN!!!       \n",
       "29996  With alex                                                                                              \n",
       "29997  @fureousangel that is comedy  good luck my friend!                                                     \n",
       "29998  stephs grad party gr8! shoved cake in her face, watchd sis bitch slap a boy, ate good food  satisfied  \n",
       "29999  @jesfive SWEEEEET - San Fran is awesome!!!!  Love it there                                             "
      ]
     },
     "execution_count": 3,
     "metadata": {},
     "output_type": "execute_result"
    }
   ],
   "source": [
    "# Loading the Dataset\n",
    "df = pd.read_csv('1train_data.csv', \n",
    "                 encoding='ISO-8859-1')\n",
    "pd.set_option('display.max_colwidth', -1)\n",
    "df.tail()"
   ]
  },
  {
   "cell_type": "code",
   "execution_count": 5,
   "metadata": {},
   "outputs": [
    {
     "data": {
      "text/html": [
       "<div>\n",
       "<style scoped>\n",
       "    .dataframe tbody tr th:only-of-type {\n",
       "        vertical-align: middle;\n",
       "    }\n",
       "\n",
       "    .dataframe tbody tr th {\n",
       "        vertical-align: top;\n",
       "    }\n",
       "\n",
       "    .dataframe thead th {\n",
       "        text-align: right;\n",
       "    }\n",
       "</style>\n",
       "<table border=\"1\" class=\"dataframe\">\n",
       "  <thead>\n",
       "    <tr style=\"text-align: right;\">\n",
       "      <th></th>\n",
       "      <th>sentiment</th>\n",
       "      <th>content</th>\n",
       "      <th>target</th>\n",
       "    </tr>\n",
       "  </thead>\n",
       "  <tbody>\n",
       "    <tr>\n",
       "      <th>29995</th>\n",
       "      <td>happiness</td>\n",
       "      <td>I had a great date last night...tried to find the CDCaves with Daniel  it was HILARIOUSLY FUN!!!</td>\n",
       "      <td>5</td>\n",
       "    </tr>\n",
       "    <tr>\n",
       "      <th>29996</th>\n",
       "      <td>sadness</td>\n",
       "      <td>With alex</td>\n",
       "      <td>10</td>\n",
       "    </tr>\n",
       "    <tr>\n",
       "      <th>29997</th>\n",
       "      <td>happiness</td>\n",
       "      <td>@fureousangel that is comedy  good luck my friend!</td>\n",
       "      <td>5</td>\n",
       "    </tr>\n",
       "    <tr>\n",
       "      <th>29998</th>\n",
       "      <td>fun</td>\n",
       "      <td>stephs grad party gr8! shoved cake in her face, watchd sis bitch slap a boy, ate good food  satisfied</td>\n",
       "      <td>4</td>\n",
       "    </tr>\n",
       "    <tr>\n",
       "      <th>29999</th>\n",
       "      <td>happiness</td>\n",
       "      <td>@jesfive SWEEEEET - San Fran is awesome!!!!  Love it there</td>\n",
       "      <td>5</td>\n",
       "    </tr>\n",
       "  </tbody>\n",
       "</table>\n",
       "</div>"
      ],
      "text/plain": [
       "       sentiment  \\\n",
       "29995  happiness   \n",
       "29996  sadness     \n",
       "29997  happiness   \n",
       "29998  fun         \n",
       "29999  happiness   \n",
       "\n",
       "                                                                                                     content  \\\n",
       "29995  I had a great date last night...tried to find the CDCaves with Daniel  it was HILARIOUSLY FUN!!!        \n",
       "29996  With alex                                                                                               \n",
       "29997  @fureousangel that is comedy  good luck my friend!                                                      \n",
       "29998  stephs grad party gr8! shoved cake in her face, watchd sis bitch slap a boy, ate good food  satisfied   \n",
       "29999  @jesfive SWEEEEET - San Fran is awesome!!!!  Love it there                                              \n",
       "\n",
       "       target  \n",
       "29995  5       \n",
       "29996  10      \n",
       "29997  5       \n",
       "29998  4       \n",
       "29999  5       "
      ]
     },
     "execution_count": 5,
     "metadata": {},
     "output_type": "execute_result"
    }
   ],
   "source": [
    "# Targets\n",
    "# \n",
    "# negative: 0, neutral: 1, positive: 2\n",
    "le = LabelEncoder()\n",
    "df['target'] = le.fit_transform(df['sentiment'])\n",
    "df.tail()"
   ]
  },
  {
   "cell_type": "code",
   "execution_count": 6,
   "metadata": {},
   "outputs": [
    {
     "data": {
      "text/html": [
       "<div>\n",
       "<style scoped>\n",
       "    .dataframe tbody tr th:only-of-type {\n",
       "        vertical-align: middle;\n",
       "    }\n",
       "\n",
       "    .dataframe tbody tr th {\n",
       "        vertical-align: top;\n",
       "    }\n",
       "\n",
       "    .dataframe thead th {\n",
       "        text-align: right;\n",
       "    }\n",
       "</style>\n",
       "<table border=\"1\" class=\"dataframe\">\n",
       "  <thead>\n",
       "    <tr style=\"text-align: right;\">\n",
       "      <th></th>\n",
       "      <th>sentiment</th>\n",
       "      <th>content</th>\n",
       "      <th>target</th>\n",
       "      <th>clean_tweet</th>\n",
       "    </tr>\n",
       "  </thead>\n",
       "  <tbody>\n",
       "    <tr>\n",
       "      <th>29995</th>\n",
       "      <td>happiness</td>\n",
       "      <td>i had a great date last night...tried to find the cdcaves with daniel  it was hilariously fun!!!</td>\n",
       "      <td>5</td>\n",
       "      <td>i had a great date last nighttried to find the cdcaves with daniel  it was hilariously fun</td>\n",
       "    </tr>\n",
       "    <tr>\n",
       "      <th>29996</th>\n",
       "      <td>sadness</td>\n",
       "      <td>with alex</td>\n",
       "      <td>10</td>\n",
       "      <td>with alex</td>\n",
       "    </tr>\n",
       "    <tr>\n",
       "      <th>29997</th>\n",
       "      <td>happiness</td>\n",
       "      <td>@fureousangel that is comedy  good luck my friend!</td>\n",
       "      <td>5</td>\n",
       "      <td>that is comedy  good luck my friend</td>\n",
       "    </tr>\n",
       "    <tr>\n",
       "      <th>29998</th>\n",
       "      <td>fun</td>\n",
       "      <td>stephs grad party gr8! shoved cake in her face, watchd sis bitch slap a boy, ate good food  satisfied</td>\n",
       "      <td>4</td>\n",
       "      <td>stephs grad party gr8 shoved cake in her face watchd sis bitch slap a boy ate good food  satisfied</td>\n",
       "    </tr>\n",
       "    <tr>\n",
       "      <th>29999</th>\n",
       "      <td>happiness</td>\n",
       "      <td>@jesfive sweeeeet - san fran is awesome!!!!  love it there</td>\n",
       "      <td>5</td>\n",
       "      <td>sweeeeet  san fran is awesome  love it there</td>\n",
       "    </tr>\n",
       "  </tbody>\n",
       "</table>\n",
       "</div>"
      ],
      "text/plain": [
       "       sentiment  \\\n",
       "29995  happiness   \n",
       "29996  sadness     \n",
       "29997  happiness   \n",
       "29998  fun         \n",
       "29999  happiness   \n",
       "\n",
       "                                                                                                     content  \\\n",
       "29995  i had a great date last night...tried to find the cdcaves with daniel  it was hilariously fun!!!        \n",
       "29996  with alex                                                                                               \n",
       "29997  @fureousangel that is comedy  good luck my friend!                                                      \n",
       "29998  stephs grad party gr8! shoved cake in her face, watchd sis bitch slap a boy, ate good food  satisfied   \n",
       "29999  @jesfive sweeeeet - san fran is awesome!!!!  love it there                                              \n",
       "\n",
       "       target  \\\n",
       "29995  5        \n",
       "29996  10       \n",
       "29997  5        \n",
       "29998  4        \n",
       "29999  5        \n",
       "\n",
       "                                                                                              clean_tweet  \n",
       "29995  i had a great date last nighttried to find the cdcaves with daniel  it was hilariously fun          \n",
       "29996  with alex                                                                                           \n",
       "29997   that is comedy  good luck my friend                                                                \n",
       "29998  stephs grad party gr8 shoved cake in her face watchd sis bitch slap a boy ate good food  satisfied  \n",
       "29999   sweeeeet  san fran is awesome  love it there                                                       "
      ]
     },
     "execution_count": 6,
     "metadata": {},
     "output_type": "execute_result"
    }
   ],
   "source": [
    "# Tweet Cleaning\n",
    "# \n",
    "def clean_text(df,text_field):\n",
    "    df[text_field] = df[text_field].str.lower()\n",
    "    mystring = r\"(@[A-Za-z0-9]+)|([^0-9A-Za-z \\t])|(\\w+:\\/\\/\\S+)|^rt|http.+?\"\n",
    "    # the first filter is capture everything eclosed that starts with an @\n",
    "    # and that has any single character from the range A-Z or a-z or 0-9 with more\n",
    "    # than one element inside of that\n",
    "    # the second filter is capture everything that is not a number, a lower or upper\n",
    "    # case letter after the last line\n",
    "    return df[text_field].apply(lambda element: re.sub(mystring,\"\",element))\n",
    "\n",
    "df['clean_tweet'] = clean_text(df,'content')\n",
    "df.tail()"
   ]
  },
  {
   "cell_type": "code",
   "execution_count": null,
   "metadata": {},
   "outputs": [],
   "source": []
  },
  {
   "cell_type": "code",
   "execution_count": 7,
   "metadata": {},
   "outputs": [],
   "source": [
    "re_tok = re.compile(f'([{string.punctuation}“”¨«»®´·º½¾¿¡§£₤‘’])')\n",
    "def tokenize(s): \n",
    "    return re_tok.sub(r' \\1 ', s).split()"
   ]
  },
  {
   "cell_type": "code",
   "execution_count": 8,
   "metadata": {},
   "outputs": [
    {
     "data": {
      "text/html": [
       "<div>\n",
       "<style scoped>\n",
       "    .dataframe tbody tr th:only-of-type {\n",
       "        vertical-align: middle;\n",
       "    }\n",
       "\n",
       "    .dataframe tbody tr th {\n",
       "        vertical-align: top;\n",
       "    }\n",
       "\n",
       "    .dataframe thead th {\n",
       "        text-align: right;\n",
       "    }\n",
       "</style>\n",
       "<table border=\"1\" class=\"dataframe\">\n",
       "  <thead>\n",
       "    <tr style=\"text-align: right;\">\n",
       "      <th></th>\n",
       "      <th>sentiment</th>\n",
       "      <th>content</th>\n",
       "      <th>target</th>\n",
       "      <th>clean_tweet</th>\n",
       "      <th>tokenized</th>\n",
       "    </tr>\n",
       "  </thead>\n",
       "  <tbody>\n",
       "    <tr>\n",
       "      <th>29995</th>\n",
       "      <td>happiness</td>\n",
       "      <td>i had a great date last night...tried to find the cdcaves with daniel  it was hilariously fun!!!</td>\n",
       "      <td>5</td>\n",
       "      <td>i had a great date last nighttried to find the cdcaves with daniel  it was hilariously fun</td>\n",
       "      <td>[i, had, a, great, date, last, nighttried, to, find, the, cdcaves, with, daniel, it, was, hilariously, fun]</td>\n",
       "    </tr>\n",
       "    <tr>\n",
       "      <th>29996</th>\n",
       "      <td>sadness</td>\n",
       "      <td>with alex</td>\n",
       "      <td>10</td>\n",
       "      <td>with alex</td>\n",
       "      <td>[with, alex]</td>\n",
       "    </tr>\n",
       "    <tr>\n",
       "      <th>29997</th>\n",
       "      <td>happiness</td>\n",
       "      <td>@fureousangel that is comedy  good luck my friend!</td>\n",
       "      <td>5</td>\n",
       "      <td>that is comedy  good luck my friend</td>\n",
       "      <td>[that, is, comedy, good, luck, my, friend]</td>\n",
       "    </tr>\n",
       "    <tr>\n",
       "      <th>29998</th>\n",
       "      <td>fun</td>\n",
       "      <td>stephs grad party gr8! shoved cake in her face, watchd sis bitch slap a boy, ate good food  satisfied</td>\n",
       "      <td>4</td>\n",
       "      <td>stephs grad party gr8 shoved cake in her face watchd sis bitch slap a boy ate good food  satisfied</td>\n",
       "      <td>[stephs, grad, party, gr8, shoved, cake, in, her, face, watchd, sis, bitch, slap, a, boy, ate, good, food, satisfied]</td>\n",
       "    </tr>\n",
       "    <tr>\n",
       "      <th>29999</th>\n",
       "      <td>happiness</td>\n",
       "      <td>@jesfive sweeeeet - san fran is awesome!!!!  love it there</td>\n",
       "      <td>5</td>\n",
       "      <td>sweeeeet  san fran is awesome  love it there</td>\n",
       "      <td>[sweeeeet, san, fran, is, awesome, love, it, there]</td>\n",
       "    </tr>\n",
       "  </tbody>\n",
       "</table>\n",
       "</div>"
      ],
      "text/plain": [
       "       sentiment  \\\n",
       "29995  happiness   \n",
       "29996  sadness     \n",
       "29997  happiness   \n",
       "29998  fun         \n",
       "29999  happiness   \n",
       "\n",
       "                                                                                                     content  \\\n",
       "29995  i had a great date last night...tried to find the cdcaves with daniel  it was hilariously fun!!!        \n",
       "29996  with alex                                                                                               \n",
       "29997  @fureousangel that is comedy  good luck my friend!                                                      \n",
       "29998  stephs grad party gr8! shoved cake in her face, watchd sis bitch slap a boy, ate good food  satisfied   \n",
       "29999  @jesfive sweeeeet - san fran is awesome!!!!  love it there                                              \n",
       "\n",
       "       target  \\\n",
       "29995  5        \n",
       "29996  10       \n",
       "29997  5        \n",
       "29998  4        \n",
       "29999  5        \n",
       "\n",
       "                                                                                              clean_tweet  \\\n",
       "29995  i had a great date last nighttried to find the cdcaves with daniel  it was hilariously fun           \n",
       "29996  with alex                                                                                            \n",
       "29997   that is comedy  good luck my friend                                                                 \n",
       "29998  stephs grad party gr8 shoved cake in her face watchd sis bitch slap a boy ate good food  satisfied   \n",
       "29999   sweeeeet  san fran is awesome  love it there                                                        \n",
       "\n",
       "                                                                                                                   tokenized  \n",
       "29995  [i, had, a, great, date, last, nighttried, to, find, the, cdcaves, with, daniel, it, was, hilariously, fun]            \n",
       "29996  [with, alex]                                                                                                           \n",
       "29997  [that, is, comedy, good, luck, my, friend]                                                                             \n",
       "29998  [stephs, grad, party, gr8, shoved, cake, in, her, face, watchd, sis, bitch, slap, a, boy, ate, good, food, satisfied]  \n",
       "29999  [sweeeeet, san, fran, is, awesome, love, it, there]                                                                    "
      ]
     },
     "execution_count": 8,
     "metadata": {},
     "output_type": "execute_result"
    }
   ],
   "source": [
    "df['tokenized'] = df['clean_tweet'].apply(lambda row: tokenize(row))\n",
    "df.tail()"
   ]
  },
  {
   "cell_type": "code",
   "execution_count": 9,
   "metadata": {},
   "outputs": [],
   "source": [
    "stop = set(stopwords.words('english'))\n",
    "stop.update(['amp', 'rt', 'cc'])\n",
    "stop = stop - set(['no', 'not'])"
   ]
  },
  {
   "cell_type": "code",
   "execution_count": 10,
   "metadata": {},
   "outputs": [],
   "source": [
    "def remove_stopwords(row):\n",
    "    return [t for t in row if t not in stop]"
   ]
  },
  {
   "cell_type": "code",
   "execution_count": 11,
   "metadata": {},
   "outputs": [
    {
     "data": {
      "text/html": [
       "<div>\n",
       "<style scoped>\n",
       "    .dataframe tbody tr th:only-of-type {\n",
       "        vertical-align: middle;\n",
       "    }\n",
       "\n",
       "    .dataframe tbody tr th {\n",
       "        vertical-align: top;\n",
       "    }\n",
       "\n",
       "    .dataframe thead th {\n",
       "        text-align: right;\n",
       "    }\n",
       "</style>\n",
       "<table border=\"1\" class=\"dataframe\">\n",
       "  <thead>\n",
       "    <tr style=\"text-align: right;\">\n",
       "      <th></th>\n",
       "      <th>sentiment</th>\n",
       "      <th>content</th>\n",
       "      <th>target</th>\n",
       "      <th>clean_tweet</th>\n",
       "      <th>tokenized</th>\n",
       "    </tr>\n",
       "  </thead>\n",
       "  <tbody>\n",
       "    <tr>\n",
       "      <th>29995</th>\n",
       "      <td>happiness</td>\n",
       "      <td>i had a great date last night...tried to find the cdcaves with daniel  it was hilariously fun!!!</td>\n",
       "      <td>5</td>\n",
       "      <td>i had a great date last nighttried to find the cdcaves with daniel  it was hilariously fun</td>\n",
       "      <td>[great, date, last, nighttried, find, cdcaves, daniel, hilariously, fun]</td>\n",
       "    </tr>\n",
       "    <tr>\n",
       "      <th>29996</th>\n",
       "      <td>sadness</td>\n",
       "      <td>with alex</td>\n",
       "      <td>10</td>\n",
       "      <td>with alex</td>\n",
       "      <td>[alex]</td>\n",
       "    </tr>\n",
       "    <tr>\n",
       "      <th>29997</th>\n",
       "      <td>happiness</td>\n",
       "      <td>@fureousangel that is comedy  good luck my friend!</td>\n",
       "      <td>5</td>\n",
       "      <td>that is comedy  good luck my friend</td>\n",
       "      <td>[comedy, good, luck, friend]</td>\n",
       "    </tr>\n",
       "    <tr>\n",
       "      <th>29998</th>\n",
       "      <td>fun</td>\n",
       "      <td>stephs grad party gr8! shoved cake in her face, watchd sis bitch slap a boy, ate good food  satisfied</td>\n",
       "      <td>4</td>\n",
       "      <td>stephs grad party gr8 shoved cake in her face watchd sis bitch slap a boy ate good food  satisfied</td>\n",
       "      <td>[stephs, grad, party, gr8, shoved, cake, face, watchd, sis, bitch, slap, boy, ate, good, food, satisfied]</td>\n",
       "    </tr>\n",
       "    <tr>\n",
       "      <th>29999</th>\n",
       "      <td>happiness</td>\n",
       "      <td>@jesfive sweeeeet - san fran is awesome!!!!  love it there</td>\n",
       "      <td>5</td>\n",
       "      <td>sweeeeet  san fran is awesome  love it there</td>\n",
       "      <td>[sweeeeet, san, fran, awesome, love]</td>\n",
       "    </tr>\n",
       "  </tbody>\n",
       "</table>\n",
       "</div>"
      ],
      "text/plain": [
       "       sentiment  \\\n",
       "29995  happiness   \n",
       "29996  sadness     \n",
       "29997  happiness   \n",
       "29998  fun         \n",
       "29999  happiness   \n",
       "\n",
       "                                                                                                     content  \\\n",
       "29995  i had a great date last night...tried to find the cdcaves with daniel  it was hilariously fun!!!        \n",
       "29996  with alex                                                                                               \n",
       "29997  @fureousangel that is comedy  good luck my friend!                                                      \n",
       "29998  stephs grad party gr8! shoved cake in her face, watchd sis bitch slap a boy, ate good food  satisfied   \n",
       "29999  @jesfive sweeeeet - san fran is awesome!!!!  love it there                                              \n",
       "\n",
       "       target  \\\n",
       "29995  5        \n",
       "29996  10       \n",
       "29997  5        \n",
       "29998  4        \n",
       "29999  5        \n",
       "\n",
       "                                                                                              clean_tweet  \\\n",
       "29995  i had a great date last nighttried to find the cdcaves with daniel  it was hilariously fun           \n",
       "29996  with alex                                                                                            \n",
       "29997   that is comedy  good luck my friend                                                                 \n",
       "29998  stephs grad party gr8 shoved cake in her face watchd sis bitch slap a boy ate good food  satisfied   \n",
       "29999   sweeeeet  san fran is awesome  love it there                                                        \n",
       "\n",
       "                                                                                                       tokenized  \n",
       "29995  [great, date, last, nighttried, find, cdcaves, daniel, hilariously, fun]                                   \n",
       "29996  [alex]                                                                                                     \n",
       "29997  [comedy, good, luck, friend]                                                                               \n",
       "29998  [stephs, grad, party, gr8, shoved, cake, face, watchd, sis, bitch, slap, boy, ate, good, food, satisfied]  \n",
       "29999  [sweeeeet, san, fran, awesome, love]                                                                       "
      ]
     },
     "execution_count": 11,
     "metadata": {},
     "output_type": "execute_result"
    }
   ],
   "source": [
    "df['tokenized'] = df['tokenized'].apply(lambda row: remove_stopwords(row))\n",
    "df.tail()"
   ]
  },
  {
   "cell_type": "code",
   "execution_count": 12,
   "metadata": {},
   "outputs": [
    {
     "data": {
      "text/html": [
       "<div>\n",
       "<style scoped>\n",
       "    .dataframe tbody tr th:only-of-type {\n",
       "        vertical-align: middle;\n",
       "    }\n",
       "\n",
       "    .dataframe tbody tr th {\n",
       "        vertical-align: top;\n",
       "    }\n",
       "\n",
       "    .dataframe thead th {\n",
       "        text-align: right;\n",
       "    }\n",
       "</style>\n",
       "<table border=\"1\" class=\"dataframe\">\n",
       "  <thead>\n",
       "    <tr style=\"text-align: right;\">\n",
       "      <th></th>\n",
       "      <th>sentiment</th>\n",
       "      <th>content</th>\n",
       "      <th>target</th>\n",
       "      <th>clean_tweet</th>\n",
       "      <th>tokenized</th>\n",
       "      <th>tokenized_int</th>\n",
       "    </tr>\n",
       "  </thead>\n",
       "  <tbody>\n",
       "    <tr>\n",
       "      <th>29995</th>\n",
       "      <td>happiness</td>\n",
       "      <td>i had a great date last night...tried to find the cdcaves with daniel  it was hilariously fun!!!</td>\n",
       "      <td>5</td>\n",
       "      <td>i had a great date last nighttried to find the cdcaves with daniel  it was hilariously fun</td>\n",
       "      <td>[great, date, last, nighttried, find, cdcaves, daniel, hilariously, fun]</td>\n",
       "      <td>[48, 633, 34, 0, 100, 0, 3970, 0, 64]</td>\n",
       "    </tr>\n",
       "    <tr>\n",
       "      <th>29996</th>\n",
       "      <td>sadness</td>\n",
       "      <td>with alex</td>\n",
       "      <td>10</td>\n",
       "      <td>with alex</td>\n",
       "      <td>[alex]</td>\n",
       "      <td>[2025]</td>\n",
       "    </tr>\n",
       "    <tr>\n",
       "      <th>29997</th>\n",
       "      <td>happiness</td>\n",
       "      <td>@fureousangel that is comedy  good luck my friend!</td>\n",
       "      <td>5</td>\n",
       "      <td>that is comedy  good luck my friend</td>\n",
       "      <td>[comedy, good, luck, friend]</td>\n",
       "      <td>[2276, 4, 262, 177]</td>\n",
       "    </tr>\n",
       "    <tr>\n",
       "      <th>29998</th>\n",
       "      <td>fun</td>\n",
       "      <td>stephs grad party gr8! shoved cake in her face, watchd sis bitch slap a boy, ate good food  satisfied</td>\n",
       "      <td>4</td>\n",
       "      <td>stephs grad party gr8 shoved cake in her face watchd sis bitch slap a boy ate good food  satisfied</td>\n",
       "      <td>[stephs, grad, party, gr8, shoved, cake, face, watchd, sis, bitch, slap, boy, ate, good, food, satisfied]</td>\n",
       "      <td>[0, 1823, 275, 2584, 0, 741, 414, 0, 1437, 1089, 4596, 454, 626, 4, 276, 0]</td>\n",
       "    </tr>\n",
       "    <tr>\n",
       "      <th>29999</th>\n",
       "      <td>happiness</td>\n",
       "      <td>@jesfive sweeeeet - san fran is awesome!!!!  love it there</td>\n",
       "      <td>5</td>\n",
       "      <td>sweeeeet  san fran is awesome  love it there</td>\n",
       "      <td>[sweeeeet, san, fran, awesome, love]</td>\n",
       "      <td>[0, 1214, 0, 136, 19]</td>\n",
       "    </tr>\n",
       "  </tbody>\n",
       "</table>\n",
       "</div>"
      ],
      "text/plain": [
       "       sentiment  \\\n",
       "29995  happiness   \n",
       "29996  sadness     \n",
       "29997  happiness   \n",
       "29998  fun         \n",
       "29999  happiness   \n",
       "\n",
       "                                                                                                     content  \\\n",
       "29995  i had a great date last night...tried to find the cdcaves with daniel  it was hilariously fun!!!        \n",
       "29996  with alex                                                                                               \n",
       "29997  @fureousangel that is comedy  good luck my friend!                                                      \n",
       "29998  stephs grad party gr8! shoved cake in her face, watchd sis bitch slap a boy, ate good food  satisfied   \n",
       "29999  @jesfive sweeeeet - san fran is awesome!!!!  love it there                                              \n",
       "\n",
       "       target  \\\n",
       "29995  5        \n",
       "29996  10       \n",
       "29997  5        \n",
       "29998  4        \n",
       "29999  5        \n",
       "\n",
       "                                                                                              clean_tweet  \\\n",
       "29995  i had a great date last nighttried to find the cdcaves with daniel  it was hilariously fun           \n",
       "29996  with alex                                                                                            \n",
       "29997   that is comedy  good luck my friend                                                                 \n",
       "29998  stephs grad party gr8 shoved cake in her face watchd sis bitch slap a boy ate good food  satisfied   \n",
       "29999   sweeeeet  san fran is awesome  love it there                                                        \n",
       "\n",
       "                                                                                                       tokenized  \\\n",
       "29995  [great, date, last, nighttried, find, cdcaves, daniel, hilariously, fun]                                    \n",
       "29996  [alex]                                                                                                      \n",
       "29997  [comedy, good, luck, friend]                                                                                \n",
       "29998  [stephs, grad, party, gr8, shoved, cake, face, watchd, sis, bitch, slap, boy, ate, good, food, satisfied]   \n",
       "29999  [sweeeeet, san, fran, awesome, love]                                                                        \n",
       "\n",
       "                                                                     tokenized_int  \n",
       "29995  [48, 633, 34, 0, 100, 0, 3970, 0, 64]                                        \n",
       "29996  [2025]                                                                       \n",
       "29997  [2276, 4, 262, 177]                                                          \n",
       "29998  [0, 1823, 275, 2584, 0, 741, 414, 0, 1437, 1089, 4596, 454, 626, 4, 276, 0]  \n",
       "29999  [0, 1214, 0, 136, 19]                                                        "
      ]
     },
     "execution_count": 12,
     "metadata": {},
     "output_type": "execute_result"
    }
   ],
   "source": [
    "def update_vocab_counter(row):\n",
    "    for word in row:\n",
    "        vocab_counter[word] += 1\n",
    "vocab_counter = collections.Counter()\n",
    "df['tokenized'].apply(update_vocab_counter);\n",
    "vocab = sorted(vocab_counter, key=vocab_counter.get, reverse=True)\n",
    "max_words = 5000\n",
    "w2id = {w:i for i, w in enumerate(vocab[:max_words])}\n",
    "w2id['unk'] = 0\n",
    "def transform_to_ids(row):\n",
    "    return [w2id[w] if w in w2id else w2id['unk'] for w in row]\n",
    "df['tokenized_int'] = df['tokenized'].apply(lambda x: transform_to_ids(x))\n",
    "df.tail()"
   ]
  },
  {
   "cell_type": "code",
   "execution_count": 13,
   "metadata": {},
   "outputs": [],
   "source": [
    "lens = df['tokenized_int'].apply(lambda x: len(x))"
   ]
  },
  {
   "cell_type": "code",
   "execution_count": 14,
   "metadata": {},
   "outputs": [
    {
     "data": {
      "text/plain": [
       "(0, 25, 7.495733333333333)"
      ]
     },
     "execution_count": 14,
     "metadata": {},
     "output_type": "execute_result"
    }
   ],
   "source": [
    "min(lens), max(lens), np.mean(lens)"
   ]
  },
  {
   "cell_type": "code",
   "execution_count": 15,
   "metadata": {},
   "outputs": [],
   "source": [
    "maxlen = 24"
   ]
  },
  {
   "cell_type": "markdown",
   "metadata": {},
   "source": [
    "<h2> Processing </h2>"
   ]
  },
  {
   "cell_type": "code",
   "execution_count": 16,
   "metadata": {},
   "outputs": [],
   "source": [
    "X_train, X_test, y_train, y_test = train_test_split(df['tokenized_int'].values,\n",
    "                                                    df['target'].values, \n",
    "                                                    test_size=0.25, \n",
    "                                                    random_state=0)"
   ]
  },
  {
   "cell_type": "code",
   "execution_count": 17,
   "metadata": {},
   "outputs": [],
   "source": [
    "x_train = pad_sequences(X_train, maxlen=maxlen, value=0)\n",
    "x_test = pad_sequences(X_test, maxlen=maxlen, value=0)"
   ]
  },
  {
   "cell_type": "code",
   "execution_count": 18,
   "metadata": {},
   "outputs": [],
   "source": [
    "dummy_y = np_utils.to_categorical(y_train)\n",
    "dummy_y_test = np_utils.to_categorical(y_test)"
   ]
  },
  {
   "cell_type": "code",
   "execution_count": 19,
   "metadata": {},
   "outputs": [
    {
     "name": "stdout",
     "output_type": "stream",
     "text": [
      "13\n"
     ]
    }
   ],
   "source": [
    "mydim = len(list(set(df['target'])))\n",
    "print(mydim)\n",
    "def conv_model():\n",
    "    model = Sequential([Embedding(input_dim=max_words, output_dim=32, input_length=maxlen),\n",
    "                        Convolution1D(10, mydim, padding='same', activation='relu'),\n",
    "                        MaxPooling1D(),\n",
    "                        Flatten(),\n",
    "                        Dense(50, activation='relu'),\n",
    "                        Dense(mydim, activation='softmax')])\n",
    "\n",
    "    model.compile(loss='categorical_crossentropy', optimizer=Adam(), metrics=['accuracy'])\n",
    "    \n",
    "    return model"
   ]
  },
  {
   "cell_type": "code",
   "execution_count": 20,
   "metadata": {},
   "outputs": [],
   "source": [
    "estimator = KerasClassifier(build_fn=conv_model, epochs=10, batch_size=100, verbose=0)\n",
    "kfold = StratifiedKFold(n_splits=5, shuffle=True, random_state=0)"
   ]
  },
  {
   "cell_type": "code",
   "execution_count": 21,
   "metadata": {},
   "outputs": [
    {
     "name": "stdout",
     "output_type": "stream",
     "text": [
      "WARNING:tensorflow:From /anaconda3/lib/python3.7/site-packages/tensorflow/python/framework/op_def_library.py:263: colocate_with (from tensorflow.python.framework.ops) is deprecated and will be removed in a future version.\n",
      "Instructions for updating:\n",
      "Colocations handled automatically by placer.\n",
      "WARNING:tensorflow:From /anaconda3/lib/python3.7/site-packages/tensorflow/python/ops/math_ops.py:3066: to_int32 (from tensorflow.python.ops.math_ops) is deprecated and will be removed in a future version.\n",
      "Instructions for updating:\n",
      "Use tf.cast instead.\n"
     ]
    }
   ],
   "source": [
    "results = cross_val_score(estimator, x_train, y_train, cv=kfold)"
   ]
  },
  {
   "cell_type": "code",
   "execution_count": 22,
   "metadata": {},
   "outputs": [
    {
     "data": {
      "text/plain": [
       "(25.977919775026624, 0.5245573718838871)"
      ]
     },
     "execution_count": 22,
     "metadata": {},
     "output_type": "execute_result"
    }
   ],
   "source": [
    "results.mean()*100, results.std()*100"
   ]
  },
  {
   "cell_type": "code",
   "execution_count": 23,
   "metadata": {},
   "outputs": [
    {
     "data": {
      "text/plain": [
       "array([0.26326304, 0.25005552, 0.26244445, 0.25861685, 0.26451613])"
      ]
     },
     "execution_count": 23,
     "metadata": {},
     "output_type": "execute_result"
    }
   ],
   "source": [
    "results"
   ]
  },
  {
   "cell_type": "code",
   "execution_count": null,
   "metadata": {},
   "outputs": [],
   "source": []
  }
 ],
 "metadata": {
  "kernelspec": {
   "display_name": "Python 3",
   "language": "python",
   "name": "python3"
  },
  "language_info": {
   "codemirror_mode": {
    "name": "ipython",
    "version": 3
   },
   "file_extension": ".py",
   "mimetype": "text/x-python",
   "name": "python",
   "nbconvert_exporter": "python",
   "pygments_lexer": "ipython3",
   "version": "3.7.1"
  }
 },
 "nbformat": 4,
 "nbformat_minor": 2
}
