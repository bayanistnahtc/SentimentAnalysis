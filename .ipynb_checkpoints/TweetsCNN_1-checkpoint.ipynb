{
 "cells": [
  {
   "cell_type": "code",
   "execution_count": 1,
   "metadata": {},
   "outputs": [
    {
     "name": "stderr",
     "output_type": "stream",
     "text": [
      "Using TensorFlow backend.\n"
     ]
    }
   ],
   "source": [
    "# --- Preprocessing ---\n",
    "import pandas as pd\n",
    "from sklearn.preprocessing import LabelEncoder\n",
    "import re\n",
    "import string\n",
    "from nltk.corpus import stopwords\n",
    "import collections\n",
    "import numpy as np\n",
    "\n",
    "# --- Processing ---\n",
    "from sklearn.model_selection import train_test_split, StratifiedKFold, cross_val_score\n",
    "from keras.preprocessing.sequence import pad_sequences\n",
    "from keras.utils import np_utils\n",
    "from keras.wrappers.scikit_learn import KerasClassifier\n",
    "from keras.models import Sequential#, Model, load_model\n",
    "from keras.layers.embeddings import Embedding\n",
    "from keras.layers import Flatten, Dense, Dropout, Convolution1D, MaxPooling1D, SpatialDropout1D, Input \n",
    "from keras.layers import GlobalMaxPooling1D, concatenate, LSTM, Bidirectional\n",
    "from keras.optimizers import Adam\n",
    "\n",
    "# --- Postprocessing ---"
   ]
  },
  {
   "cell_type": "code",
   "execution_count": 2,
   "metadata": {},
   "outputs": [
    {
     "data": {
      "text/html": [
       "<div>\n",
       "<style scoped>\n",
       "    .dataframe tbody tr th:only-of-type {\n",
       "        vertical-align: middle;\n",
       "    }\n",
       "\n",
       "    .dataframe tbody tr th {\n",
       "        vertical-align: top;\n",
       "    }\n",
       "\n",
       "    .dataframe thead th {\n",
       "        text-align: right;\n",
       "    }\n",
       "</style>\n",
       "<table border=\"1\" class=\"dataframe\">\n",
       "  <thead>\n",
       "    <tr style=\"text-align: right;\">\n",
       "      <th></th>\n",
       "      <th>label</th>\n",
       "      <th>tweet</th>\n",
       "    </tr>\n",
       "  </thead>\n",
       "  <tbody>\n",
       "    <tr>\n",
       "      <th>31957</th>\n",
       "      <td>0</td>\n",
       "      <td>ate @user isz that youuu?Ã°ÂÂÂÃ°ÂÂÂÃ°ÂÂÂÃ°ÂÂÂÃ°ÂÂÂÃ°ÂÂÂÃ°ÂÂÂÃ°ÂÂÂÃ°ÂÂÂÃ¢ÂÂ¤Ã¯Â¸Â</td>\n",
       "    </tr>\n",
       "    <tr>\n",
       "      <th>31958</th>\n",
       "      <td>0</td>\n",
       "      <td>to see nina turner on the airwaves trying to wrap herself in the mantle of a genuine hero like shirley chisolm. #shame #imwithher</td>\n",
       "    </tr>\n",
       "    <tr>\n",
       "      <th>31959</th>\n",
       "      <td>0</td>\n",
       "      <td>listening to sad songs on a monday morning otw to work is sad</td>\n",
       "    </tr>\n",
       "    <tr>\n",
       "      <th>31960</th>\n",
       "      <td>1</td>\n",
       "      <td>@user #sikh #temple vandalised in in #calgary, #wso condemns  act</td>\n",
       "    </tr>\n",
       "    <tr>\n",
       "      <th>31961</th>\n",
       "      <td>0</td>\n",
       "      <td>thank you @user for you follow</td>\n",
       "    </tr>\n",
       "  </tbody>\n",
       "</table>\n",
       "</div>"
      ],
      "text/plain": [
       "       label  \\\n",
       "31957  0       \n",
       "31958  0       \n",
       "31959  0       \n",
       "31960  1       \n",
       "31961  0       \n",
       "\n",
       "                                                                                                                                     tweet  \n",
       "31957  ate @user isz that youuu?Ã°ÂÂÂÃ°ÂÂÂÃ°ÂÂÂÃ°ÂÂÂÃ°ÂÂÂÃ°ÂÂÂÃ°ÂÂÂÃ°ÂÂÂÃ°ÂÂÂÃ¢ÂÂ¤Ã¯Â¸Â                        \n",
       "31958    to see nina turner on the airwaves trying to wrap herself in the mantle of a genuine hero like shirley chisolm. #shame #imwithher  \n",
       "31959  listening to sad songs on a monday morning otw to work is sad                                                                        \n",
       "31960  @user #sikh #temple vandalised in in #calgary, #wso condemns  act                                                                    \n",
       "31961  thank you @user for you follow                                                                                                       "
      ]
     },
     "execution_count": 2,
     "metadata": {},
     "output_type": "execute_result"
    }
   ],
   "source": [
    "# Loading the Dataset\n",
    "df = pd.read_csv('train_tweets.csv', \n",
    "                 usecols=['tweet', 'label'], \n",
    "                 encoding='ISO-8859-1')\n",
    "pd.set_option('display.max_colwidth', -1)\n",
    "df.tail()"
   ]
  },
  {
   "cell_type": "code",
   "execution_count": 3,
   "metadata": {},
   "outputs": [
    {
     "data": {
      "text/html": [
       "<div>\n",
       "<style scoped>\n",
       "    .dataframe tbody tr th:only-of-type {\n",
       "        vertical-align: middle;\n",
       "    }\n",
       "\n",
       "    .dataframe tbody tr th {\n",
       "        vertical-align: top;\n",
       "    }\n",
       "\n",
       "    .dataframe thead th {\n",
       "        text-align: right;\n",
       "    }\n",
       "</style>\n",
       "<table border=\"1\" class=\"dataframe\">\n",
       "  <thead>\n",
       "    <tr style=\"text-align: right;\">\n",
       "      <th></th>\n",
       "      <th>label</th>\n",
       "      <th>tweet</th>\n",
       "      <th>target</th>\n",
       "    </tr>\n",
       "  </thead>\n",
       "  <tbody>\n",
       "    <tr>\n",
       "      <th>31957</th>\n",
       "      <td>0</td>\n",
       "      <td>ate @user isz that youuu?Ã°ÂÂÂÃ°ÂÂÂÃ°ÂÂÂÃ°ÂÂÂÃ°ÂÂÂÃ°ÂÂÂÃ°ÂÂÂÃ°ÂÂÂÃ°ÂÂÂÃ¢ÂÂ¤Ã¯Â¸Â</td>\n",
       "      <td>0</td>\n",
       "    </tr>\n",
       "    <tr>\n",
       "      <th>31958</th>\n",
       "      <td>0</td>\n",
       "      <td>to see nina turner on the airwaves trying to wrap herself in the mantle of a genuine hero like shirley chisolm. #shame #imwithher</td>\n",
       "      <td>0</td>\n",
       "    </tr>\n",
       "    <tr>\n",
       "      <th>31959</th>\n",
       "      <td>0</td>\n",
       "      <td>listening to sad songs on a monday morning otw to work is sad</td>\n",
       "      <td>0</td>\n",
       "    </tr>\n",
       "    <tr>\n",
       "      <th>31960</th>\n",
       "      <td>1</td>\n",
       "      <td>@user #sikh #temple vandalised in in #calgary, #wso condemns  act</td>\n",
       "      <td>1</td>\n",
       "    </tr>\n",
       "    <tr>\n",
       "      <th>31961</th>\n",
       "      <td>0</td>\n",
       "      <td>thank you @user for you follow</td>\n",
       "      <td>0</td>\n",
       "    </tr>\n",
       "  </tbody>\n",
       "</table>\n",
       "</div>"
      ],
      "text/plain": [
       "       label  \\\n",
       "31957  0       \n",
       "31958  0       \n",
       "31959  0       \n",
       "31960  1       \n",
       "31961  0       \n",
       "\n",
       "                                                                                                                                     tweet  \\\n",
       "31957  ate @user isz that youuu?Ã°ÂÂÂÃ°ÂÂÂÃ°ÂÂÂÃ°ÂÂÂÃ°ÂÂÂÃ°ÂÂÂÃ°ÂÂÂÃ°ÂÂÂÃ°ÂÂÂÃ¢ÂÂ¤Ã¯Â¸Â                         \n",
       "31958    to see nina turner on the airwaves trying to wrap herself in the mantle of a genuine hero like shirley chisolm. #shame #imwithher   \n",
       "31959  listening to sad songs on a monday morning otw to work is sad                                                                         \n",
       "31960  @user #sikh #temple vandalised in in #calgary, #wso condemns  act                                                                     \n",
       "31961  thank you @user for you follow                                                                                                        \n",
       "\n",
       "       target  \n",
       "31957  0       \n",
       "31958  0       \n",
       "31959  0       \n",
       "31960  1       \n",
       "31961  0       "
      ]
     },
     "execution_count": 3,
     "metadata": {},
     "output_type": "execute_result"
    }
   ],
   "source": [
    "# Targets\n",
    "# \n",
    "# negative: 0, neutral: 1, positive: 2\n",
    "le = LabelEncoder()\n",
    "df['target'] = le.fit_transform(df['label'])\n",
    "df.tail()"
   ]
  },
  {
   "cell_type": "code",
   "execution_count": 4,
   "metadata": {},
   "outputs": [
    {
     "data": {
      "text/html": [
       "<div>\n",
       "<style scoped>\n",
       "    .dataframe tbody tr th:only-of-type {\n",
       "        vertical-align: middle;\n",
       "    }\n",
       "\n",
       "    .dataframe tbody tr th {\n",
       "        vertical-align: top;\n",
       "    }\n",
       "\n",
       "    .dataframe thead th {\n",
       "        text-align: right;\n",
       "    }\n",
       "</style>\n",
       "<table border=\"1\" class=\"dataframe\">\n",
       "  <thead>\n",
       "    <tr style=\"text-align: right;\">\n",
       "      <th></th>\n",
       "      <th>label</th>\n",
       "      <th>tweet</th>\n",
       "      <th>target</th>\n",
       "      <th>clean_tweet</th>\n",
       "    </tr>\n",
       "  </thead>\n",
       "  <tbody>\n",
       "    <tr>\n",
       "      <th>31957</th>\n",
       "      <td>0</td>\n",
       "      <td>ate @user isz that youuu?ã°âââã°âââã°âââã°âââã°âââã°âââã°âââã°âââã°âââã¢ââ¤ã¯â¸â</td>\n",
       "      <td>0</td>\n",
       "      <td>ate  isz that youuu</td>\n",
       "    </tr>\n",
       "    <tr>\n",
       "      <th>31958</th>\n",
       "      <td>0</td>\n",
       "      <td>to see nina turner on the airwaves trying to wrap herself in the mantle of a genuine hero like shirley chisolm. #shame #imwithher</td>\n",
       "      <td>0</td>\n",
       "      <td>to see nina turner on the airwaves trying to wrap herself in the mantle of a genuine hero like shirley chisolm shame imwithher</td>\n",
       "    </tr>\n",
       "    <tr>\n",
       "      <th>31959</th>\n",
       "      <td>0</td>\n",
       "      <td>listening to sad songs on a monday morning otw to work is sad</td>\n",
       "      <td>0</td>\n",
       "      <td>listening to sad songs on a monday morning otw to work is sad</td>\n",
       "    </tr>\n",
       "    <tr>\n",
       "      <th>31960</th>\n",
       "      <td>1</td>\n",
       "      <td>@user #sikh #temple vandalised in in #calgary, #wso condemns  act</td>\n",
       "      <td>1</td>\n",
       "      <td>sikh temple vandalised in in calgary wso condemns  act</td>\n",
       "    </tr>\n",
       "    <tr>\n",
       "      <th>31961</th>\n",
       "      <td>0</td>\n",
       "      <td>thank you @user for you follow</td>\n",
       "      <td>0</td>\n",
       "      <td>thank you  for you follow</td>\n",
       "    </tr>\n",
       "  </tbody>\n",
       "</table>\n",
       "</div>"
      ],
      "text/plain": [
       "       label  \\\n",
       "31957  0       \n",
       "31958  0       \n",
       "31959  0       \n",
       "31960  1       \n",
       "31961  0       \n",
       "\n",
       "                                                                                                                                     tweet  \\\n",
       "31957  ate @user isz that youuu?ã°âââã°âââã°âââã°âââã°âââã°âââã°âââã°âââã°âââã¢ââ¤ã¯â¸â                         \n",
       "31958    to see nina turner on the airwaves trying to wrap herself in the mantle of a genuine hero like shirley chisolm. #shame #imwithher   \n",
       "31959  listening to sad songs on a monday morning otw to work is sad                                                                         \n",
       "31960  @user #sikh #temple vandalised in in #calgary, #wso condemns  act                                                                     \n",
       "31961  thank you @user for you follow                                                                                                        \n",
       "\n",
       "       target  \\\n",
       "31957  0        \n",
       "31958  0        \n",
       "31959  0        \n",
       "31960  1        \n",
       "31961  0        \n",
       "\n",
       "                                                                                                                            clean_tweet  \n",
       "31957  ate  isz that youuu                                                                                                               \n",
       "31958    to see nina turner on the airwaves trying to wrap herself in the mantle of a genuine hero like shirley chisolm shame imwithher  \n",
       "31959  listening to sad songs on a monday morning otw to work is sad                                                                     \n",
       "31960   sikh temple vandalised in in calgary wso condemns  act                                                                           \n",
       "31961  thank you  for you follow                                                                                                         "
      ]
     },
     "execution_count": 4,
     "metadata": {},
     "output_type": "execute_result"
    }
   ],
   "source": [
    "# Tweet Cleaning\n",
    "# \n",
    "def clean_text(df,text_field):\n",
    "    df[text_field] = df[text_field].str.lower()\n",
    "    mystring = r\"(@[A-Za-z0-9]+)|([^0-9A-Za-z \\t])|(\\w+:\\/\\/\\S+)|^rt|http.+?\"\n",
    "    # the first filter is capture everything eclosed that starts with an @\n",
    "    # and that has any single character from the range A-Z or a-z or 0-9 with more\n",
    "    # than one element inside of that\n",
    "    # the second filter is capture everything that is not a number, a lower or upper\n",
    "    # case letter after the last line\n",
    "    return df[text_field].apply(lambda element: re.sub(mystring,\"\",element))\n",
    "\n",
    "df['clean_tweet'] = clean_text(df,'tweet')\n",
    "df.tail()"
   ]
  },
  {
   "cell_type": "code",
   "execution_count": null,
   "metadata": {},
   "outputs": [],
   "source": []
  },
  {
   "cell_type": "code",
   "execution_count": 5,
   "metadata": {},
   "outputs": [],
   "source": [
    "re_tok = re.compile(f'([{string.punctuation}“”¨«»®´·º½¾¿¡§£₤‘’])')\n",
    "def tokenize(s): \n",
    "    return re_tok.sub(r' \\1 ', s).split()"
   ]
  },
  {
   "cell_type": "code",
   "execution_count": 6,
   "metadata": {},
   "outputs": [
    {
     "data": {
      "text/html": [
       "<div>\n",
       "<style scoped>\n",
       "    .dataframe tbody tr th:only-of-type {\n",
       "        vertical-align: middle;\n",
       "    }\n",
       "\n",
       "    .dataframe tbody tr th {\n",
       "        vertical-align: top;\n",
       "    }\n",
       "\n",
       "    .dataframe thead th {\n",
       "        text-align: right;\n",
       "    }\n",
       "</style>\n",
       "<table border=\"1\" class=\"dataframe\">\n",
       "  <thead>\n",
       "    <tr style=\"text-align: right;\">\n",
       "      <th></th>\n",
       "      <th>label</th>\n",
       "      <th>tweet</th>\n",
       "      <th>target</th>\n",
       "      <th>clean_tweet</th>\n",
       "      <th>tokenized</th>\n",
       "    </tr>\n",
       "  </thead>\n",
       "  <tbody>\n",
       "    <tr>\n",
       "      <th>31957</th>\n",
       "      <td>0</td>\n",
       "      <td>ate @user isz that youuu?ã°âââã°âââã°âââã°âââã°âââã°âââã°âââã°âââã°âââã¢ââ¤ã¯â¸â</td>\n",
       "      <td>0</td>\n",
       "      <td>ate  isz that youuu</td>\n",
       "      <td>[ate, isz, that, youuu]</td>\n",
       "    </tr>\n",
       "    <tr>\n",
       "      <th>31958</th>\n",
       "      <td>0</td>\n",
       "      <td>to see nina turner on the airwaves trying to wrap herself in the mantle of a genuine hero like shirley chisolm. #shame #imwithher</td>\n",
       "      <td>0</td>\n",
       "      <td>to see nina turner on the airwaves trying to wrap herself in the mantle of a genuine hero like shirley chisolm shame imwithher</td>\n",
       "      <td>[to, see, nina, turner, on, the, airwaves, trying, to, wrap, herself, in, the, mantle, of, a, genuine, hero, like, shirley, chisolm, shame, imwithher]</td>\n",
       "    </tr>\n",
       "    <tr>\n",
       "      <th>31959</th>\n",
       "      <td>0</td>\n",
       "      <td>listening to sad songs on a monday morning otw to work is sad</td>\n",
       "      <td>0</td>\n",
       "      <td>listening to sad songs on a monday morning otw to work is sad</td>\n",
       "      <td>[listening, to, sad, songs, on, a, monday, morning, otw, to, work, is, sad]</td>\n",
       "    </tr>\n",
       "    <tr>\n",
       "      <th>31960</th>\n",
       "      <td>1</td>\n",
       "      <td>@user #sikh #temple vandalised in in #calgary, #wso condemns  act</td>\n",
       "      <td>1</td>\n",
       "      <td>sikh temple vandalised in in calgary wso condemns  act</td>\n",
       "      <td>[sikh, temple, vandalised, in, in, calgary, wso, condemns, act]</td>\n",
       "    </tr>\n",
       "    <tr>\n",
       "      <th>31961</th>\n",
       "      <td>0</td>\n",
       "      <td>thank you @user for you follow</td>\n",
       "      <td>0</td>\n",
       "      <td>thank you  for you follow</td>\n",
       "      <td>[thank, you, for, you, follow]</td>\n",
       "    </tr>\n",
       "  </tbody>\n",
       "</table>\n",
       "</div>"
      ],
      "text/plain": [
       "       label  \\\n",
       "31957  0       \n",
       "31958  0       \n",
       "31959  0       \n",
       "31960  1       \n",
       "31961  0       \n",
       "\n",
       "                                                                                                                                     tweet  \\\n",
       "31957  ate @user isz that youuu?ã°âââã°âââã°âââã°âââã°âââã°âââã°âââã°âââã°âââã¢ââ¤ã¯â¸â                         \n",
       "31958    to see nina turner on the airwaves trying to wrap herself in the mantle of a genuine hero like shirley chisolm. #shame #imwithher   \n",
       "31959  listening to sad songs on a monday morning otw to work is sad                                                                         \n",
       "31960  @user #sikh #temple vandalised in in #calgary, #wso condemns  act                                                                     \n",
       "31961  thank you @user for you follow                                                                                                        \n",
       "\n",
       "       target  \\\n",
       "31957  0        \n",
       "31958  0        \n",
       "31959  0        \n",
       "31960  1        \n",
       "31961  0        \n",
       "\n",
       "                                                                                                                            clean_tweet  \\\n",
       "31957  ate  isz that youuu                                                                                                                \n",
       "31958    to see nina turner on the airwaves trying to wrap herself in the mantle of a genuine hero like shirley chisolm shame imwithher   \n",
       "31959  listening to sad songs on a monday morning otw to work is sad                                                                      \n",
       "31960   sikh temple vandalised in in calgary wso condemns  act                                                                            \n",
       "31961  thank you  for you follow                                                                                                          \n",
       "\n",
       "                                                                                                                                                    tokenized  \n",
       "31957  [ate, isz, that, youuu]                                                                                                                                 \n",
       "31958  [to, see, nina, turner, on, the, airwaves, trying, to, wrap, herself, in, the, mantle, of, a, genuine, hero, like, shirley, chisolm, shame, imwithher]  \n",
       "31959  [listening, to, sad, songs, on, a, monday, morning, otw, to, work, is, sad]                                                                             \n",
       "31960  [sikh, temple, vandalised, in, in, calgary, wso, condemns, act]                                                                                         \n",
       "31961  [thank, you, for, you, follow]                                                                                                                          "
      ]
     },
     "execution_count": 6,
     "metadata": {},
     "output_type": "execute_result"
    }
   ],
   "source": [
    "df['tokenized'] = df['clean_tweet'].apply(lambda row: tokenize(row))\n",
    "df.tail()"
   ]
  },
  {
   "cell_type": "code",
   "execution_count": 7,
   "metadata": {},
   "outputs": [],
   "source": [
    "stop = set(stopwords.words('english'))\n",
    "stop.update(['amp', 'rt', 'cc'])\n",
    "stop = stop - set(['no', 'not'])"
   ]
  },
  {
   "cell_type": "code",
   "execution_count": 8,
   "metadata": {},
   "outputs": [],
   "source": [
    "def remove_stopwords(row):\n",
    "    return [t for t in row if t not in stop]"
   ]
  },
  {
   "cell_type": "code",
   "execution_count": 9,
   "metadata": {},
   "outputs": [
    {
     "data": {
      "text/html": [
       "<div>\n",
       "<style scoped>\n",
       "    .dataframe tbody tr th:only-of-type {\n",
       "        vertical-align: middle;\n",
       "    }\n",
       "\n",
       "    .dataframe tbody tr th {\n",
       "        vertical-align: top;\n",
       "    }\n",
       "\n",
       "    .dataframe thead th {\n",
       "        text-align: right;\n",
       "    }\n",
       "</style>\n",
       "<table border=\"1\" class=\"dataframe\">\n",
       "  <thead>\n",
       "    <tr style=\"text-align: right;\">\n",
       "      <th></th>\n",
       "      <th>label</th>\n",
       "      <th>tweet</th>\n",
       "      <th>target</th>\n",
       "      <th>clean_tweet</th>\n",
       "      <th>tokenized</th>\n",
       "    </tr>\n",
       "  </thead>\n",
       "  <tbody>\n",
       "    <tr>\n",
       "      <th>31957</th>\n",
       "      <td>0</td>\n",
       "      <td>ate @user isz that youuu?ã°âââã°âââã°âââã°âââã°âââã°âââã°âââã°âââã°âââã¢ââ¤ã¯â¸â</td>\n",
       "      <td>0</td>\n",
       "      <td>ate  isz that youuu</td>\n",
       "      <td>[ate, isz, youuu]</td>\n",
       "    </tr>\n",
       "    <tr>\n",
       "      <th>31958</th>\n",
       "      <td>0</td>\n",
       "      <td>to see nina turner on the airwaves trying to wrap herself in the mantle of a genuine hero like shirley chisolm. #shame #imwithher</td>\n",
       "      <td>0</td>\n",
       "      <td>to see nina turner on the airwaves trying to wrap herself in the mantle of a genuine hero like shirley chisolm shame imwithher</td>\n",
       "      <td>[see, nina, turner, airwaves, trying, wrap, mantle, genuine, hero, like, shirley, chisolm, shame, imwithher]</td>\n",
       "    </tr>\n",
       "    <tr>\n",
       "      <th>31959</th>\n",
       "      <td>0</td>\n",
       "      <td>listening to sad songs on a monday morning otw to work is sad</td>\n",
       "      <td>0</td>\n",
       "      <td>listening to sad songs on a monday morning otw to work is sad</td>\n",
       "      <td>[listening, sad, songs, monday, morning, otw, work, sad]</td>\n",
       "    </tr>\n",
       "    <tr>\n",
       "      <th>31960</th>\n",
       "      <td>1</td>\n",
       "      <td>@user #sikh #temple vandalised in in #calgary, #wso condemns  act</td>\n",
       "      <td>1</td>\n",
       "      <td>sikh temple vandalised in in calgary wso condemns  act</td>\n",
       "      <td>[sikh, temple, vandalised, calgary, wso, condemns, act]</td>\n",
       "    </tr>\n",
       "    <tr>\n",
       "      <th>31961</th>\n",
       "      <td>0</td>\n",
       "      <td>thank you @user for you follow</td>\n",
       "      <td>0</td>\n",
       "      <td>thank you  for you follow</td>\n",
       "      <td>[thank, follow]</td>\n",
       "    </tr>\n",
       "  </tbody>\n",
       "</table>\n",
       "</div>"
      ],
      "text/plain": [
       "       label  \\\n",
       "31957  0       \n",
       "31958  0       \n",
       "31959  0       \n",
       "31960  1       \n",
       "31961  0       \n",
       "\n",
       "                                                                                                                                     tweet  \\\n",
       "31957  ate @user isz that youuu?ã°âââã°âââã°âââã°âââã°âââã°âââã°âââã°âââã°âââã¢ââ¤ã¯â¸â                         \n",
       "31958    to see nina turner on the airwaves trying to wrap herself in the mantle of a genuine hero like shirley chisolm. #shame #imwithher   \n",
       "31959  listening to sad songs on a monday morning otw to work is sad                                                                         \n",
       "31960  @user #sikh #temple vandalised in in #calgary, #wso condemns  act                                                                     \n",
       "31961  thank you @user for you follow                                                                                                        \n",
       "\n",
       "       target  \\\n",
       "31957  0        \n",
       "31958  0        \n",
       "31959  0        \n",
       "31960  1        \n",
       "31961  0        \n",
       "\n",
       "                                                                                                                            clean_tweet  \\\n",
       "31957  ate  isz that youuu                                                                                                                \n",
       "31958    to see nina turner on the airwaves trying to wrap herself in the mantle of a genuine hero like shirley chisolm shame imwithher   \n",
       "31959  listening to sad songs on a monday morning otw to work is sad                                                                      \n",
       "31960   sikh temple vandalised in in calgary wso condemns  act                                                                            \n",
       "31961  thank you  for you follow                                                                                                          \n",
       "\n",
       "                                                                                                          tokenized  \n",
       "31957  [ate, isz, youuu]                                                                                             \n",
       "31958  [see, nina, turner, airwaves, trying, wrap, mantle, genuine, hero, like, shirley, chisolm, shame, imwithher]  \n",
       "31959  [listening, sad, songs, monday, morning, otw, work, sad]                                                      \n",
       "31960  [sikh, temple, vandalised, calgary, wso, condemns, act]                                                       \n",
       "31961  [thank, follow]                                                                                               "
      ]
     },
     "execution_count": 9,
     "metadata": {},
     "output_type": "execute_result"
    }
   ],
   "source": [
    "df['tokenized'] = df['tokenized'].apply(lambda row: remove_stopwords(row))\n",
    "df.tail()"
   ]
  },
  {
   "cell_type": "code",
   "execution_count": 10,
   "metadata": {},
   "outputs": [
    {
     "data": {
      "text/html": [
       "<div>\n",
       "<style scoped>\n",
       "    .dataframe tbody tr th:only-of-type {\n",
       "        vertical-align: middle;\n",
       "    }\n",
       "\n",
       "    .dataframe tbody tr th {\n",
       "        vertical-align: top;\n",
       "    }\n",
       "\n",
       "    .dataframe thead th {\n",
       "        text-align: right;\n",
       "    }\n",
       "</style>\n",
       "<table border=\"1\" class=\"dataframe\">\n",
       "  <thead>\n",
       "    <tr style=\"text-align: right;\">\n",
       "      <th></th>\n",
       "      <th>label</th>\n",
       "      <th>tweet</th>\n",
       "      <th>target</th>\n",
       "      <th>clean_tweet</th>\n",
       "      <th>tokenized</th>\n",
       "      <th>tokenized_int</th>\n",
       "    </tr>\n",
       "  </thead>\n",
       "  <tbody>\n",
       "    <tr>\n",
       "      <th>31957</th>\n",
       "      <td>0</td>\n",
       "      <td>ate @user isz that youuu?ã°âââã°âââã°âââã°âââã°âââã°âââã°âââã°âââã°âââã¢ââ¤ã¯â¸â</td>\n",
       "      <td>0</td>\n",
       "      <td>ate  isz that youuu</td>\n",
       "      <td>[ate, isz, youuu]</td>\n",
       "      <td>[2247, 0, 0]</td>\n",
       "    </tr>\n",
       "    <tr>\n",
       "      <th>31958</th>\n",
       "      <td>0</td>\n",
       "      <td>to see nina turner on the airwaves trying to wrap herself in the mantle of a genuine hero like shirley chisolm. #shame #imwithher</td>\n",
       "      <td>0</td>\n",
       "      <td>to see nina turner on the airwaves trying to wrap herself in the mantle of a genuine hero like shirley chisolm shame imwithher</td>\n",
       "      <td>[see, nina, turner, airwaves, trying, wrap, mantle, genuine, hero, like, shirley, chisolm, shame, imwithher]</td>\n",
       "      <td>[20, 0, 0, 0, 386, 3725, 0, 2864, 1043, 8, 0, 0, 909, 3650]</td>\n",
       "    </tr>\n",
       "    <tr>\n",
       "      <th>31959</th>\n",
       "      <td>0</td>\n",
       "      <td>listening to sad songs on a monday morning otw to work is sad</td>\n",
       "      <td>0</td>\n",
       "      <td>listening to sad songs on a monday morning otw to work is sad</td>\n",
       "      <td>[listening, sad, songs, monday, morning, otw, work, sad]</td>\n",
       "      <td>[949, 59, 1161, 207, 50, 0, 27, 59]</td>\n",
       "    </tr>\n",
       "    <tr>\n",
       "      <th>31960</th>\n",
       "      <td>1</td>\n",
       "      <td>@user #sikh #temple vandalised in in #calgary, #wso condemns  act</td>\n",
       "      <td>1</td>\n",
       "      <td>sikh temple vandalised in in calgary wso condemns  act</td>\n",
       "      <td>[sikh, temple, vandalised, calgary, wso, condemns, act]</td>\n",
       "      <td>[1408, 1173, 1446, 1261, 1447, 1448, 552]</td>\n",
       "    </tr>\n",
       "    <tr>\n",
       "      <th>31961</th>\n",
       "      <td>0</td>\n",
       "      <td>thank you @user for you follow</td>\n",
       "      <td>0</td>\n",
       "      <td>thank you  for you follow</td>\n",
       "      <td>[thank, follow]</td>\n",
       "      <td>[92, 85]</td>\n",
       "    </tr>\n",
       "  </tbody>\n",
       "</table>\n",
       "</div>"
      ],
      "text/plain": [
       "       label  \\\n",
       "31957  0       \n",
       "31958  0       \n",
       "31959  0       \n",
       "31960  1       \n",
       "31961  0       \n",
       "\n",
       "                                                                                                                                     tweet  \\\n",
       "31957  ate @user isz that youuu?ã°âââã°âââã°âââã°âââã°âââã°âââã°âââã°âââã°âââã¢ââ¤ã¯â¸â                         \n",
       "31958    to see nina turner on the airwaves trying to wrap herself in the mantle of a genuine hero like shirley chisolm. #shame #imwithher   \n",
       "31959  listening to sad songs on a monday morning otw to work is sad                                                                         \n",
       "31960  @user #sikh #temple vandalised in in #calgary, #wso condemns  act                                                                     \n",
       "31961  thank you @user for you follow                                                                                                        \n",
       "\n",
       "       target  \\\n",
       "31957  0        \n",
       "31958  0        \n",
       "31959  0        \n",
       "31960  1        \n",
       "31961  0        \n",
       "\n",
       "                                                                                                                            clean_tweet  \\\n",
       "31957  ate  isz that youuu                                                                                                                \n",
       "31958    to see nina turner on the airwaves trying to wrap herself in the mantle of a genuine hero like shirley chisolm shame imwithher   \n",
       "31959  listening to sad songs on a monday morning otw to work is sad                                                                      \n",
       "31960   sikh temple vandalised in in calgary wso condemns  act                                                                            \n",
       "31961  thank you  for you follow                                                                                                          \n",
       "\n",
       "                                                                                                          tokenized  \\\n",
       "31957  [ate, isz, youuu]                                                                                              \n",
       "31958  [see, nina, turner, airwaves, trying, wrap, mantle, genuine, hero, like, shirley, chisolm, shame, imwithher]   \n",
       "31959  [listening, sad, songs, monday, morning, otw, work, sad]                                                       \n",
       "31960  [sikh, temple, vandalised, calgary, wso, condemns, act]                                                        \n",
       "31961  [thank, follow]                                                                                                \n",
       "\n",
       "                                                     tokenized_int  \n",
       "31957  [2247, 0, 0]                                                 \n",
       "31958  [20, 0, 0, 0, 386, 3725, 0, 2864, 1043, 8, 0, 0, 909, 3650]  \n",
       "31959  [949, 59, 1161, 207, 50, 0, 27, 59]                          \n",
       "31960  [1408, 1173, 1446, 1261, 1447, 1448, 552]                    \n",
       "31961  [92, 85]                                                     "
      ]
     },
     "execution_count": 10,
     "metadata": {},
     "output_type": "execute_result"
    }
   ],
   "source": [
    "def update_vocab_counter(row):\n",
    "    for word in row:\n",
    "        vocab_counter[word] += 1\n",
    "vocab_counter = collections.Counter()\n",
    "df['tokenized'].apply(update_vocab_counter);\n",
    "vocab = sorted(vocab_counter, key=vocab_counter.get, reverse=True)\n",
    "max_words = 5000\n",
    "w2id = {w:i for i, w in enumerate(vocab[:max_words])}\n",
    "w2id['unk'] = 0\n",
    "def transform_to_ids(row):\n",
    "    return [w2id[w] if w in w2id else w2id['unk'] for w in row]\n",
    "df['tokenized_int'] = df['tokenized'].apply(lambda x: transform_to_ids(x))\n",
    "df.tail()"
   ]
  },
  {
   "cell_type": "code",
   "execution_count": 11,
   "metadata": {},
   "outputs": [],
   "source": [
    "lens = df['tokenized_int'].apply(lambda x: len(x))"
   ]
  },
  {
   "cell_type": "code",
   "execution_count": 12,
   "metadata": {},
   "outputs": [
    {
     "data": {
      "text/plain": [
       "(0, 24, 7.931637569613916)"
      ]
     },
     "execution_count": 12,
     "metadata": {},
     "output_type": "execute_result"
    }
   ],
   "source": [
    "min(lens), max(lens), np.mean(lens)"
   ]
  },
  {
   "cell_type": "code",
   "execution_count": 23,
   "metadata": {},
   "outputs": [],
   "source": [
    "maxlen = 24"
   ]
  },
  {
   "cell_type": "markdown",
   "metadata": {},
   "source": [
    "<h2> Processing </h2>"
   ]
  },
  {
   "cell_type": "code",
   "execution_count": 24,
   "metadata": {},
   "outputs": [],
   "source": [
    "X_train, X_test, y_train, y_test = train_test_split(df['tokenized_int'].values,\n",
    "                                                    df['target'].values, \n",
    "                                                    test_size=0.25, \n",
    "                                                    random_state=0)"
   ]
  },
  {
   "cell_type": "code",
   "execution_count": 25,
   "metadata": {},
   "outputs": [],
   "source": [
    "x_train = pad_sequences(X_train, maxlen=maxlen, value=0)\n",
    "x_test = pad_sequences(X_test, maxlen=maxlen, value=0)"
   ]
  },
  {
   "cell_type": "code",
   "execution_count": 26,
   "metadata": {},
   "outputs": [],
   "source": [
    "dummy_y = np_utils.to_categorical(y_train)\n",
    "dummy_y_test = np_utils.to_categorical(y_test)"
   ]
  },
  {
   "cell_type": "code",
   "execution_count": 37,
   "metadata": {},
   "outputs": [
    {
     "name": "stdout",
     "output_type": "stream",
     "text": [
      "2\n"
     ]
    }
   ],
   "source": [
    "mydim = len(list(set(df['target'])))\n",
    "print(mydim)\n",
    "def conv_model():\n",
    "    model = Sequential([Embedding(input_dim=max_words, output_dim=32, input_length=maxlen),\n",
    "                        Convolution1D(10, mydim, padding='same', activation='relu'),\n",
    "                        MaxPooling1D(),\n",
    "                        Flatten(),\n",
    "                        Dense(50, activation='relu'),\n",
    "                        Dense(mydim, activation='softmax')])\n",
    "\n",
    "    model.compile(loss='categorical_crossentropy', optimizer=Adam(), metrics=['accuracy'])\n",
    "    \n",
    "    return model"
   ]
  },
  {
   "cell_type": "code",
   "execution_count": 38,
   "metadata": {},
   "outputs": [],
   "source": [
    "estimator = KerasClassifier(build_fn=conv_model, epochs=10, batch_size=100, verbose=0)\n",
    "kfold = StratifiedKFold(n_splits=5, shuffle=True, random_state=0)"
   ]
  },
  {
   "cell_type": "code",
   "execution_count": 39,
   "metadata": {},
   "outputs": [
    {
     "name": "stdout",
     "output_type": "stream",
     "text": [
      "WARNING:tensorflow:From /anaconda3/lib/python3.7/site-packages/tensorflow/python/ops/math_ops.py:3066: to_int32 (from tensorflow.python.ops.math_ops) is deprecated and will be removed in a future version.\n",
      "Instructions for updating:\n",
      "Use tf.cast instead.\n"
     ]
    }
   ],
   "source": [
    "results = cross_val_score(estimator, x_train, y_train, cv=kfold)"
   ]
  },
  {
   "cell_type": "code",
   "execution_count": 40,
   "metadata": {},
   "outputs": [
    {
     "data": {
      "text/plain": [
       "(94.57260587432825, 0.1998905012979528)"
      ]
     },
     "execution_count": 40,
     "metadata": {},
     "output_type": "execute_result"
    }
   ],
   "source": [
    "results.mean()*100, results.std()*100"
   ]
  },
  {
   "cell_type": "code",
   "execution_count": 41,
   "metadata": {},
   "outputs": [
    {
     "data": {
      "text/plain": [
       "array([0.9464025 , 0.94263663, 0.94472257, 0.94618273, 0.94868586])"
      ]
     },
     "execution_count": 41,
     "metadata": {},
     "output_type": "execute_result"
    }
   ],
   "source": [
    "results"
   ]
  },
  {
   "cell_type": "code",
   "execution_count": null,
   "metadata": {},
   "outputs": [],
   "source": []
  }
 ],
 "metadata": {
  "kernelspec": {
   "display_name": "Python 3",
   "language": "python",
   "name": "python3"
  },
  "language_info": {
   "codemirror_mode": {
    "name": "ipython",
    "version": 3
   },
   "file_extension": ".py",
   "mimetype": "text/x-python",
   "name": "python",
   "nbconvert_exporter": "python",
   "pygments_lexer": "ipython3",
   "version": "3.7.1"
  }
 },
 "nbformat": 4,
 "nbformat_minor": 2
}
